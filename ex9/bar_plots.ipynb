{
 "cells": [
  {
   "cell_type": "code",
   "execution_count": 22,
   "id": "d1838c7f",
   "metadata": {},
   "outputs": [],
   "source": [
    "import matplotlib.pyplot as plt\n",
    "\n",
    "alphas = [1, 2.5, 5]\n",
    "n_clusters_init = [5, 20, 18]\n",
    "n_clusters_end = [4, 16, 12]"
   ]
  },
  {
   "cell_type": "code",
   "execution_count": 23,
   "id": "d7ea62fb",
   "metadata": {},
   "outputs": [
    {
     "data": {
      "image/png": "[encoded data removed]",
      "text/plain": [
       "<Figure size 432x288 with 1 Axes>"
      ]
     },
     "metadata": {
      "needs_background": "light"
     },
     "output_type": "display_data"
    }
   ],
   "source": [
    "fig, ax = plt.subplots()\n",
    "\n",
    "ax.bar(range(len(alphas)), n_clusters_init, tick_label=alphas)\n",
    "ax.set_xlabel(r\"$\\alpha$\")\n",
    "ax.set_ylabel(\"Num clusters\")\n",
    "\n",
    "ax.set_title(\"Num clusters at initialization\");\n",
    "\n",
    "ax.set_yticks(n_clusters_init);"
   ]
  },
  {
   "cell_type": "code",
   "execution_count": 24,
   "id": "cd5dbfc7",
   "metadata": {},
   "outputs": [
    {
     "data": {
      "image/png": "[encoded data removed]",
      "text/plain": [
       "<Figure size 432x288 with 1 Axes>"
      ]
     },
     "metadata": {
      "needs_background": "light"
     },
     "output_type": "display_data"
    }
   ],
   "source": [
    "fig, ax = plt.subplots()\n",
    "\n",
    "ax.bar(range(len(alphas)), n_clusters_end, tick_label=alphas)\n",
    "ax.set_xlabel(r\"$\\alpha$\")\n",
    "ax.set_ylabel(\"Num clusters\")\n",
    "\n",
    "ax.set_title(\"Num clusters after execution\");\n",
    "ax.set_yticks(n_clusters_end);"
   ]
  },
  {
   "cell_type": "code",
   "execution_count": null,
   "id": "f63a0027",
   "metadata": {},
   "outputs": [],
   "source": []
  }
 ],
 "metadata": {
  "kernelspec": {
   "display_name": "Python 3",
   "language": "python",
   "name": "python3"
  },
  "language_info": {
   "codemirror_mode": {
    "name": "ipython",
    "version": 3
   },
   "file_extension": ".py",
   "mimetype": "text/x-python",
   "name": "python",
   "nbconvert_exporter": "python",
   "pygments_lexer": "ipython3",
   "version": "3.8.10"
  }
 },
 "nbformat": 4,
 "nbformat_minor": 5
}
