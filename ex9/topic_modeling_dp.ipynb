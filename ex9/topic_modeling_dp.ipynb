{
 "cells": [
  {
   "cell_type": "code",
   "execution_count": 1,
   "metadata": {
    "scrolled": true
   },
   "outputs": [
    {
     "name": "stderr",
     "output_type": "stream",
     "text": [
      "/home/iron/Repositories/classes/ml_2_classes/ML2_Exercises/pgm/ex9/.env/lib/python3.8/site-packages/gensim/similarities/__init__.py:15: UserWarning: The gensim.similarities.levenshtein submodule is disabled, because the optional Levenshtein package <https://pypi.org/project/python-Levenshtein/> is unavailable. Install Levenhstein (e.g. `pip install python-Levenshtein`) to suppress this warning.\n",
      "  warnings.warn(msg)\n"
     ]
    }
   ],
   "source": [
    "%matplotlib inline\n",
    "import re\n",
    "import nltk\n",
    "import string\n",
    "from nltk import word_tokenize\n",
    "from nltk.corpus import stopwords\n",
    "from nltk.stem.porter import PorterStemmer\n",
    "from nltk.stem import WordNetLemmatizer\n",
    "from nltk import pos_tag\n",
    "import joblib\n",
    "from joblib import Parallel, delayed\n",
    "from tqdm.notebook import tqdm as tqdm\n",
    "from tqdm.notebook import trange\n",
    "import contextlib\n",
    "import numpy as np\n",
    "import pandas as pd\n",
    "from scipy.special import digamma\n",
    "from scipy.stats import norm as normal\n",
    "from pickle import dump, load\n",
    "from scipy.sparse import csr_matrix\n",
    "from gensim.corpora.dictionary import Dictionary\n",
    "from gensim.models import CoherenceModel, Word2Vec\n",
    "from gensim.parsing import strip_tags, strip_numeric, strip_multiple_whitespaces, stem_text, strip_punctuation, remove_stopwords\n",
    "from gensim.parsing import preprocess_string\n",
    "import os\n",
    "import sys\n",
    "import time\n",
    "\n",
    "\n"
   ]
  },
  {
   "cell_type": "code",
   "execution_count": 2,
   "metadata": {},
   "outputs": [],
   "source": [
    "tqdm.pandas()\n",
    "\n",
    "@contextlib.contextmanager\n",
    "def tqdm_joblib(tqdm_object):\n",
    "    \"\"\"Context manager to patch joblib to report into tqdm progress bar given as argument\"\"\"\n",
    "    class TqdmBatchCompletionCallback(joblib.parallel.BatchCompletionCallBack):\n",
    "        def __init__(self, *args, **kwargs):\n",
    "            super().__init__(*args, **kwargs)\n",
    "\n",
    "        def __call__(self, *args, **kwargs):\n",
    "            tqdm_object.update(n=self.batch_size)\n",
    "            return super().__call__(*args, **kwargs)\n",
    "\n",
    "    old_batch_callback = joblib.parallel.BatchCompletionCallBack\n",
    "    joblib.parallel.BatchCompletionCallBack = TqdmBatchCompletionCallback\n",
    "    try:\n",
    "        yield tqdm_object\n",
    "    finally:\n",
    "        joblib.parallel.BatchCompletionCallBack = old_batch_callback\n",
    "        tqdm_object.close()  "
   ]
  },
  {
   "cell_type": "code",
   "execution_count": 3,
   "metadata": {},
   "outputs": [
    {
     "name": "stderr",
     "output_type": "stream",
     "text": [
      "[nltk_data] Downloading package wordnet to /home/iron/nltk_data...\n",
      "[nltk_data]   Package wordnet is already up-to-date!\n",
      "[nltk_data] Downloading package stopwords to /home/iron/nltk_data...\n",
      "[nltk_data]   Package stopwords is already up-to-date!\n",
      "[nltk_data] Downloading package punkt to /home/iron/nltk_data...\n",
      "[nltk_data]   Package punkt is already up-to-date!\n"
     ]
    },
    {
     "data": {
      "text/plain": [
       "True"
      ]
     },
     "execution_count": 3,
     "metadata": {},
     "output_type": "execute_result"
    }
   ],
   "source": [
    "nltk.download('wordnet')\n",
    "nltk.download('stopwords')\n",
    "nltk.download('punkt')"
   ]
  },
  {
   "cell_type": "code",
   "execution_count": 4,
   "metadata": {},
   "outputs": [
    {
     "data": {
      "text/plain": [
       "0    767\\n\\nSELF-ORGANIZATION OF ASSOCIATIVE DATABA...\n",
       "1    683\\n\\nA MEAN FIELD THEORY OF LAYER IV OF VISU...\n",
       "2    394\\n\\nSTORING COVARIANCE BY THE ASSOCIATIVE\\n...\n",
       "3    Bayesian Query Construction for Neural\\nNetwor...\n",
       "4    Neural Network Ensembles, Cross\\nValidation, a...\n",
       "Name: paper_text, dtype: object"
      ]
     },
     "execution_count": 4,
     "metadata": {},
     "output_type": "execute_result"
    }
   ],
   "source": [
    "n = 25\n",
    "\n",
    "seed = 42\n",
    "data_train = pd.read_csv(\"data/papers.csv\")[\"paper_text\"]\n",
    "data_train.head()"
   ]
  },
  {
   "cell_type": "code",
   "execution_count": 5,
   "metadata": {},
   "outputs": [
    {
     "data": {
      "text/plain": [
       "0       767\\n\\nSELF-ORGANIZATION OF ASSOCIATIVE DATABA...\n",
       "1       683\\n\\nA MEAN FIELD THEORY OF LAYER IV OF VISU...\n",
       "2       394\\n\\nSTORING COVARIANCE BY THE ASSOCIATIVE\\n...\n",
       "3       Bayesian Query Construction for Neural\\nNetwor...\n",
       "4       Neural Network Ensembles, Cross\\nValidation, a...\n",
       "                              ...                        \n",
       "7236    Single Transistor Learning Synapses\\n\\nPaul Ha...\n",
       "7237    Bias, Variance and the Combination of\\nLeast S...\n",
       "7238    A Real Time Clustering CMOS\\nNeural Engine\\nT....\n",
       "7239    Learning direction in global motion: two\\nclas...\n",
       "7240    Correlation and Interpolation Networks for\\nRe...\n",
       "Name: paper_text, Length: 7241, dtype: object"
      ]
     },
     "execution_count": 5,
     "metadata": {},
     "output_type": "execute_result"
    }
   ],
   "source": [
    "data_train"
   ]
  },
  {
   "cell_type": "code",
   "execution_count": 6,
   "metadata": {},
   "outputs": [
    {
     "data": {
      "text/plain": [
       "0    Variational Inference for Crowdsourcing\\n\\nQia...\n",
       "1    Learning a Concept Hierarchy from\\nMulti-label...\n",
       "2    Online combinatorial optimization with stochas...\n",
       "3    Inferring sparse representations of continuous...\n",
       "4    Pruning Random Forests for Prediction on a Bud...\n",
       "Name: paper_text, dtype: object"
      ]
     },
     "execution_count": 6,
     "metadata": {},
     "output_type": "execute_result"
    }
   ],
   "source": [
    "data = pd.Series(data_train).sample(n).copy()\n",
    "data.reset_index(drop=True, inplace=True)\n",
    "data.head()"
   ]
  },
  {
   "cell_type": "code",
   "execution_count": 7,
   "metadata": {},
   "outputs": [],
   "source": [
    "clean_stem_filters = [strip_tags,\n",
    "                        strip_numeric,\n",
    "                        strip_punctuation, \n",
    "                        lambda x: x.lower(),\n",
    "                        lambda s: re.sub(r'\\b\\w{1,2}\\b', ' ', s),\n",
    "                        strip_multiple_whitespaces,\n",
    "                        remove_stopwords\n",
    "                     ]\n",
    "\n",
    "def text_processing(document):\n",
    "    lemmatizer = WordNetLemmatizer()\n",
    "    return [lemmatizer.lemmatize(i) for i in preprocess_string(document, clean_stem_filters)]"
   ]
  },
  {
   "cell_type": "code",
   "execution_count": 8,
   "metadata": {},
   "outputs": [],
   "source": [
    "def proc_func(data):\n",
    "    with tqdm_joblib(tqdm(desc=\"Preprocessing\", total=len(data))) as progress_bar:\n",
    "        data_proc = Parallel(n_jobs=1)(delayed(text_processing)(text) for text in data)\n",
    "        data_proc = pd.Series(data_proc, index=data.index, name='data')\n",
    "    return data_proc"
   ]
  },
  {
   "cell_type": "code",
   "execution_count": 9,
   "metadata": {},
   "outputs": [
    {
     "data": {
      "application/vnd.jupyter.widget-view+json": {
       "model_id": "475fef80d0bd46baa821f45f4cf49fbf",
       "version_major": 2,
       "version_minor": 0
      },
      "text/plain": [
       "Preprocessing:   0%|          | 0/25 [00:00<?, ?it/s]"
      ]
     },
     "metadata": {},
     "output_type": "display_data"
    },
    {
     "data": {
      "text/plain": [
       "0    [variational, inference, crowdsourcing, qiang,...\n",
       "1    [learning, concept, hierarchy, multi, labeled,...\n",
       "2    [online, combinatorial, optimization, stochast...\n",
       "3    [inferring, sparse, representation, continuous...\n",
       "4    [pruning, random, forest, prediction, budget, ...\n",
       "Name: data, dtype: object"
      ]
     },
     "execution_count": 9,
     "metadata": {},
     "output_type": "execute_result"
    }
   ],
   "source": [
    "data_proc = proc_func(data)\n",
    "data_proc.head()"
   ]
  },
  {
   "cell_type": "code",
   "execution_count": 10,
   "metadata": {},
   "outputs": [],
   "source": [
    "def encode2(text, word_dict):\n",
    "    return np.asarray(word_dict.doc2idx(text))"
   ]
  },
  {
   "cell_type": "code",
   "execution_count": 11,
   "metadata": {},
   "outputs": [
    {
     "data": {
      "application/vnd.jupyter.widget-view+json": {
       "model_id": "c1e9284993414bbf81d2d22fa0d9ef52",
       "version_major": 2,
       "version_minor": 0
      },
      "text/plain": [
       "  0%|          | 0/25 [00:00<?, ?it/s]"
      ]
     },
     "metadata": {},
     "output_type": "display_data"
    }
   ],
   "source": [
    "word_dict = Dictionary(data_proc)\n",
    "data_enc = data_proc.progress_apply(lambda x: encode2(x, word_dict))"
   ]
  },
  {
   "cell_type": "code",
   "execution_count": 12,
   "metadata": {},
   "outputs": [],
   "source": [
    "D = len(data_enc)\n",
    "Ns = data_enc.apply(lambda x: len(x)).to_numpy().astype(int)\n",
    "N = Ns.sum()\n",
    "V = len(word_dict)\n",
    "Gs = [None] * D"
   ]
  },
  {
   "cell_type": "code",
   "execution_count": 13,
   "metadata": {
    "scrolled": true
   },
   "outputs": [
    {
     "name": "stdout",
     "output_type": "stream",
     "text": [
      "25 [2622 2885 2381 2166 2257 2380 2363 1342 2922 3159 2645 1957 1875 2902\n",
      " 1390 3129 2011 3101 2289 2298 2436 1135 2690 2577  998] 57910 6827 25\n"
     ]
    }
   ],
   "source": [
    "print(D, Ns, N, V, len(Gs))"
   ]
  },
  {
   "cell_type": "code",
   "execution_count": 14,
   "metadata": {},
   "outputs": [],
   "source": [
    "# https://people.eecs.berkeley.edu/~jordan/papers/hdp.pdf\n",
    "# https://www.cs.toronto.edu/~radford/ftp/mixmc.pdf"
   ]
  },
  {
   "cell_type": "code",
   "execution_count": 64,
   "metadata": {},
   "outputs": [],
   "source": [
    "class DP0:\n",
    "    def __init__(self, a, H_var):\n",
    "        self.a = a\n",
    "        self.H_var = H_var\n",
    "        self.H = normal(0, np.sqrt(H_var))\n",
    "        self.K = 0 # Dishes\n",
    "        self.phi_k = [] # Dish ID\n",
    "        self.t_k = [] # Number of tables serving dish K\n",
    "\n",
    "        # Sufficient statistics\n",
    "        self.phi_k_mean = []\n",
    "        self.phi_k_dist = []\n",
    "        self.n_k = []\n",
    "        \n",
    "    def init_sample(self):\n",
    "        denom = 1./(sum(self.t_k)+self.a)\n",
    "        alphas = np.asarray(self.t_k + [self.a]) * denom\n",
    "        probs = np.random.dirichlet(alphas)\n",
    "        k = np.random.choice(range(self.K+1), p=probs)\n",
    "        if k+1 > self.K:\n",
    "            self._create_table()\n",
    "\n",
    "        return self.phi_k[k], k\n",
    "    \n",
    "    def sample(self):\n",
    "        denom = 1./(sum(self.t_k) + self.a)\n",
    "\n",
    "        post_var = dp.H_var / (1. + np.asarray(self.n_k))\n",
    "#         post_mean = post_var * dp.phi_k_mean/dp.H_var\n",
    "        \n",
    "        int_fh = ( 1. / np.sqrt(2 * np.pi * (self.H_var + post_var)) ) #  * np.exp(-(1./post_var) * np.square(v-post_mean))\n",
    "        int_fg0 = 1. / np.sqrt(2 * np.pi * (self.H_var+self.H_var))\n",
    "\n",
    "        alphas = np.asarray(list(self.n_k * int_fh) + [self.a * int_fg0]) * denom\n",
    "        alphas /= np.sum(alphas)\n",
    "        alphas += 1e-15\n",
    "        probs = np.random.dirichlet(alphas)\n",
    "        \n",
    "        k = np.random.choice(range(self.K+1), p=probs)\n",
    "        if k+1 > self.K:\n",
    "            self._create_table()\n",
    "\n",
    "        return self.phi_k[k], k\n",
    "    \n",
    "    def _create_table(self):\n",
    "        self.K += 1\n",
    "        self.phi_k.append(self.H.rvs())\n",
    "        self.phi_k_mean.append(0)\n",
    "        self.n_k.append(0)\n",
    "        self.phi_k_dist.append(normal(self.phi_k[-1], np.sqrt(self.H_var)))\n",
    "            \n",
    "    def increase_dish_count(self, dish):\n",
    "        if len(self.t_k) <= dish:\n",
    "            self.t_k += [0] * ((dish+1) - len(self.t_k))\n",
    "        self.t_k[dish] += 1\n",
    "\n",
    "    def decrease_dish_count(self, dish):\n",
    "        if len(self.t_k) > dish:\n",
    "            self.t_k[dish] -= 1\n",
    "            \n",
    "    def update_ks(self):\n",
    "        for i in range(self.K):\n",
    "            mean = self.phi_k_mean[i]/self.n_k[i] if self.n_k[i] != 0 else 0\n",
    "            self.phi_k_dist[i] = normal(mean, np.sqrt(self.H_var))\n",
    "            self.phi_k[i] = mean\n",
    "\n",
    "class DP1:\n",
    "    def __init__(self, a, DP, words):\n",
    "        self.a = a\n",
    "        self.G = DP[0]\n",
    "        self.t = 0 # Num tables\n",
    "        self.m = [] # Num of tables serving k\n",
    "        self.n_t = [] # Num of customers at table t\n",
    "        self.k_t = [] # Index of phi_k corresponding\n",
    "        self.theta_i = [None] * len(words) # Table index where customer i sits\n",
    "        self.words = words\n",
    "        self.embeddings = np.zeros(len(words))\n",
    "        \n",
    "        self.t_means = []\n",
    "        \n",
    "        self._init_sample()\n",
    "        \n",
    "    def _init_sample(self):\n",
    "        for i in range(len(self.words)):\n",
    "            denom = 1./(i+self.a)\n",
    "            if len(self.n_t) == 0:\n",
    "                alphas = np.asarray([self.a * denom])\n",
    "            else:\n",
    "                alphas = np.asarray(self.n_t + [self.a]) * denom\n",
    "            alphas += 1e-15\n",
    "            probs = np.random.dirichlet(alphas)\n",
    "            t = np.random.choice(range(self.t+1), p=probs)\n",
    "            if t+1 > self.t:\n",
    "                self._init_create_table()\n",
    "                    \n",
    "            self.n_t[t] += 1\n",
    "            self.theta_i[i] = t\n",
    "            k = self.k_t[self.theta_i[i]]\n",
    "            self.embeddings[i] = self.G.phi_k_dist[k].rvs()\n",
    "            self.t_means[t] += self.embeddings[i]\n",
    "            self.G.phi_k_mean[k] += self.embeddings[i]\n",
    "            self.G.n_k[k] += 1 \n",
    "    \n",
    "    def _init_create_table(self):\n",
    "        self.t += 1\n",
    "        phi_k, k = self.G.init_sample()\n",
    "        self.k_t.append(k)\n",
    "        if len(self.m) <= k:\n",
    "            self.m.append(1)\n",
    "        else:\n",
    "            self.m[k] += 1\n",
    "        if len(self.n_t) <= self.t:\n",
    "            self.n_t.append(0)\n",
    "            self.t_means.append(0)\n",
    "                \n",
    "        self.G.increase_dish_count(k)\n",
    "        \n",
    "    def _create_table(self):\n",
    "        self.t += 1\n",
    "        phi_k, k = self.G.sample()\n",
    "        self.k_t.append(k)\n",
    "        if len(self.m) <= k:\n",
    "            self.m.append(1)\n",
    "        else:\n",
    "            self.m[k] += 1\n",
    "        if len(self.n_t) <= self.t:\n",
    "            self.n_t.append(0)\n",
    "            self.t_means.append(0)\n",
    "                \n",
    "        self.G.increase_dish_count(k)\n",
    "        \n",
    "    def swipe(self):\n",
    "        idxs = list(range(len(self.words)))\n",
    "        np.random.shuffle(idxs)\n",
    "        for i in idxs:\n",
    "            v = self.embeddings[i]\n",
    "            t_ = self.theta_i[i]\n",
    "            k_ = self.k_t[t_]\n",
    "            \n",
    "            denom = 1./(sum(dp.t_k)+dp.a)\n",
    "\n",
    "            self.G.phi_k_mean[k_] -= v\n",
    "            self.G.n_k[k_] -= 1\n",
    "            self.t_means[t_] -= self.embeddings[i]\n",
    "            \n",
    "            if self.G.n_k[k_] < 0:\n",
    "                print(\"Found 0 at g.n_k[{}]\".format(k_))\n",
    "                self.G.n_k[k_] = 0\n",
    "            \n",
    "            self.n_t[t_] -= 1\n",
    "            \n",
    "            if self.n_t[t_] == 0:\n",
    "                self.G.decrease_dish_count(k_)\n",
    "            \n",
    "            if self.n_t[t_] < 0:\n",
    "                print(\"Found 0 at n_t[{}]\".format(t_))\n",
    "                self.n_t[t_] = 0\n",
    "\n",
    "            post_var = self.G.H_var / (1. + np.asarray(self.n_t))\n",
    "            post_mean = post_var * np.asarray(self.t_means)/self.G.H_var\n",
    "            \n",
    "            int_fh = (1. / np.sqrt(2 * np.pi * (self.G.H_var + post_var)) ) * np.exp(-(1./(self.G.H_var + post_var)) * np.square(v-post_mean))\n",
    "            int_fg0 = 1. / np.sqrt(2 * np.pi * (self.G.H_var + self.G.H_var)) * np.exp(-(1./(self.G.H_var + self.G.H_var)) * np.square(v))\n",
    "\n",
    "            alphas = np.asarray(list(self.n_t * int_fh) + [self.G.a * int_fg0]) * denom\n",
    "            alphas /= np.sum(alphas)\n",
    "            alphas += 1e-15\n",
    "            probs = np.random.dirichlet(alphas)\n",
    "            \n",
    "            t = np.random.choice(range(self.t+1), p=probs)\n",
    "            \n",
    "            if t+1 > self.t:\n",
    "                self._create_table()\n",
    "                \n",
    "            self.n_t[t] += 1\n",
    "            self.theta_i[i] = t\n",
    "            k = self.k_t[t]\n",
    "            self.embeddings[i] = self.G.phi_k_dist[k].rvs()\n",
    "            self.t_means[t] += self.embeddings[i]\n",
    "            self.G.phi_k_mean[k] += self.embeddings[i]\n",
    "            self.G.n_k[k] += 1 "
   ]
  },
  {
   "cell_type": "code",
   "execution_count": 65,
   "metadata": {},
   "outputs": [
    {
     "data": {
      "text/plain": [
       "(5, 1)"
      ]
     },
     "execution_count": 65,
     "metadata": {},
     "output_type": "execute_result"
    }
   ],
   "source": [
    "H_var = 1\n",
    "a = 5\n",
    "a, H_var"
   ]
  },
  {
   "cell_type": "code",
   "execution_count": 66,
   "metadata": {},
   "outputs": [],
   "source": [
    "dp = [DP0(a, H_var)][0]\n",
    "gjs = []"
   ]
  },
  {
   "cell_type": "code",
   "execution_count": 67,
   "metadata": {},
   "outputs": [
    {
     "data": {
      "application/vnd.jupyter.widget-view+json": {
       "model_id": "d08348b4ecd84eff8d6c3a534802d7fd",
       "version_major": 2,
       "version_minor": 0
      },
      "text/plain": [
       "  0%|          | 0/25 [00:00<?, ?it/s]"
      ]
     },
     "metadata": {},
     "output_type": "display_data"
    }
   ],
   "source": [
    "for d in tqdm(data_enc):\n",
    "    gjs.append(DP1(5, [dp], list(d)))"
   ]
  },
  {
   "cell_type": "code",
   "execution_count": 68,
   "metadata": {},
   "outputs": [
    {
     "data": {
      "text/plain": [
       "[25, 303, 106, 46, 133, 53, 22, 7, 16, 42, 1, 3, 9, 1, 2, 1, 1, 1]"
      ]
     },
     "execution_count": 68,
     "metadata": {},
     "output_type": "execute_result"
    }
   ],
   "source": [
    "dp.t_k"
   ]
  },
  {
   "cell_type": "code",
   "execution_count": 69,
   "metadata": {},
   "outputs": [
    {
     "data": {
      "text/plain": [
       "[2989,\n",
       " 22430,\n",
       " 5173,\n",
       " 3547,\n",
       " 10484,\n",
       " 4695,\n",
       " 2655,\n",
       " 273,\n",
       " 1133,\n",
       " 2772,\n",
       " 11,\n",
       " 867,\n",
       " 687,\n",
       " 23,\n",
       " 5,\n",
       " 98,\n",
       " 67,\n",
       " 1]"
      ]
     },
     "execution_count": 69,
     "metadata": {},
     "output_type": "execute_result"
    }
   ],
   "source": [
    "dp.n_k"
   ]
  },
  {
   "cell_type": "code",
   "execution_count": 70,
   "metadata": {},
   "outputs": [
    {
     "data": {
      "text/plain": [
       "[0, 1, 2, 3, 4, 5, 6, 7, 8, 9, 10, 11, 12, 13, 14, 15, 16, 17]"
      ]
     },
     "execution_count": 70,
     "metadata": {},
     "output_type": "execute_result"
    }
   ],
   "source": [
    "[i for i, v in enumerate(dp.n_k) if v != 0]"
   ]
  },
  {
   "cell_type": "code",
   "execution_count": 71,
   "metadata": {},
   "outputs": [
    {
     "data": {
      "text/plain": [
       "<matplotlib.collections.LineCollection at 0x7f2ac5676bb0>"
      ]
     },
     "execution_count": 71,
     "metadata": {},
     "output_type": "execute_result"
    },
    {
     "data": {
      "image/png": "[encoded data removed]",
      "text/plain": [
       "<Figure size 432x288 with 1 Axes>"
      ]
     },
     "metadata": {
      "needs_background": "light"
     },
     "output_type": "display_data"
    }
   ],
   "source": [
    "import matplotlib.pyplot as plt\n",
    "\n",
    "x = np.arange(-7, 7, 0.01)\n",
    "y = dp.H.pdf(x)\n",
    "\n",
    "plt.plot(x, y, linestyle='--')\n",
    "\n",
    "plt.vlines(dp.phi_k, ymin=0, ymax=np.array(dp.t_k)/sum(dp.t_k), color='k', alpha=0.75)"
   ]
  },
  {
   "cell_type": "code",
   "execution_count": 72,
   "metadata": {},
   "outputs": [],
   "source": [
    "dp.update_ks()"
   ]
  },
  {
   "cell_type": "code",
   "execution_count": 73,
   "metadata": {
    "scrolled": false
   },
   "outputs": [
    {
     "data": {
      "application/vnd.jupyter.widget-view+json": {
       "model_id": "3ec40e2fc96842c7abf883a2664cb454",
       "version_major": 2,
       "version_minor": 0
      },
      "text/plain": [
       "  0%|          | 0/200 [00:00<?, ?it/s]"
      ]
     },
     "metadata": {},
     "output_type": "display_data"
    },
    {
     "name": "stderr",
     "output_type": "stream",
     "text": [
      "invalid command name \"139821666249920delayed_destroy\"\n",
      "    while executing\n",
      "\"139821666249920delayed_destroy\"\n",
      "    (\"after\" script)\n"
     ]
    },
    {
     "data": {
      "image/png": "[encoded data removed]",
      "text/plain": [
       "<Figure size 432x288 with 1 Axes>"
      ]
     },
     "metadata": {
      "needs_background": "light"
     },
     "output_type": "display_data"
    }
   ],
   "source": [
    "import matplotlib\n",
    "matplotlib.use('TkAgg')\n",
    "import matplotlib.pyplot as plt\n",
    "\n",
    "fig, ax = plt.subplots()\n",
    "\n",
    "x = np.arange(-7, 7, 0.01)\n",
    "y = dp.H.pdf(x)\n",
    "\n",
    "for i in tqdm(range(200)):\n",
    "    for g in gjs:\n",
    "        g.swipe()\n",
    "    dp.update_ks()\n",
    "    \n",
    "    ax.clear()\n",
    "    ax.plot(x, y, linestyle='--')\n",
    "    ax.vlines(dp.phi_k, ymin=0, ymax=np.array(dp.t_k)/sum(dp.t_k), color='k', alpha=0.75)\n",
    "\n",
    "    plt.pause(0.05)\n"
   ]
  },
  {
   "cell_type": "code",
   "execution_count": 74,
   "metadata": {},
   "outputs": [
    {
     "data": {
      "text/plain": [
       "<matplotlib.collections.LineCollection at 0x7f2ac41c0820>"
      ]
     },
     "execution_count": 74,
     "metadata": {},
     "output_type": "execute_result"
    },
    {
     "data": {
      "image/png": "[encoded data removed]",
      "text/plain": [
       "<Figure size 432x288 with 1 Axes>"
      ]
     },
     "metadata": {
      "needs_background": "light"
     },
     "output_type": "display_data"
    }
   ],
   "source": [
    "import matplotlib.pyplot as plt\n",
    "\n",
    "x = np.arange(-7, 7, 0.01)\n",
    "y = dp.H.pdf(x)\n",
    "\n",
    "plt.plot(x, y, linestyle='--')\n",
    "\n",
    "plt.vlines(dp.phi_k, ymin=0, ymax=np.array(dp.t_k)/sum(dp.t_k), color='k', alpha=0.75)"
   ]
  },
  {
   "cell_type": "code",
   "execution_count": 75,
   "metadata": {},
   "outputs": [
    {
     "data": {
      "text/plain": [
       "[4, 1, 14, 67, 66, 140, 0, 16, 0, 6, 266, 211, 3, 21, 0, 0, 0, 0, 0]"
      ]
     },
     "execution_count": 75,
     "metadata": {},
     "output_type": "execute_result"
    }
   ],
   "source": [
    "dp.t_k"
   ]
  },
  {
   "cell_type": "code",
   "execution_count": 76,
   "metadata": {},
   "outputs": [
    {
     "data": {
      "text/plain": [
       "[145,\n",
       " 42,\n",
       " 1176,\n",
       " 3898,\n",
       " 4589,\n",
       " 10822,\n",
       " 0,\n",
       " 446,\n",
       " 0,\n",
       " 302,\n",
       " 19683,\n",
       " 15658,\n",
       " 300,\n",
       " 849,\n",
       " 0,\n",
       " 0,\n",
       " 0,\n",
       " 0,\n",
       " 0]"
      ]
     },
     "execution_count": 76,
     "metadata": {},
     "output_type": "execute_result"
    }
   ],
   "source": [
    "dp.n_k"
   ]
  },
  {
   "cell_type": "code",
   "execution_count": 77,
   "metadata": {},
   "outputs": [
    {
     "data": {
      "text/plain": [
       "[0, 1, 2, 3, 4, 5, 7, 9, 10, 11, 12, 13]"
      ]
     },
     "execution_count": 77,
     "metadata": {},
     "output_type": "execute_result"
    }
   ],
   "source": [
    "[i for i, v in enumerate(dp.n_k) if v != 0]"
   ]
  },
  {
   "cell_type": "code",
   "execution_count": null,
   "metadata": {},
   "outputs": [],
   "source": []
  },
  {
   "cell_type": "code",
   "execution_count": 78,
   "metadata": {},
   "outputs": [
    {
     "data": {
      "text/plain": [
       "19"
      ]
     },
     "execution_count": 78,
     "metadata": {},
     "output_type": "execute_result"
    }
   ],
   "source": [
    "dp.K"
   ]
  },
  {
   "cell_type": "code",
   "execution_count": 79,
   "metadata": {},
   "outputs": [
    {
     "data": {
      "text/plain": [
       "array([[0., 0., 0., ..., 0., 0., 0.],\n",
       "       [0., 0., 0., ..., 0., 0., 0.],\n",
       "       [0., 0., 1., ..., 0., 0., 0.],\n",
       "       ...,\n",
       "       [0., 0., 0., ..., 0., 0., 0.],\n",
       "       [0., 0., 0., ..., 0., 0., 0.],\n",
       "       [0., 0., 0., ..., 0., 0., 0.]])"
      ]
     },
     "execution_count": 79,
     "metadata": {},
     "output_type": "execute_result"
    }
   ],
   "source": [
    "k_counts = np.zeros((V, dp.K))\n",
    "\n",
    "for g in gjs:\n",
    "    for w in np.unique(g.words):\n",
    "        ts = np.asarray(g.theta_i)[np.where(g.words == w)]\n",
    "        ks = np.asarray(g.k_t)[ts]\n",
    "        ks, counts = np.unique(ks, return_counts=True)\n",
    "        k_counts[w, ks] += counts\n",
    "        \n",
    "k_counts"
   ]
  },
  {
   "cell_type": "code",
   "execution_count": 80,
   "metadata": {},
   "outputs": [
    {
     "data": {
      "text/plain": [
       "array([[ 0.,  0.,  0., ..., 12.,  0.,  0.],\n",
       "       [ 0.,  0.,  0., ..., 23.,  0.,  0.],\n",
       "       [ 0.,  0.,  1., ..., 10.,  0.,  0.],\n",
       "       ...,\n",
       "       [ 0.,  0.,  0., ...,  0.,  0.,  0.],\n",
       "       [ 0.,  0.,  0., ...,  0.,  0.,  0.],\n",
       "       [ 0.,  0.,  0., ...,  0.,  0.,  0.]])"
      ]
     },
     "execution_count": 80,
     "metadata": {},
     "output_type": "execute_result"
    }
   ],
   "source": [
    "word_topic_counts = k_counts[:,k_counts.sum(axis=0) > 0]\n",
    "word_topic_counts"
   ]
  },
  {
   "cell_type": "code",
   "execution_count": 81,
   "metadata": {},
   "outputs": [
    {
     "data": {
      "text/plain": [
       "(6827, 12)"
      ]
     },
     "execution_count": 81,
     "metadata": {},
     "output_type": "execute_result"
    }
   ],
   "source": [
    "word_topic_counts.shape"
   ]
  },
  {
   "cell_type": "code",
   "execution_count": 82,
   "metadata": {},
   "outputs": [
    {
     "data": {
      "text/plain": [
       "array([[  6.,   6.,   5.,   4.,   3.,   3.,   2.,   2.,   2.,   2.],\n",
       "       [  2.,   2.,   2.,   1.,   1.,   1.,   1.,   1.,   1.,   1.],\n",
       "       [ 15.,  14.,  13.,   9.,   8.,   8.,   8.,   8.,   7.,   7.],\n",
       "       [ 48.,  39.,  38.,  34.,  32.,  27.,  27.,  26.,  25.,  25.],\n",
       "       [ 46.,  37.,  34.,  28.,  28.,  28.,  27.,  27.,  27.,  25.],\n",
       "       [115., 101.,  93.,  84.,  78.,  64.,  64.,  59.,  54.,  54.],\n",
       "       [  7.,   7.,   4.,   4.,   4.,   4.,   3.,   3.,   3.,   3.],\n",
       "       [  6.,   5.,   4.,   4.,   3.,   3.,   3.,   3.,   3.,   3.],\n",
       "       [185., 180., 177., 152., 141., 112., 103.,  99.,  96.,  94.],\n",
       "       [168., 142., 131., 113., 106.,  95.,  89.,  84.,  83.,  81.],\n",
       "       [  5.,   5.,   4.,   4.,   4.,   3.,   3.,   3.,   3.,   3.],\n",
       "       [ 19.,  15.,  11.,  11.,   8.,   8.,   8.,   7.,   7.,   6.]])"
      ]
     },
     "execution_count": 82,
     "metadata": {},
     "output_type": "execute_result"
    }
   ],
   "source": [
    "np.flip(np.sort(word_topic_counts, axis=0)[-10:].T, axis=1)"
   ]
  },
  {
   "cell_type": "code",
   "execution_count": 83,
   "metadata": {},
   "outputs": [
    {
     "data": {
      "text/plain": [
       "[['matrix',\n",
       "  'method',\n",
       "  'rank',\n",
       "  'figure',\n",
       "  'noise',\n",
       "  'log',\n",
       "  'general',\n",
       "  'armp',\n",
       "  'affine',\n",
       "  'iteration',\n",
       "  'data',\n",
       "  'application',\n",
       "  'svt',\n",
       "  'restricted',\n",
       "  'problem'],\n",
       " ['value',\n",
       "  'bandit',\n",
       "  'bound',\n",
       "  'optimal',\n",
       "  'referred',\n",
       "  'according',\n",
       "  'believe',\n",
       "  'typical',\n",
       "  'error',\n",
       "  'present',\n",
       "  'significantly',\n",
       "  'help',\n",
       "  'potential',\n",
       "  'kaplan',\n",
       "  'lai'],\n",
       " ['method',\n",
       "  'test',\n",
       "  'model',\n",
       "  'matrix',\n",
       "  'statistic',\n",
       "  'data',\n",
       "  'result',\n",
       "  'node',\n",
       "  'learning',\n",
       "  'precision',\n",
       "  'time',\n",
       "  'based',\n",
       "  'algorithm',\n",
       "  'difference',\n",
       "  'maximum'],\n",
       " ['learning',\n",
       "  'function',\n",
       "  'algorithm',\n",
       "  'model',\n",
       "  'task',\n",
       "  'feature',\n",
       "  'reward',\n",
       "  'topic',\n",
       "  'set',\n",
       "  'data',\n",
       "  'parameter',\n",
       "  'value',\n",
       "  'method',\n",
       "  'document',\n",
       "  'performance'],\n",
       " ['time',\n",
       "  'algorithm',\n",
       "  'function',\n",
       "  'model',\n",
       "  'topic',\n",
       "  'distribution',\n",
       "  'set',\n",
       "  'method',\n",
       "  'problem',\n",
       "  'vector',\n",
       "  'use',\n",
       "  'space',\n",
       "  'value',\n",
       "  'result',\n",
       "  'log'],\n",
       " ['function',\n",
       "  'algorithm',\n",
       "  'model',\n",
       "  'time',\n",
       "  'learning',\n",
       "  'method',\n",
       "  'distribution',\n",
       "  'set',\n",
       "  'value',\n",
       "  'number',\n",
       "  'problem',\n",
       "  'feature',\n",
       "  'reward',\n",
       "  'topic',\n",
       "  'data'],\n",
       " ['method',\n",
       "  'model',\n",
       "  'time',\n",
       "  'standard',\n",
       "  'distribution',\n",
       "  'gaussian',\n",
       "  'cycle',\n",
       "  'proposed',\n",
       "  'linear',\n",
       "  'constancy',\n",
       "  'independent',\n",
       "  'difference',\n",
       "  'perform',\n",
       "  'data',\n",
       "  'inequality'],\n",
       " ['label',\n",
       "  'error',\n",
       "  'correctly',\n",
       "  'algorithm',\n",
       "  'learn',\n",
       "  'number',\n",
       "  'neighbor',\n",
       "  'update',\n",
       "  'denoising',\n",
       "  'noise',\n",
       "  'incorrectly',\n",
       "  'best',\n",
       "  'theorem',\n",
       "  'let',\n",
       "  'learning'],\n",
       " ['function',\n",
       "  'algorithm',\n",
       "  'model',\n",
       "  'time',\n",
       "  'learning',\n",
       "  'set',\n",
       "  'feature',\n",
       "  'distribution',\n",
       "  'method',\n",
       "  'problem',\n",
       "  'log',\n",
       "  'value',\n",
       "  'data',\n",
       "  'number',\n",
       "  'parameter'],\n",
       " ['function',\n",
       "  'algorithm',\n",
       "  'model',\n",
       "  'time',\n",
       "  'learning',\n",
       "  'method',\n",
       "  'set',\n",
       "  'problem',\n",
       "  'topic',\n",
       "  'distribution',\n",
       "  'feature',\n",
       "  'value',\n",
       "  'reward',\n",
       "  'number',\n",
       "  'matrix'],\n",
       " ['function',\n",
       "  'regime',\n",
       "  'value',\n",
       "  'problem',\n",
       "  'weight',\n",
       "  'expected',\n",
       "  'feedback',\n",
       "  'pool',\n",
       "  'regret',\n",
       "  'threshold',\n",
       "  'bound',\n",
       "  'layer',\n",
       "  'arg',\n",
       "  'inequality',\n",
       "  'slope'],\n",
       " ['topic',\n",
       "  'set',\n",
       "  'document',\n",
       "  'label',\n",
       "  'lda',\n",
       "  'distribution',\n",
       "  'hierarchy',\n",
       "  'time',\n",
       "  'model',\n",
       "  'word',\n",
       "  'node',\n",
       "  'test',\n",
       "  'user',\n",
       "  'method',\n",
       "  'log']]"
      ]
     },
     "execution_count": 83,
     "metadata": {},
     "output_type": "execute_result"
    }
   ],
   "source": [
    "topics_encoded = np.flip(np.argsort(word_topic_counts, axis=0)[-15:].T, axis=1)\n",
    "topics = []\n",
    "for i, t in enumerate(topics_encoded):\n",
    "    topic_words = []\n",
    "    for j, w in enumerate(t):\n",
    "        if t[j] == 0:\n",
    "            break\n",
    "        topic_words.append(word_dict[w])\n",
    "    topics.append(topic_words)\n",
    "        \n",
    "topics"
   ]
  },
  {
   "cell_type": "code",
   "execution_count": 35,
   "metadata": {},
   "outputs": [
    {
     "data": {
      "text/plain": [
       "array([[ 333,  542,   25, ..., 4487, 4488,    0],\n",
       "       [ 333,   25,  542, ..., 5658, 3353, 4349],\n",
       "       [6513,  437,  469, ..., 4540, 4541,    0],\n",
       "       [ 333,   25,  542, ..., 3942, 3937, 3413]])"
      ]
     },
     "execution_count": 35,
     "metadata": {},
     "output_type": "execute_result"
    }
   ],
   "source": [
    "topics_encoded"
   ]
  },
  {
   "cell_type": "code",
   "execution_count": null,
   "metadata": {},
   "outputs": [],
   "source": []
  }
 ],
 "metadata": {
  "kernelspec": {
   "display_name": "Python 3",
   "language": "python",
   "name": "python3"
  },
  "language_info": {
   "codemirror_mode": {
    "name": "ipython",
    "version": 3
   },
   "file_extension": ".py",
   "mimetype": "text/x-python",
   "name": "python",
   "nbconvert_exporter": "python",
   "pygments_lexer": "ipython3",
   "version": "3.8.10"
  }
 },
 "nbformat": 4,
 "nbformat_minor": 4
}
