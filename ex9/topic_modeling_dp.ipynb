{
 "cells": [
  {
   "cell_type": "code",
   "execution_count": 1,
   "metadata": {
    "scrolled": true
   },
   "outputs": [
    {
     "name": "stderr",
     "output_type": "stream",
     "text": [
      "/home/iron/Repositories/classes/ml_2_classes/ML2_Exercises/pgm/ex9/.env/lib/python3.8/site-packages/gensim/similarities/__init__.py:15: UserWarning: The gensim.similarities.levenshtein submodule is disabled, because the optional Levenshtein package <https://pypi.org/project/python-Levenshtein/> is unavailable. Install Levenhstein (e.g. `pip install python-Levenshtein`) to suppress this warning.\n",
      "  warnings.warn(msg)\n"
     ]
    }
   ],
   "source": [
    "%matplotlib inline\n",
    "import re\n",
    "import nltk\n",
    "import string\n",
    "from nltk import word_tokenize\n",
    "from nltk.corpus import stopwords\n",
    "from nltk.stem.porter import PorterStemmer\n",
    "from nltk.stem import WordNetLemmatizer\n",
    "from nltk import pos_tag\n",
    "import joblib\n",
    "from joblib import Parallel, delayed\n",
    "from tqdm.notebook import tqdm as tqdm\n",
    "from tqdm.notebook import trange\n",
    "import contextlib\n",
    "import numpy as np\n",
    "import pandas as pd\n",
    "from scipy.special import digamma\n",
    "from scipy.stats import norm as normal\n",
    "from pickle import dump, load\n",
    "from scipy.sparse import csr_matrix\n",
    "from gensim.corpora.dictionary import Dictionary\n",
    "from gensim.models import CoherenceModel, Word2Vec\n",
    "from gensim.parsing import strip_tags, strip_numeric, strip_multiple_whitespaces, stem_text, strip_punctuation, remove_stopwords\n",
    "from gensim.parsing import preprocess_string\n",
    "import os\n",
    "import sys\n",
    "import time\n",
    "\n",
    "\n"
   ]
  },
  {
   "cell_type": "code",
   "execution_count": 2,
   "metadata": {},
   "outputs": [],
   "source": [
    "tqdm.pandas()\n",
    "\n",
    "@contextlib.contextmanager\n",
    "def tqdm_joblib(tqdm_object):\n",
    "    \"\"\"Context manager to patch joblib to report into tqdm progress bar given as argument\"\"\"\n",
    "    class TqdmBatchCompletionCallback(joblib.parallel.BatchCompletionCallBack):\n",
    "        def __init__(self, *args, **kwargs):\n",
    "            super().__init__(*args, **kwargs)\n",
    "\n",
    "        def __call__(self, *args, **kwargs):\n",
    "            tqdm_object.update(n=self.batch_size)\n",
    "            return super().__call__(*args, **kwargs)\n",
    "\n",
    "    old_batch_callback = joblib.parallel.BatchCompletionCallBack\n",
    "    joblib.parallel.BatchCompletionCallBack = TqdmBatchCompletionCallback\n",
    "    try:\n",
    "        yield tqdm_object\n",
    "    finally:\n",
    "        joblib.parallel.BatchCompletionCallBack = old_batch_callback\n",
    "        tqdm_object.close()  "
   ]
  },
  {
   "cell_type": "code",
   "execution_count": 3,
   "metadata": {},
   "outputs": [
    {
     "name": "stderr",
     "output_type": "stream",
     "text": [
      "[nltk_data] Downloading package wordnet to /home/iron/nltk_data...\n",
      "[nltk_data]   Package wordnet is already up-to-date!\n",
      "[nltk_data] Downloading package stopwords to /home/iron/nltk_data...\n",
      "[nltk_data]   Package stopwords is already up-to-date!\n",
      "[nltk_data] Downloading package punkt to /home/iron/nltk_data...\n",
      "[nltk_data]   Package punkt is already up-to-date!\n"
     ]
    },
    {
     "data": {
      "text/plain": [
       "True"
      ]
     },
     "execution_count": 3,
     "metadata": {},
     "output_type": "execute_result"
    }
   ],
   "source": [
    "nltk.download('wordnet')\n",
    "nltk.download('stopwords')\n",
    "nltk.download('punkt')"
   ]
  },
  {
   "cell_type": "code",
   "execution_count": 4,
   "metadata": {},
   "outputs": [
    {
     "data": {
      "text/plain": [
       "0    767\\n\\nSELF-ORGANIZATION OF ASSOCIATIVE DATABA...\n",
       "1    683\\n\\nA MEAN FIELD THEORY OF LAYER IV OF VISU...\n",
       "2    394\\n\\nSTORING COVARIANCE BY THE ASSOCIATIVE\\n...\n",
       "3    Bayesian Query Construction for Neural\\nNetwor...\n",
       "4    Neural Network Ensembles, Cross\\nValidation, a...\n",
       "Name: paper_text, dtype: object"
      ]
     },
     "execution_count": 4,
     "metadata": {},
     "output_type": "execute_result"
    }
   ],
   "source": [
    "n = 25\n",
    "\n",
    "seed = 42\n",
    "data_train = pd.read_csv(\"data/papers.csv\")[\"paper_text\"]\n",
    "data_train.head()"
   ]
  },
  {
   "cell_type": "code",
   "execution_count": 5,
   "metadata": {},
   "outputs": [
    {
     "data": {
      "text/plain": [
       "0       767\\n\\nSELF-ORGANIZATION OF ASSOCIATIVE DATABA...\n",
       "1       683\\n\\nA MEAN FIELD THEORY OF LAYER IV OF VISU...\n",
       "2       394\\n\\nSTORING COVARIANCE BY THE ASSOCIATIVE\\n...\n",
       "3       Bayesian Query Construction for Neural\\nNetwor...\n",
       "4       Neural Network Ensembles, Cross\\nValidation, a...\n",
       "                              ...                        \n",
       "7236    Single Transistor Learning Synapses\\n\\nPaul Ha...\n",
       "7237    Bias, Variance and the Combination of\\nLeast S...\n",
       "7238    A Real Time Clustering CMOS\\nNeural Engine\\nT....\n",
       "7239    Learning direction in global motion: two\\nclas...\n",
       "7240    Correlation and Interpolation Networks for\\nRe...\n",
       "Name: paper_text, Length: 7241, dtype: object"
      ]
     },
     "execution_count": 5,
     "metadata": {},
     "output_type": "execute_result"
    }
   ],
   "source": [
    "data_train"
   ]
  },
  {
   "cell_type": "code",
   "execution_count": 6,
   "metadata": {},
   "outputs": [
    {
     "data": {
      "text/plain": [
       "0    Training Knowledge-Based Neural Networks to\\nR...\n",
       "1    Adaptive choice of grid and time\\nreinforcemen...\n",
       "2    Symbolic Dynamic Programming for Continuous\\nS...\n",
       "3    Stress, noradrenaline, and realistic predictio...\n",
       "4    Polynomial Uniform Convergence of\\nRelative Fr...\n",
       "Name: paper_text, dtype: object"
      ]
     },
     "execution_count": 6,
     "metadata": {},
     "output_type": "execute_result"
    }
   ],
   "source": [
    "data = pd.Series(data_train).sample(n).copy()\n",
    "data.reset_index(drop=True, inplace=True)\n",
    "data.head()"
   ]
  },
  {
   "cell_type": "code",
   "execution_count": 7,
   "metadata": {},
   "outputs": [],
   "source": [
    "clean_stem_filters = [strip_tags,\n",
    "                        strip_numeric,\n",
    "                        strip_punctuation, \n",
    "                        lambda x: x.lower(),\n",
    "                        lambda s: re.sub(r'\\b\\w{1,2}\\b', ' ', s),\n",
    "                        strip_multiple_whitespaces,\n",
    "                        remove_stopwords\n",
    "                     ]\n",
    "\n",
    "def text_processing(document):\n",
    "    lemmatizer = WordNetLemmatizer()\n",
    "    return [lemmatizer.lemmatize(i) for i in preprocess_string(document, clean_stem_filters)]"
   ]
  },
  {
   "cell_type": "code",
   "execution_count": 8,
   "metadata": {},
   "outputs": [],
   "source": [
    "def proc_func(data):\n",
    "    with tqdm_joblib(tqdm(desc=\"Preprocessing\", total=len(data))) as progress_bar:\n",
    "        data_proc = Parallel(n_jobs=1)(delayed(text_processing)(text) for text in data)\n",
    "        data_proc = pd.Series(data_proc, index=data.index, name='data')\n",
    "    return data_proc"
   ]
  },
  {
   "cell_type": "code",
   "execution_count": 9,
   "metadata": {},
   "outputs": [
    {
     "data": {
      "application/vnd.jupyter.widget-view+json": {
       "model_id": "d99e471ba5114c66946e6c73009dab1f",
       "version_major": 2,
       "version_minor": 0
      },
      "text/plain": [
       "Preprocessing:   0%|          | 0/25 [00:00<?, ?it/s]"
      ]
     },
     "metadata": {},
     "output_type": "display_data"
    },
    {
     "data": {
      "text/plain": [
       "0    [training, knowledge, based, neural, network, ...\n",
       "1    [adaptive, choice, grid, time, reinforcement, ...\n",
       "2    [symbolic, dynamic, programming, continuous, s...\n",
       "3    [stress, noradrenaline, realistic, prediction,...\n",
       "4    [polynomial, uniform, convergence, relative, f...\n",
       "Name: data, dtype: object"
      ]
     },
     "execution_count": 9,
     "metadata": {},
     "output_type": "execute_result"
    }
   ],
   "source": [
    "data_proc = proc_func(data)\n",
    "data_proc.head()"
   ]
  },
  {
   "cell_type": "code",
   "execution_count": 10,
   "metadata": {},
   "outputs": [],
   "source": [
    "def encode2(text, word_dict):\n",
    "    return np.asarray(word_dict.doc2idx(text))"
   ]
  },
  {
   "cell_type": "code",
   "execution_count": 11,
   "metadata": {},
   "outputs": [
    {
     "data": {
      "application/vnd.jupyter.widget-view+json": {
       "model_id": "55696ea0a89743df9d3c64bceacba34e",
       "version_major": 2,
       "version_minor": 0
      },
      "text/plain": [
       "  0%|          | 0/25 [00:00<?, ?it/s]"
      ]
     },
     "metadata": {},
     "output_type": "display_data"
    }
   ],
   "source": [
    "word_dict = Dictionary(data_proc)\n",
    "data_enc = data_proc.progress_apply(lambda x: encode2(x, word_dict))"
   ]
  },
  {
   "cell_type": "code",
   "execution_count": 12,
   "metadata": {},
   "outputs": [],
   "source": [
    "D = len(data_enc)\n",
    "Ns = data_enc.apply(lambda x: len(x)).to_numpy().astype(int)\n",
    "N = Ns.sum()\n",
    "V = len(word_dict)\n",
    "Gs = [None] * D"
   ]
  },
  {
   "cell_type": "code",
   "execution_count": 13,
   "metadata": {
    "scrolled": true
   },
   "outputs": [
    {
     "name": "stdout",
     "output_type": "stream",
     "text": [
      "25 [1418 1235 1796 2419  559 1115 1588 1530  448 2310 1836 1196 2267 1071\n",
      " 2922 1589 3223 2591 2127 2312 1791 2005 1722 3174 1463] 45707 6001 25\n"
     ]
    }
   ],
   "source": [
    "print(D, Ns, N, V, len(Gs))"
   ]
  },
  {
   "cell_type": "code",
   "execution_count": 14,
   "metadata": {},
   "outputs": [],
   "source": [
    "# https://people.eecs.berkeley.edu/~jordan/papers/hdp.pdf\n",
    "# https://www.cs.toronto.edu/~radford/ftp/mixmc.pdf"
   ]
  },
  {
   "cell_type": "code",
   "execution_count": 15,
   "metadata": {},
   "outputs": [],
   "source": [
    "class DP0:\n",
    "    def __init__(self, a, H_var):\n",
    "        self.a = a\n",
    "        self.H_var = H_var\n",
    "        self.H = normal(0, np.sqrt(H_var))\n",
    "        self.K = 0 # Dishes\n",
    "        self.phi_k = [] # Dish ID\n",
    "        self.t_k = [] # Number of tables serving dish K\n",
    "\n",
    "        # Sufficient statistics\n",
    "        self.phi_k_mean = []\n",
    "        self.phi_k_dist = []\n",
    "        self.n_k = []\n",
    "        \n",
    "    def init_sample(self):\n",
    "        denom = 1./(sum(self.t_k)+self.a)\n",
    "        alphas = np.asarray(self.t_k + [self.a]) * denom\n",
    "        probs = np.random.dirichlet(alphas)\n",
    "        k = np.random.choice(range(self.K+1), p=probs)\n",
    "        if k+1 > self.K:\n",
    "            self._create_table()\n",
    "\n",
    "        return self.phi_k[k], k\n",
    "    \n",
    "    def sample(self):\n",
    "        denom = 1./(sum(self.t_k) + self.a)\n",
    "\n",
    "        post_var = dp.H_var / (1. + np.asarray(self.n_k))\n",
    "        # post_mean = post_var * dp.phi_k_mean/dp.H_var\n",
    "        int_fh = 1. / np.sqrt(2 * np.pi * (self.H_var + post_var))\n",
    "        int_fg0 = 1. / np.sqrt(2 * np.pi * (self.H_var+self.H_var))\n",
    "\n",
    "        alphas = np.asarray(list(self.n_k * int_fh) + [self.a * int_fg0]) * denom\n",
    "        alphas /= np.sum(alphas)\n",
    "        alphas += 1e-15\n",
    "        probs = np.random.dirichlet(alphas)\n",
    "        \n",
    "        k = np.random.choice(range(self.K+1), p=probs)\n",
    "        if k+1 > self.K:\n",
    "            self._create_table()\n",
    "\n",
    "        return self.phi_k[k], k\n",
    "    \n",
    "    def _create_table(self):\n",
    "        self.K += 1\n",
    "        self.phi_k.append(self.H.rvs())\n",
    "        self.phi_k_mean.append(0)\n",
    "        self.n_k.append(0)\n",
    "        self.phi_k_dist.append(normal(self.phi_k[-1], np.sqrt(self.H_var)))\n",
    "            \n",
    "    def increase_dish_count(self, dish):\n",
    "        if len(self.t_k) <= dish:\n",
    "            self.t_k += [0] * ((dish+1) - len(self.t_k))\n",
    "        self.t_k[dish] += 1\n",
    "\n",
    "    def decrease_dish_count(self, dish):\n",
    "        if len(self.t_k) > dish:\n",
    "            self.t_k[dish] -= 1\n",
    "            \n",
    "    def update_ks(self):\n",
    "        for i in range(self.K):\n",
    "            mean = self.phi_k_mean[i]/self.n_k[i] if self.n_k[i] != 0 else 0\n",
    "            self.phi_k_dist[i] = normal(mean, np.sqrt(self.H_var))\n",
    "            self.phi_k[i] = mean\n",
    "\n",
    "class DP1:\n",
    "    def __init__(self, a, DP, words):\n",
    "        self.a = a\n",
    "        self.G = DP[0]\n",
    "        self.t = 0 # Num tables\n",
    "        self.psi_t = [] # Dish served at table t\n",
    "        self.m = [] # Num of tables serving k\n",
    "        self.n_t = [] # Num of customers at table t\n",
    "        self.k_t = [] # Index of phi_k corresponding to psi_t\n",
    "        self.theta_i = [None] * len(words) # Table index where customer i sits\n",
    "        self.words = words\n",
    "        self.embeddings = np.zeros(len(words))\n",
    "        \n",
    "        self._init_sample()\n",
    "        \n",
    "    def _init_sample(self):\n",
    "        for i in range(len(self.words)):\n",
    "            denom = 1./(i+self.a)\n",
    "            if len(self.n_t) == 0:\n",
    "                alphas = np.asarray([self.a * denom])\n",
    "            else:\n",
    "                alphas = np.asarray(self.n_t + [self.a]) * denom\n",
    "            alphas += 1e-15\n",
    "            probs = np.random.dirichlet(alphas)\n",
    "            t = np.random.choice(range(self.t+1), p=probs)\n",
    "            if t+1 > self.t:\n",
    "                self._init_create_table()\n",
    "                    \n",
    "            self.n_t[t] += 1\n",
    "            self.theta_i[i] = t\n",
    "            k = self.k_t[self.theta_i[i]]\n",
    "            self.embeddings[i] = self.G.phi_k_dist[k].rvs()\n",
    "            self.G.phi_k_mean[k] += self.embeddings[i]\n",
    "            self.G.n_k[k] += 1 \n",
    "    \n",
    "    def _init_create_table(self):\n",
    "        self.t += 1\n",
    "        phi_k, k = self.G.init_sample()\n",
    "        self.psi_t.append(phi_k)\n",
    "        self.k_t.append(k)\n",
    "        if len(self.m) <= k:\n",
    "            self.m.append(1)\n",
    "        else:\n",
    "            self.m[k] += 1\n",
    "        if len(self.n_t) <= self.t:\n",
    "            self.n_t.append(0)\n",
    "                \n",
    "        self.G.increase_dish_count(k)\n",
    "        \n",
    "    def _create_table(self):\n",
    "        self.t += 1\n",
    "        phi_k, k = self.G.sample()\n",
    "        self.psi_t.append(phi_k)\n",
    "        self.k_t.append(k)\n",
    "        if len(self.m) <= k:\n",
    "            self.m.append(1)\n",
    "        else:\n",
    "            self.m[k] += 1\n",
    "        if len(self.n_t) <= self.t:\n",
    "            self.n_t.append(0)\n",
    "                \n",
    "        self.G.increase_dish_count(k)\n",
    "        \n",
    "    def swipe(self):\n",
    "        idxs = list(range(len(self.words)))\n",
    "        np.random.shuffle(idxs)\n",
    "        for i in idxs:\n",
    "            v = self.embeddings[i]\n",
    "            t = self.theta_i[i]\n",
    "            k = self.k_t[t]\n",
    "            \n",
    "            denom = 1./(sum(dp.t_k)+dp.a)\n",
    "\n",
    "            self.G.phi_k_mean[k] -= v\n",
    "            self.G.n_k[k] -= 1\n",
    "            \n",
    "            self.n_t[t] -= 1\n",
    "            \n",
    "            post_var = self.G.H_var / (1. + np.asarray(self.n_t))\n",
    "            # post_mean = post_var * dp.phi_k_mean/dp.H_var\n",
    "            \n",
    "            int_fh = 1. / np.sqrt(2 * np.pi * (self.G.H_var + post_var))\n",
    "            int_fg0 = 1. / np.sqrt(2 * np.pi * (self.G.H_var + self.G.H_var))\n",
    "\n",
    "            alphas = np.asarray(list(self.n_t * int_fh) + [self.G.a * int_fg0]) * denom\n",
    "            alphas /= np.sum(alphas)\n",
    "            alphas += 1e-15\n",
    "            probs = np.random.dirichlet(alphas)\n",
    "            \n",
    "            t = np.random.choice(range(self.t+1), p=probs)\n",
    "            \n",
    "            if t+1 > self.t:\n",
    "                self._create_table()\n",
    "                \n",
    "            self.n_t[t] += 1\n",
    "            self.theta_i[i] = t\n",
    "            k = self.k_t[t]\n",
    "            self.embeddings[i] = self.G.phi_k_dist[k].rvs()\n",
    "            self.G.phi_k_mean[k] += self.embeddings[i]\n",
    "            self.G.n_k[k] += 1 "
   ]
  },
  {
   "cell_type": "code",
   "execution_count": 16,
   "metadata": {},
   "outputs": [
    {
     "data": {
      "text/plain": [
       "(5, 1)"
      ]
     },
     "execution_count": 16,
     "metadata": {},
     "output_type": "execute_result"
    }
   ],
   "source": [
    "H_var = 1\n",
    "a = 5\n",
    "a, H_var"
   ]
  },
  {
   "cell_type": "code",
   "execution_count": 17,
   "metadata": {},
   "outputs": [],
   "source": [
    "dp = [DP0(a, H_var)][0]\n",
    "gjs = []"
   ]
  },
  {
   "cell_type": "code",
   "execution_count": 18,
   "metadata": {},
   "outputs": [
    {
     "data": {
      "application/vnd.jupyter.widget-view+json": {
       "model_id": "08dabb86d9d54c61946060e1ddbc3941",
       "version_major": 2,
       "version_minor": 0
      },
      "text/plain": [
       "  0%|          | 0/25 [00:00<?, ?it/s]"
      ]
     },
     "metadata": {},
     "output_type": "display_data"
    }
   ],
   "source": [
    "for d in tqdm(data_enc):\n",
    "    gjs.append(DP1(5, [dp], list(d)))"
   ]
  },
  {
   "cell_type": "code",
   "execution_count": 19,
   "metadata": {},
   "outputs": [
    {
     "data": {
      "text/plain": [
       "<matplotlib.collections.LineCollection at 0x7fc9ae2fb5e0>"
      ]
     },
     "execution_count": 19,
     "metadata": {},
     "output_type": "execute_result"
    },
    {
     "data": {
      "image/png": "[encoded data removed]",
      "text/plain": [
       "<Figure size 432x288 with 1 Axes>"
      ]
     },
     "metadata": {
      "needs_background": "light"
     },
     "output_type": "display_data"
    }
   ],
   "source": [
    "import matplotlib.pyplot as plt\n",
    "\n",
    "x = np.arange(-7, 7, 0.01)\n",
    "y = dp.H.pdf(x)\n",
    "\n",
    "plt.plot(x, y, linestyle='--')\n",
    "\n",
    "plt.vlines(dp.phi_k, ymin=0, ymax=np.array(dp.t_k)/sum(dp.t_k), color='k', alpha=0.75)"
   ]
  },
  {
   "cell_type": "code",
   "execution_count": 20,
   "metadata": {},
   "outputs": [],
   "source": [
    "dp.update_ks()"
   ]
  },
  {
   "cell_type": "code",
   "execution_count": null,
   "metadata": {
    "scrolled": false
   },
   "outputs": [
    {
     "data": {
      "application/vnd.jupyter.widget-view+json": {
       "model_id": "381a2ba76c154ec790aa6e689a257783",
       "version_major": 2,
       "version_minor": 0
      },
      "text/plain": [
       "  0%|          | 0/200 [00:00<?, ?it/s]"
      ]
     },
     "metadata": {},
     "output_type": "display_data"
    }
   ],
   "source": [
    "import matplotlib\n",
    "matplotlib.use('TkAgg')\n",
    "import matplotlib.pyplot as plt\n",
    "\n",
    "fig, ax = plt.subplots()\n",
    "\n",
    "x = np.arange(-7, 7, 0.01)\n",
    "y = dp.H.pdf(x)\n",
    "\n",
    "for i in tqdm(range(200)):\n",
    "    for g in gjs:\n",
    "        g.swipe()\n",
    "    dp.update_ks()\n",
    "    \n",
    "    ax.clear()\n",
    "    ax.plot(x, y, linestyle='--')\n",
    "    ax.vlines(dp.phi_k, ymin=0, ymax=np.array(dp.t_k)/sum(dp.t_k), color='k', alpha=0.75)\n",
    "\n",
    "    plt.pause(0.05)\n"
   ]
  },
  {
   "cell_type": "code",
   "execution_count": null,
   "metadata": {},
   "outputs": [],
   "source": [
    "import matplotlib.pyplot as plt\n",
    "\n",
    "x = np.arange(-7, 7, 0.01)\n",
    "y = dp.H.pdf(x)\n",
    "\n",
    "plt.plot(x, y, linestyle='--')\n",
    "\n",
    "plt.vlines(dp.phi_k, ymin=0, ymax=np.array(dp.t_k)/sum(dp.t_k), color='k', alpha=0.75)"
   ]
  },
  {
   "cell_type": "code",
   "execution_count": null,
   "metadata": {},
   "outputs": [],
   "source": []
  }
 ],
 "metadata": {
  "kernelspec": {
   "display_name": "Python 3",
   "language": "python",
   "name": "python3"
  },
  "language_info": {
   "codemirror_mode": {
    "name": "ipython",
    "version": 3
   },
   "file_extension": ".py",
   "mimetype": "text/x-python",
   "name": "python",
   "nbconvert_exporter": "python",
   "pygments_lexer": "ipython3",
   "version": "3.8.10"
  }
 },
 "nbformat": 4,
 "nbformat_minor": 4
}
