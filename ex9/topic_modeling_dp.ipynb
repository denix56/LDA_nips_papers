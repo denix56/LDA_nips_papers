{
 "cells": [
  {
   "cell_type": "code",
   "execution_count": 1,
   "metadata": {
    "scrolled": true
   },
   "outputs": [
    {
     "name": "stderr",
     "output_type": "stream",
     "text": [
      "/home/iron/Repositories/classes/ml_2_classes/ML2_Exercises/pgm/ex9/.env/lib/python3.8/site-packages/gensim/similarities/__init__.py:15: UserWarning: The gensim.similarities.levenshtein submodule is disabled, because the optional Levenshtein package <https://pypi.org/project/python-Levenshtein/> is unavailable. Install Levenhstein (e.g. `pip install python-Levenshtein`) to suppress this warning.\n",
      "  warnings.warn(msg)\n"
     ]
    }
   ],
   "source": [
    "%matplotlib inline\n",
    "import re\n",
    "import nltk\n",
    "import string\n",
    "from nltk import word_tokenize\n",
    "from nltk.corpus import stopwords\n",
    "from nltk.stem.porter import PorterStemmer\n",
    "from nltk.stem import WordNetLemmatizer\n",
    "from nltk import pos_tag\n",
    "import joblib\n",
    "from joblib import Parallel, delayed\n",
    "from tqdm.notebook import tqdm as tqdm\n",
    "from tqdm.notebook import trange\n",
    "import contextlib\n",
    "import numpy as np\n",
    "import pandas as pd\n",
    "from scipy.special import digamma\n",
    "from scipy.stats import norm as normal\n",
    "from pickle import dump, load\n",
    "from scipy.sparse import csr_matrix\n",
    "from gensim.corpora.dictionary import Dictionary\n",
    "from gensim.models import CoherenceModel, Word2Vec\n",
    "from gensim.parsing import strip_tags, strip_numeric, strip_multiple_whitespaces, stem_text, strip_punctuation, remove_stopwords\n",
    "from gensim.parsing import preprocess_string\n",
    "import os\n",
    "import sys\n",
    "import time\n",
    "\n",
    "\n"
   ]
  },
  {
   "cell_type": "code",
   "execution_count": 2,
   "metadata": {},
   "outputs": [],
   "source": [
    "tqdm.pandas()\n",
    "\n",
    "@contextlib.contextmanager\n",
    "def tqdm_joblib(tqdm_object):\n",
    "    \"\"\"Context manager to patch joblib to report into tqdm progress bar given as argument\"\"\"\n",
    "    class TqdmBatchCompletionCallback(joblib.parallel.BatchCompletionCallBack):\n",
    "        def __init__(self, *args, **kwargs):\n",
    "            super().__init__(*args, **kwargs)\n",
    "\n",
    "        def __call__(self, *args, **kwargs):\n",
    "            tqdm_object.update(n=self.batch_size)\n",
    "            return super().__call__(*args, **kwargs)\n",
    "\n",
    "    old_batch_callback = joblib.parallel.BatchCompletionCallBack\n",
    "    joblib.parallel.BatchCompletionCallBack = TqdmBatchCompletionCallback\n",
    "    try:\n",
    "        yield tqdm_object\n",
    "    finally:\n",
    "        joblib.parallel.BatchCompletionCallBack = old_batch_callback\n",
    "        tqdm_object.close()  "
   ]
  },
  {
   "cell_type": "code",
   "execution_count": 3,
   "metadata": {},
   "outputs": [
    {
     "name": "stderr",
     "output_type": "stream",
     "text": [
      "[nltk_data] Downloading package wordnet to /home/iron/nltk_data...\n",
      "[nltk_data]   Package wordnet is already up-to-date!\n",
      "[nltk_data] Downloading package stopwords to /home/iron/nltk_data...\n",
      "[nltk_data]   Package stopwords is already up-to-date!\n",
      "[nltk_data] Downloading package punkt to /home/iron/nltk_data...\n",
      "[nltk_data]   Package punkt is already up-to-date!\n"
     ]
    },
    {
     "data": {
      "text/plain": [
       "True"
      ]
     },
     "execution_count": 3,
     "metadata": {},
     "output_type": "execute_result"
    }
   ],
   "source": [
    "nltk.download('wordnet')\n",
    "nltk.download('stopwords')\n",
    "nltk.download('punkt')"
   ]
  },
  {
   "cell_type": "code",
   "execution_count": 4,
   "metadata": {},
   "outputs": [
    {
     "data": {
      "text/plain": [
       "0    767\\n\\nSELF-ORGANIZATION OF ASSOCIATIVE DATABA...\n",
       "1    683\\n\\nA MEAN FIELD THEORY OF LAYER IV OF VISU...\n",
       "2    394\\n\\nSTORING COVARIANCE BY THE ASSOCIATIVE\\n...\n",
       "3    Bayesian Query Construction for Neural\\nNetwor...\n",
       "4    Neural Network Ensembles, Cross\\nValidation, a...\n",
       "Name: paper_text, dtype: object"
      ]
     },
     "execution_count": 4,
     "metadata": {},
     "output_type": "execute_result"
    }
   ],
   "source": [
    "n = 100\n",
    "\n",
    "seed = 42\n",
    "data_train = pd.read_csv(\"data/papers.csv\")[\"paper_text\"]\n",
    "data_train.head()"
   ]
  },
  {
   "cell_type": "code",
   "execution_count": 5,
   "metadata": {},
   "outputs": [
    {
     "data": {
      "text/plain": [
       "0       767\\n\\nSELF-ORGANIZATION OF ASSOCIATIVE DATABA...\n",
       "1       683\\n\\nA MEAN FIELD THEORY OF LAYER IV OF VISU...\n",
       "2       394\\n\\nSTORING COVARIANCE BY THE ASSOCIATIVE\\n...\n",
       "3       Bayesian Query Construction for Neural\\nNetwor...\n",
       "4       Neural Network Ensembles, Cross\\nValidation, a...\n",
       "                              ...                        \n",
       "7236    Single Transistor Learning Synapses\\n\\nPaul Ha...\n",
       "7237    Bias, Variance and the Combination of\\nLeast S...\n",
       "7238    A Real Time Clustering CMOS\\nNeural Engine\\nT....\n",
       "7239    Learning direction in global motion: two\\nclas...\n",
       "7240    Correlation and Interpolation Networks for\\nRe...\n",
       "Name: paper_text, Length: 7241, dtype: object"
      ]
     },
     "execution_count": 5,
     "metadata": {},
     "output_type": "execute_result"
    }
   ],
   "source": [
    "data_train"
   ]
  },
  {
   "cell_type": "code",
   "execution_count": 6,
   "metadata": {},
   "outputs": [
    {
     "data": {
      "text/plain": [
       "0    Self-Adaptable Templates for Feature Coding\\n\\...\n",
       "1    The Computation of Stereo Disparity for\\nTrans...\n",
       "2    Error Analysis of Generalized Nystr?m Kernel\\n...\n",
       "3    Semi-Separable Hamiltonian Monte Carlo\\nfor In...\n",
       "4    Learning the Number of Neurons in Deep Network...\n",
       "Name: paper_text, dtype: object"
      ]
     },
     "execution_count": 6,
     "metadata": {},
     "output_type": "execute_result"
    }
   ],
   "source": [
    "data = pd.Series(data_train).sample(n).copy()\n",
    "data.reset_index(drop=True, inplace=True)\n",
    "data.head()"
   ]
  },
  {
   "cell_type": "code",
   "execution_count": 7,
   "metadata": {},
   "outputs": [],
   "source": [
    "clean_stem_filters = [strip_tags,\n",
    "                        strip_numeric,\n",
    "                        strip_punctuation, \n",
    "                        lambda x: x.lower(),\n",
    "                        lambda s: re.sub(r'\\b\\w{1,2}\\b', ' ', s),\n",
    "                        strip_multiple_whitespaces,\n",
    "                        remove_stopwords\n",
    "                     ]\n",
    "\n",
    "def text_processing(document):\n",
    "    lemmatizer = WordNetLemmatizer()\n",
    "    return [lemmatizer.lemmatize(i) for i in preprocess_string(document, clean_stem_filters)]"
   ]
  },
  {
   "cell_type": "code",
   "execution_count": 8,
   "metadata": {},
   "outputs": [],
   "source": [
    "def proc_func(data):\n",
    "    with tqdm_joblib(tqdm(desc=\"Preprocessing\", total=len(data))) as progress_bar:\n",
    "        data_proc = Parallel(n_jobs=1)(delayed(text_processing)(text) for text in data)\n",
    "        data_proc = pd.Series(data_proc, index=data.index, name='data')\n",
    "    return data_proc"
   ]
  },
  {
   "cell_type": "code",
   "execution_count": 9,
   "metadata": {},
   "outputs": [
    {
     "data": {
      "application/vnd.jupyter.widget-view+json": {
       "model_id": "86b67dbb5ff04af5ba10286cecb40750",
       "version_major": 2,
       "version_minor": 0
      },
      "text/plain": [
       "Preprocessing:   0%|          | 0/100 [00:00<?, ?it/s]"
      ]
     },
     "metadata": {},
     "output_type": "display_data"
    },
    {
     "data": {
      "text/plain": [
       "0    [self, adaptable, template, feature, coding, x...\n",
       "1    [computation, stereo, disparity, transparent, ...\n",
       "2    [error, analysis, generalized, nystr, kernel, ...\n",
       "3    [semi, separable, hamiltonian, monte, carlo, i...\n",
       "4    [learning, number, neuron, deep, network, jose...\n",
       "Name: data, dtype: object"
      ]
     },
     "execution_count": 9,
     "metadata": {},
     "output_type": "execute_result"
    }
   ],
   "source": [
    "data_proc = proc_func(data)\n",
    "data_proc.head()"
   ]
  },
  {
   "cell_type": "code",
   "execution_count": 10,
   "metadata": {},
   "outputs": [],
   "source": [
    "def encode2(text, word_dict):\n",
    "    return np.asarray(word_dict.doc2idx(text))"
   ]
  },
  {
   "cell_type": "code",
   "execution_count": 11,
   "metadata": {},
   "outputs": [
    {
     "data": {
      "application/vnd.jupyter.widget-view+json": {
       "model_id": "c7c704b492e24c3cb79d30e1ebe80d8a",
       "version_major": 2,
       "version_minor": 0
      },
      "text/plain": [
       "  0%|          | 0/100 [00:00<?, ?it/s]"
      ]
     },
     "metadata": {},
     "output_type": "display_data"
    }
   ],
   "source": [
    "word_dict = Dictionary(data_proc)\n",
    "data_enc = data_proc.progress_apply(lambda x: encode2(x, word_dict))"
   ]
  },
  {
   "cell_type": "code",
   "execution_count": 12,
   "metadata": {},
   "outputs": [],
   "source": [
    "D = len(data_enc)\n",
    "Ns = data_enc.apply(lambda x: len(x)).to_numpy().astype(int)\n",
    "N = Ns.sum()\n",
    "V = len(word_dict)\n",
    "Gs = [None] * D"
   ]
  },
  {
   "cell_type": "code",
   "execution_count": 13,
   "metadata": {
    "scrolled": true
   },
   "outputs": [
    {
     "name": "stdout",
     "output_type": "stream",
     "text": [
      "100 [2159 1039 2113 2679 2825 2118 2585 2260 2429  990 2789 1483 2222 1717\n",
      " 2304 2845 2604 1309 1126 2664 2262 1090  978 2115  875 2978 2854 1310\n",
      " 1665 1910 1932 1778 2633 1797 1440 1480 2855 2504 1993 1385 2299 2219\n",
      " 2851 1031 2795 2525 2347 2602 2769 1775 2314 2818 1519 2519 2348 2482\n",
      " 1112 1702 2493    0  711 2980 3456 2720  889 2841 2388 1559 1137 2439\n",
      " 1701 1190 3057 2201 1966 1197 1298 2113 1310 1594 1442 1351  761 1545\n",
      " 2188 2431 2232 1953 1073 1857 2027 2615 1745 1453 1440 1285 1688 2564\n",
      " 3445 2498] 198954 13861 100\n"
     ]
    }
   ],
   "source": [
    "print(D, Ns, N, V, len(Gs))"
   ]
  },
  {
   "cell_type": "code",
   "execution_count": 14,
   "metadata": {},
   "outputs": [],
   "source": [
    "# https://people.eecs.berkeley.edu/~jordan/papers/hdp.pdf"
   ]
  },
  {
   "cell_type": "code",
   "execution_count": 15,
   "metadata": {},
   "outputs": [],
   "source": [
    "class DP0:\n",
    "    def __init__(self, a, H_var):\n",
    "        self.a = a\n",
    "        self.H_var = H_var\n",
    "        self.H = normal(0, H_var)\n",
    "        self.K = 0 # Dishes\n",
    "        self.phi_k = [] # Dish ID\n",
    "        self.t_k = [] # Number of tables serving dish K\n",
    "\n",
    "    def prior_sample(self):\n",
    "        denom = 1./(sum(self.t_k)+self.a)\n",
    "        alphas = np.asarray(self.t_k + [self.a]) * denom\n",
    "        probs = np.random.dirichlet(alphas)\n",
    "        k = np.random.choice(range(self.K+1), p=probs)\n",
    "        if k+1 > self.K:\n",
    "            self.K += 1\n",
    "            self.phi_k.append(self.H.rvs())\n",
    "\n",
    "        return self.phi_k[k], k\n",
    "    \n",
    "    def increase_dish_count(self, dish):\n",
    "        if len(self.t_k) <= dish:\n",
    "            self.t_k += [0] * ((dish+1) - len(self.t_k))\n",
    "        self.t_k[dish] += 1\n",
    "\n",
    "    def decrease_dish_count(self, dish):\n",
    "        if len(self.t_k) > dish:\n",
    "            self.t_k[dish] -= 1\n",
    "\n",
    "class DP1:\n",
    "    def __init__(self, a, DP, words):\n",
    "        self.a = a\n",
    "        self.G = DP\n",
    "        self.t = 0 # Num tables\n",
    "        self.psi_t = [] # Dish served at table t\n",
    "        self.psi_t_dist = [] # Distribution of psi_t\n",
    "        self.m = [] # Num of tables serving k\n",
    "        self.n_tk = [] # Num of customers at table t eating k\n",
    "        self.k_t = [] # Index of phi_k corresponding to psi_t\n",
    "        self.theta_i = [None] * len(words) # Table index where customer i sits\n",
    "        self.words = words\n",
    "        self.embeddings = np.zeros(len(words))\n",
    "        \n",
    "        self._init_sample()\n",
    "        \n",
    "    def _init_sample(self):\n",
    "        for i in range(len(self.words)):\n",
    "            denom = 1./(i+self.a)\n",
    "            if len(self.n_tk) == 0:\n",
    "                alphas = [self.a * denom]\n",
    "            else:\n",
    "                n_sitted = [np.sum(t) for t in self.n_tk]\n",
    "                alphas = np.asarray(n_sitted + [self.a]) * denom\n",
    "            probs = np.random.dirichlet(alphas)\n",
    "            t = np.random.choice(range(self.t+1), p=probs)\n",
    "            if t+1 > self.t:\n",
    "                self.t += 1\n",
    "                phi_k, k = self.G.prior_sample()\n",
    "                self.psi_t.append(phi_k)\n",
    "                self.psi_t_dist.append(normal(self.psi_t[-1], self.G.H_var))\n",
    "                self.k_t.append(k)\n",
    "                if len(self.m) <= k:\n",
    "                    self.m.append(1)\n",
    "                else:\n",
    "                    self.m[k] += 1\n",
    "                if len(self.n_tk) <= self.t:\n",
    "                    self.n_tk.append([])\n",
    "                \n",
    "                self.G.increase_dish_count(k)\n",
    "\n",
    "            if len(self.n_tk[t]) <= k:\n",
    "                    self.n_tk[t] += [0] * ((k+1)-len(self.n_tk[t]))\n",
    "                    \n",
    "            self.n_tk[t][k] += 1\n",
    "            self.theta_i[i] = t\n",
    "            self.embeddings[i] = self.psi_t_dist[self.theta_i[i]].rvs()\n"
   ]
  },
  {
   "cell_type": "code",
   "execution_count": 16,
   "metadata": {},
   "outputs": [
    {
     "data": {
      "text/plain": [
       "(5, 1)"
      ]
     },
     "execution_count": 16,
     "metadata": {},
     "output_type": "execute_result"
    }
   ],
   "source": [
    "H_var = 1\n",
    "a = 5\n",
    "a, H_var"
   ]
  },
  {
   "cell_type": "code",
   "execution_count": 17,
   "metadata": {},
   "outputs": [],
   "source": [
    "dp = DP0(a, H_var)\n",
    "gjs = []"
   ]
  },
  {
   "cell_type": "code",
   "execution_count": 18,
   "metadata": {},
   "outputs": [
    {
     "data": {
      "application/vnd.jupyter.widget-view+json": {
       "model_id": "017de2a0b7c1467ab04cc4b4eb26e19d",
       "version_major": 2,
       "version_minor": 0
      },
      "text/plain": [
       "  0%|          | 0/5 [00:00<?, ?it/s]"
      ]
     },
     "metadata": {},
     "output_type": "display_data"
    }
   ],
   "source": [
    "for d in tqdm(data_enc[:5]):\n",
    "    gjs.append(DP1(5, dp, list(d)))"
   ]
  },
  {
   "cell_type": "code",
   "execution_count": 19,
   "metadata": {},
   "outputs": [
    {
     "data": {
      "text/plain": [
       "<matplotlib.collections.LineCollection at 0x7f06da069ac0>"
      ]
     },
     "execution_count": 19,
     "metadata": {},
     "output_type": "execute_result"
    },
    {
     "data": {
      "image/png": "[encoded data removed]",
      "text/plain": [
       "<Figure size 432x288 with 1 Axes>"
      ]
     },
     "metadata": {
      "needs_background": "light"
     },
     "output_type": "display_data"
    }
   ],
   "source": [
    "import matplotlib.pyplot as plt\n",
    "\n",
    "x = np.arange(-7, 7, 0.01)\n",
    "y = dp.H.pdf(x)\n",
    "\n",
    "plt.plot(x, y, linestyle='--')\n",
    "\n",
    "plt.vlines(dp.phi_k, ymin=0, ymax=np.array(dp.t_k)/sum(dp.t_k), color='k', alpha=0.75)"
   ]
  },
  {
   "cell_type": "code",
   "execution_count": 20,
   "metadata": {},
   "outputs": [
    {
     "data": {
      "text/plain": [
       "array([-1.3791663 ,  1.0277201 , -2.80220029, ...,  0.30816899,\n",
       "       -1.4015299 , -0.2302015 ])"
      ]
     },
     "execution_count": 20,
     "metadata": {},
     "output_type": "execute_result"
    }
   ],
   "source": [
    "gjs[0].embeddings"
   ]
  },
  {
   "cell_type": "code",
   "execution_count": 21,
   "metadata": {},
   "outputs": [
    {
     "data": {
      "text/plain": [
       "23"
      ]
     },
     "execution_count": 21,
     "metadata": {},
     "output_type": "execute_result"
    }
   ],
   "source": [
    "gjs[0].t"
   ]
  },
  {
   "cell_type": "code",
   "execution_count": null,
   "metadata": {},
   "outputs": [],
   "source": []
  }
 ],
 "metadata": {
  "kernelspec": {
   "display_name": "Python 3",
   "language": "python",
   "name": "python3"
  },
  "language_info": {
   "codemirror_mode": {
    "name": "ipython",
    "version": 3
   },
   "file_extension": ".py",
   "mimetype": "text/x-python",
   "name": "python",
   "nbconvert_exporter": "python",
   "pygments_lexer": "ipython3",
   "version": "3.8.10"
  }
 },
 "nbformat": 4,
 "nbformat_minor": 4
}
