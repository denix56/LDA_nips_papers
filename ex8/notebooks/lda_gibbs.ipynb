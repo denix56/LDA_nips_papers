{
 "cells": [
  {
   "cell_type": "code",
   "execution_count": 1,
   "id": "5b24354b",
   "metadata": {},
   "outputs": [],
   "source": [
    "import re\n",
    "import numpy as np\n",
    "import pandas as pd\n",
    "import scipy.sparse as sparse\n",
    "from scipy.special import gammaln\n",
    "\n",
    "# import edward2 as ed\n",
    "\n",
    "from sklearn.datasets import fetch_20newsgroups\n",
    "\n",
    "from gensim.parsing import strip_tags, strip_numeric, strip_multiple_whitespaces, stem_text, strip_punctuation, remove_stopwords\n",
    "from gensim.parsing import preprocess_string, stem_text\n",
    "from gensim.corpora.dictionary import Dictionary\n",
    "from gensim.models import CoherenceModel\n",
    "\n",
    "from tqdm.notebook import tqdm as tqdm"
   ]
  },
  {
   "cell_type": "markdown",
   "id": "8d8ac362",
   "metadata": {},
   "source": [
    "### Data download"
   ]
  },
  {
   "cell_type": "code",
   "execution_count": 2,
   "id": "036c8ae8",
   "metadata": {},
   "outputs": [],
   "source": [
    "data_train = fetch_20newsgroups(subset='train', shuffle=True, random_state=42)"
   ]
  },
  {
   "cell_type": "markdown",
   "id": "9b6e5fc0",
   "metadata": {},
   "source": [
    "### Data sampling"
   ]
  },
  {
   "cell_type": "code",
   "execution_count": 3,
   "id": "0ced11eb",
   "metadata": {},
   "outputs": [],
   "source": [
    "seed = 42\n",
    "np.random.seed(seed)"
   ]
  },
  {
   "cell_type": "code",
   "execution_count": 4,
   "id": "b7a41a57",
   "metadata": {},
   "outputs": [],
   "source": [
    "N = 100\n",
    "\n",
    "data = pd.Series(data_train.data).sample(N)\n",
    "data.reset_index(drop=True, inplace=True)"
   ]
  },
  {
   "cell_type": "code",
   "execution_count": 5,
   "id": "a159a917",
   "metadata": {},
   "outputs": [
    {
     "data": {
      "text/plain": [
       "0    From: rrn@po.CWRU.Edu (Robert R. Novitskey)\\nS...\n",
       "1    From: ardie@ux1.cso.uiuc.edu (Ardie Mack)\\nSub...\n",
       "2    From: tsa@cellar.org (The Silent Assassin)\\nSu...\n",
       "3    From: guy@idacom.hp.com (Guy M. Trotter)\\nSubj...\n",
       "4    From: jwodzia@fadel.uucp (john wodziak)\\nSubje...\n",
       "dtype: object"
      ]
     },
     "execution_count": 5,
     "metadata": {},
     "output_type": "execute_result"
    }
   ],
   "source": [
    "data.head(5)"
   ]
  },
  {
   "cell_type": "code",
   "execution_count": 6,
   "id": "e9e6f0a7",
   "metadata": {},
   "outputs": [
    {
     "data": {
      "text/plain": [
       "'From: rrn@po.CWRU.Edu (Robert R. Novitskey)\\nSubject: CYCLONE AND TEMPEST?????\\nArticle-I.D.: usenet.1pskav$qtu\\nReply-To: rrn@po.CWRU.Edu (Robert R. Novitskey)\\nOrganization: Case Western Reserve University, Cleveland, OH (USA)\\nLines: 10\\nNNTP-Posting-Host: thor.ins.cwru.edu\\n\\n\\nCould someone please post any info on these systems.\\n\\nThanks.\\nBoB\\n-- \\n---------------------------------------------------------------------- \\nRobert Novitskey | \"Pursuing women is similar to banging one\\'s head\\nrrn@po.cwru.edu  |  against a wall...with less opportunity for reward\" \\n---------------------------------------------------------------------- \\n'"
      ]
     },
     "execution_count": 6,
     "metadata": {},
     "output_type": "execute_result"
    }
   ],
   "source": [
    "data.iloc[0]"
   ]
  },
  {
   "cell_type": "markdown",
   "id": "4d751e80",
   "metadata": {},
   "source": [
    "### Data preprocessing"
   ]
  },
  {
   "cell_type": "code",
   "execution_count": 7,
   "id": "7285bd02",
   "metadata": {},
   "outputs": [],
   "source": [
    "clean_stem_filters = [strip_tags,\n",
    "                        strip_numeric,\n",
    "                        strip_punctuation, \n",
    "                        lambda x: x.lower(),\n",
    "                        lambda s: re.sub(r'\\b\\w{1,2}\\b', ' ', s),\n",
    "                        strip_multiple_whitespaces,\n",
    "                        remove_stopwords,\n",
    "                        lambda x: stem_text(x)]\n",
    "\n",
    "def text_processing(document):  \n",
    "    return  preprocess_string(document, clean_stem_filters)"
   ]
  },
  {
   "cell_type": "code",
   "execution_count": 8,
   "id": "360f52e7",
   "metadata": {
    "scrolled": true
   },
   "outputs": [],
   "source": [
    "data = data.apply(text_processing)"
   ]
  },
  {
   "cell_type": "code",
   "execution_count": 9,
   "id": "826c75c0",
   "metadata": {},
   "outputs": [
    {
     "data": {
      "text/plain": [
       "'rrn cwru edu robert novitskei subject cyclon tempest articl usenet pskav qtu repli rrn cwru edu robert novitskei organ case western reserv univers cleveland usa line nntp post host thor in cwru edu post info system thank bob robert novitskei pursu women similar bang head rrn cwru edu wall opportun reward'"
      ]
     },
     "execution_count": 9,
     "metadata": {},
     "output_type": "execute_result"
    }
   ],
   "source": [
    "\" \".join(data.iloc[0])"
   ]
  },
  {
   "cell_type": "code",
   "execution_count": 10,
   "id": "138fff8e",
   "metadata": {},
   "outputs": [],
   "source": [
    "data_dict = Dictionary(data)"
   ]
  },
  {
   "cell_type": "code",
   "execution_count": 11,
   "id": "ccb78a5f",
   "metadata": {},
   "outputs": [
    {
     "name": "stdout",
     "output_type": "stream",
     "text": [
      "# docs: 100, # words: 11372\n"
     ]
    }
   ],
   "source": [
    "print(\"# docs: {}, # words: {}\".format(data_dict.num_docs, data_dict.num_pos))"
   ]
  },
  {
   "cell_type": "markdown",
   "id": "dd5d5056",
   "metadata": {},
   "source": [
    "### Model definition"
   ]
  },
  {
   "cell_type": "code",
   "execution_count": 12,
   "id": "bb4bccb7",
   "metadata": {},
   "outputs": [],
   "source": [
    "class LDAGibbs():\n",
    "    def __init__(self, docs, K, alpha_prior=0.5, eta_prior=0.5, random_seed=None):\n",
    "        np.random.seed(random_seed)\n",
    "        \n",
    "        self.K = K\n",
    "        self.alpha_p = alpha_prior\n",
    "        self.eta_p = eta_prior\n",
    "\n",
    "        self.data = docs\n",
    "        self.data_dict = Dictionary(self.data)\n",
    "        self.Nd = [len(d) for d in data.values]\n",
    "        \n",
    "        self.n_docs = self.data_dict.num_docs\n",
    "        self.n_words = len(self.data_dict.keys())\n",
    "        \n",
    "        # Number of words in document d assigned to topic k\n",
    "        self.n_kd = np.zeros((self.K, self.n_docs))\n",
    "\n",
    "        # Number of times topic k is assigned to term v\n",
    "        self.n_kv = sparse.coo_matrix((self.K, self.n_words),\n",
    "            dtype=np.uint32\n",
    "        )\n",
    "\n",
    "        self.n_kv = self.n_kv.tolil()\n",
    "\n",
    "        # Number of words assigned to topic k \n",
    "        self.n_k = np.zeros((K,))\n",
    "\n",
    "        # Topic assignments per document to term v\n",
    "        self.k_dw = sparse.coo_matrix((self.n_docs, self.n_words),\n",
    "            dtype=np.uint32\n",
    "        )\n",
    "\n",
    "        self.k_dw = self.k_dw.tolil()\n",
    "\n",
    "\n",
    "        # Total number of times topic k was assigned to word w\n",
    "        self.total_nkv = sparse.coo_matrix((self.K, self.n_words),\n",
    "            dtype=np.uint32\n",
    "        )\n",
    "\n",
    "        self.total_nkv = self.total_nkv.tolil()\n",
    "\n",
    "        # Total number of times topic k was assigned to document d\n",
    "        self.total_nkd = np.zeros((self.K, self.n_docs))\n",
    "\n",
    "        for d in range(self.n_docs):\n",
    "            for w in data[d]:\n",
    "                k = np.random.randint(self.K)\n",
    "                self.n_k[k] += 1\n",
    "                self.n_kv[k, self.data_dict.token2id[w]] += 1\n",
    "                self.n_kd[k, d] += 1\n",
    "                self.k_dw[d, self.data_dict.token2id[w]] = k\n",
    "\n",
    "    def fit(self, max_iterations=1000, burnin=100, sample_every_n_iter=25):\n",
    "        self.ll = []\n",
    "        self.pp = []\n",
    "        self.cc = []\n",
    "        \n",
    "        if burnin > 0:\n",
    "            print(\"Beginning burn-in phase\")\n",
    "\n",
    "            for i in tqdm(range(burnin)):\n",
    "                self._sweep()\n",
    "\n",
    "        print(\"Beginning sampling phase\")\n",
    "\n",
    "        self.ll = []\n",
    "        self.pp = []\n",
    "        self.cc = []\n",
    "        for i in tqdm(range(1, max_iterations+1)):\n",
    "            self._sweep()\n",
    "\n",
    "            if i % sample_every_n_iter == 0:\n",
    "                self.total_nkv += self.n_kv\n",
    "                self.total_nkd += self.n_kd\n",
    "\n",
    "                this_ll = self.loglikelihood()\n",
    "                this_pp = self.get_perplexity()\n",
    "                this_cc = self.get_coherence('c_v')\n",
    "                print(\"Log-likelihood:\", this_ll, \"- Perplexity:\", this_pp, \"- Coherence:\", this_cc)\n",
    "\n",
    "                self.ll.append(this_ll)\n",
    "                self.pp.append(this_pp)\n",
    "                self.cc.append(this_cc)\n",
    "\n",
    "        print(\"Done.\")\n",
    "\n",
    "    def loglikelihood(self):\n",
    "        llk = 0\n",
    "        for k in range(self.K):\n",
    "            nkv = self.n_kv[k,:].toarray()[0]\n",
    "            llk += np.sum(gammaln(nkv + self.eta_p)) - gammaln(np.sum(nkv + self.eta_p))\n",
    "            llk -= self.n_words * gammaln(self.eta_p) - gammaln(self.n_words * self.eta_p)\n",
    "\n",
    "        for d in range(self.n_docs):\n",
    "            llk += np.sum(gammaln(self.n_kd[:, d] + self.alpha_p)) - gammaln(np.sum(self.n_kd[:, d] + self.alpha_p))\n",
    "            llk -= self.K * gammaln(self.alpha_p) - gammaln(self.K * self.alpha_p)\n",
    "\n",
    "        return llk\n",
    "\n",
    "    def phi(self):\n",
    "        phi = self.total_nkv.toarray() + self.eta_p\n",
    "        return np.swapaxes(phi / np.sum(phi, axis=0)[np.newaxis, :], 0, 1)\n",
    "\n",
    "    def theta(self):\n",
    "        theta = self.total_nkd + self.alpha_p\n",
    "        return np.swapaxes(theta / np.sum(theta, axis=0)[np.newaxis, :], 0, 1)\n",
    "    \n",
    "    def get_topics(self):\n",
    "        topics = []\n",
    "        for top_10_k in np.swapaxes(self.phi().argsort(axis=0)[-10:, :], 0, 1):\n",
    "            topics.append([self.data_dict[w] for w in top_10_k])\n",
    "\n",
    "        return topics\n",
    "\n",
    "    def get_coherence(self, coherence_type='c_v'):\n",
    "        coherence_model_lda = CoherenceModel(topics=self.get_topics(), texts=self.data, dictionary=self.data_dict, coherence='c_v')\n",
    "        return coherence_model_lda.get_coherence()\n",
    "\n",
    "\n",
    "    def get_perplexity(self):\n",
    "        return np.exp(-self.loglikelihood()/sum(self.Nd))\n",
    "    \n",
    "    def _sample_conditional(self, d, w):\n",
    "        probs = (self.n_kd[:, d] + self.alpha_p)\n",
    "#         probs /= (self.K * self.alpha_p + self.Nd[d])\n",
    "        probs *= (self.n_kv[:, data_dict.token2id[w]].toarray().reshape(1,-1)[0] + self.eta_p) \n",
    "        probs /= (self.eta_p * self.n_words + self.n_k)\n",
    "        probs /= probs.sum()\n",
    "        return np.random.choice(range(K), p=probs)\n",
    "\n",
    "    def _sweep(self):\n",
    "        docs = list(range(self.n_docs))\n",
    "        np.random.shuffle(docs)\n",
    "        for d in docs:\n",
    "            for w in self.data[d]:\n",
    "                k = self.k_dw[d, self.data_dict.token2id[w]]\n",
    "                self.n_k[k] -= 1\n",
    "                self.n_kv[k, self.data_dict.token2id[w]] -= 1\n",
    "                self.n_kd[k, d] -= 1\n",
    "\n",
    "                new_k = self._sample_conditional(d, w)\n",
    "\n",
    "                self.k_dw[d, self.data_dict.token2id[w]] = new_k\n",
    "                self.n_k[new_k] += 1\n",
    "                self.n_kv[new_k, self.data_dict.token2id[w]] += 1\n",
    "                self.n_kd[new_k, d] += 1\n",
    "\n",
    "        return\n"
   ]
  },
  {
   "cell_type": "markdown",
   "id": "ed7300c2",
   "metadata": {},
   "source": [
    "### Execution"
   ]
  },
  {
   "cell_type": "code",
   "execution_count": 39,
   "id": "ba87cccb",
   "metadata": {
    "scrolled": false
   },
   "outputs": [
    {
     "name": "stdout",
     "output_type": "stream",
     "text": [
      "Beginning burn-in phase\n"
     ]
    },
    {
     "data": {
      "application/vnd.jupyter.widget-view+json": {
       "model_id": "28fd981e9cce4981948641e787ddbd22",
       "version_major": 2,
       "version_minor": 0
      },
      "text/plain": [
       "  0%|          | 0/25 [00:00<?, ?it/s]"
      ]
     },
     "metadata": {},
     "output_type": "display_data"
    },
    {
     "name": "stdout",
     "output_type": "stream",
     "text": [
      "Beginning sampling phase\n"
     ]
    },
    {
     "data": {
      "application/vnd.jupyter.widget-view+json": {
       "model_id": "4997a8d259bf41a8a277ab22f0b7fa05",
       "version_major": 2,
       "version_minor": 0
      },
      "text/plain": [
       "  0%|          | 0/200 [00:00<?, ?it/s]"
      ]
     },
     "metadata": {},
     "output_type": "display_data"
    },
    {
     "name": "stdout",
     "output_type": "stream",
     "text": [
      "Log-likelihood: -118520.11031473009 - Perplexity: 33593.87517244621 - Coherence: 0.5632237077366502\n",
      "Log-likelihood: -118378.52524038043 - Perplexity: 33178.21350256226 - Coherence: 0.6072637511250718\n",
      "Log-likelihood: -118507.62310750927 - Perplexity: 33557.007123816205 - Coherence: 0.575098160684849\n",
      "Log-likelihood: -118297.72317733537 - Perplexity: 32943.30615459301 - Coherence: 0.56405326045309\n",
      "Log-likelihood: -118257.2091415779 - Perplexity: 32826.15071539613 - Coherence: 0.5881243632506068\n",
      "Log-likelihood: -118320.12835280142 - Perplexity: 33008.27521345813 - Coherence: 0.5672033432805753\n",
      "Log-likelihood: -118179.87454834636 - Perplexity: 32603.675798126504 - Coherence: 0.5669329837968539\n",
      "Log-likelihood: -118177.72985468773 - Perplexity: 32597.52751256275 - Coherence: 0.5720231174696543\n",
      "Done.\n"
     ]
    }
   ],
   "source": [
    "K = 15\n",
    "\n",
    "# Priors\n",
    "eta_p = 0.1\n",
    "alpha_p = 0.01\n",
    "\n",
    "max_iterations = 200\n",
    "burn_in_iter = 25\n",
    "\n",
    "sample_every_n_iter = 25\n",
    "\n",
    "lda = LDAGibbs(data, K, alpha_prior=alpha_p, eta_prior=eta_p, random_seed=42)\n",
    "\n",
    "lda.fit(max_iterations=max_iterations, burnin=burn_in_iter, sample_every_n_iter=sample_every_n_iter)"
   ]
  },
  {
   "cell_type": "code",
   "execution_count": 40,
   "id": "d0f2e4f6",
   "metadata": {},
   "outputs": [
    {
     "data": {
      "image/png": "[encoded data removed]",
      "text/plain": [
       "<Figure size 432x288 with 1 Axes>"
      ]
     },
     "metadata": {
      "needs_background": "light"
     },
     "output_type": "display_data"
    }
   ],
   "source": [
    "import matplotlib.pyplot as plt\n",
    "\n",
    "fig, ax = plt.subplots()\n",
    "\n",
    "x = range(sample_every_n_iter, max_iterations+1, sample_every_n_iter)\n",
    "ax.plot(x, lda.ll)\n",
    "ax.set_xlabel(\"Iterations\")\n",
    "ax.set_xticks(x)\n",
    "ax.set_ylabel(\"Log-Likelihood\")\n",
    "\n",
    "ax.set_title(\"Log-Likelihood - {} Documents, {} Topics, $\\\\alpha$ {:.2f}, $\\\\eta$ {:.2f}\".format(\n",
    "    lda.n_docs, K, alpha_p, eta_p\n",
    "    )\n",
    ")\n",
    "\n",
    "ax.set_xticklabels(x, rotation = 90)\n",
    "\n",
    "fig.savefig(\"results/timeVsLogLikelihood-d{}t{}i{}b{}alpha{}eta{}.pdf\".format(lda.n_docs, K, max_iterations, burn_in_iter, alpha_p, eta_p))\n"
   ]
  },
  {
   "cell_type": "code",
   "execution_count": 41,
   "id": "59aee316",
   "metadata": {},
   "outputs": [
    {
     "data": {
      "image/png": "[encoded data removed]",
      "text/plain": [
       "<Figure size 432x288 with 1 Axes>"
      ]
     },
     "metadata": {
      "needs_background": "light"
     },
     "output_type": "display_data"
    }
   ],
   "source": [
    "import matplotlib.pyplot as plt\n",
    "\n",
    "fig, ax = plt.subplots()\n",
    "\n",
    "x = range(sample_every_n_iter, max_iterations+1, sample_every_n_iter)\n",
    "ax.plot(x, lda.pp)\n",
    "ax.set_xlabel(\"Iterations\")\n",
    "ax.set_xticks(x)\n",
    "ax.set_ylabel(\"Perplexity\")\n",
    "\n",
    "ax.set_title(\"Perplexity - {} Documents, {} Topics, $\\\\alpha$ {:.2f}, $\\\\eta$ {:.2f}\".format(\n",
    "    lda.n_docs, K, alpha_p, eta_p\n",
    "    )\n",
    ")\n",
    "\n",
    "ax.set_xticklabels(x, rotation = 90)\n",
    "\n",
    "fig.savefig(\"results/timeVsPerplexity-d{}t{}i{}b{}alpha{}eta{}.pdf\".format(lda.n_docs, K, max_iterations, burn_in_iter, alpha_p, eta_p))\n"
   ]
  },
  {
   "cell_type": "code",
   "execution_count": 42,
   "id": "e5b50859",
   "metadata": {},
   "outputs": [
    {
     "data": {
      "image/png": "[encoded data removed]",
      "text/plain": [
       "<Figure size 432x288 with 1 Axes>"
      ]
     },
     "metadata": {
      "needs_background": "light"
     },
     "output_type": "display_data"
    }
   ],
   "source": [
    "import matplotlib.pyplot as plt\n",
    "\n",
    "fig, ax = plt.subplots()\n",
    "\n",
    "x = range(sample_every_n_iter, max_iterations+1, sample_every_n_iter)\n",
    "ax.plot(x, lda.cc)\n",
    "ax.set_xlabel(\"Iterations\")\n",
    "ax.set_xticks(x)\n",
    "ax.set_ylabel(\"Coherence\")\n",
    "\n",
    "ax.set_title(\"Coherence - {} Documents, {} Topics, $\\\\alpha$ {:.2f}, $\\\\eta$ {:.2f}\".format(\n",
    "    lda.n_docs, K, alpha_p, eta_p\n",
    "    )\n",
    ")\n",
    "\n",
    "ax.set_xticklabels(x, rotation = 90)\n",
    "\n",
    "fig.savefig(\"results/timeVsCoherence-d{}t{}i{}b{}alpha{}eta{}.pdf\".format(lda.n_docs, K, max_iterations, burn_in_iter, alpha_p, eta_p))\n"
   ]
  },
  {
   "cell_type": "code",
   "execution_count": 43,
   "id": "60f40525",
   "metadata": {},
   "outputs": [],
   "source": [
    "topics = lda.get_topics()\n",
    "str_ = \"\"\n",
    "for id_, topic in enumerate(topics):\n",
    "    str_ += str(id_+1) + \". \"\n",
    "    for w in topic[:-1]:\n",
    "        str_ += w + \", \"\n",
    "    str_ += topic[-1] + \"\\n\"\n",
    "\n",
    "with open(\"results/topics-d{}t{}i{}b{}alpha{}eta{}.txt\".format(lda.n_docs, K, max_iterations, burn_in_iter, alpha_p, eta_p), \"w+\") as f:\n",
    "    f.write(str_)\n"
   ]
  },
  {
   "cell_type": "code",
   "execution_count": null,
   "id": "e826c2dd",
   "metadata": {},
   "outputs": [],
   "source": []
  }
 ],
 "metadata": {
  "kernelspec": {
   "display_name": "Python 3",
   "language": "python",
   "name": "python3"
  },
  "language_info": {
   "codemirror_mode": {
    "name": "ipython",
    "version": 3
   },
   "file_extension": ".py",
   "mimetype": "text/x-python",
   "name": "python",
   "nbconvert_exporter": "python",
   "pygments_lexer": "ipython3",
   "version": "3.8.10"
  }
 },
 "nbformat": 4,
 "nbformat_minor": 5
}
