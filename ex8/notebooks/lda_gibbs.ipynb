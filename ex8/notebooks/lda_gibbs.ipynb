{
 "cells": [
  {
   "cell_type": "code",
   "execution_count": 1,
   "id": "5b24354b",
   "metadata": {},
   "outputs": [
    {
     "name": "stderr",
     "output_type": "stream",
     "text": [
      "[nltk_data] Downloading package wordnet to /home/iron/nltk_data...\n",
      "[nltk_data]   Package wordnet is already up-to-date!\n"
     ]
    }
   ],
   "source": [
    "import re\n",
    "import numpy as np\n",
    "import pandas as pd\n",
    "import scipy.sparse as sparse\n",
    "from scipy.special import gammaln\n",
    "\n",
    "# import edward2 as ed\n",
    "\n",
    "from sklearn.datasets import fetch_20newsgroups\n",
    "\n",
    "from gensim.parsing import strip_tags, strip_numeric, strip_multiple_whitespaces, stem_text, strip_punctuation, remove_stopwords\n",
    "from gensim.parsing import preprocess_string, stem_text\n",
    "import nltk\n",
    "nltk.download('wordnet')\n",
    "from nltk.stem import WordNetLemmatizer \n",
    "\n",
    "from gensim.corpora.dictionary import Dictionary\n",
    "from gensim.models import CoherenceModel\n",
    "\n",
    "from tqdm.notebook import tqdm as tqdm"
   ]
  },
  {
   "cell_type": "markdown",
   "id": "8d8ac362",
   "metadata": {},
   "source": [
    "### Data download"
   ]
  },
  {
   "cell_type": "code",
   "execution_count": 2,
   "id": "036c8ae8",
   "metadata": {},
   "outputs": [],
   "source": [
    "data_train = fetch_20newsgroups(subset='train', shuffle=True, random_state=42)"
   ]
  },
  {
   "cell_type": "markdown",
   "id": "9b6e5fc0",
   "metadata": {},
   "source": [
    "### Data sampling"
   ]
  },
  {
   "cell_type": "code",
   "execution_count": 3,
   "id": "69cb18c4",
   "metadata": {},
   "outputs": [],
   "source": [
    "seed = 42\n",
    "np.random.seed(seed)"
   ]
  },
  {
   "cell_type": "code",
   "execution_count": 4,
   "id": "b7a41a57",
   "metadata": {},
   "outputs": [],
   "source": [
    "N = 1000\n",
    "\n",
    "data = pd.Series(data_train.data).sample(N)\n",
    "data.reset_index(drop=True, inplace=True)"
   ]
  },
  {
   "cell_type": "code",
   "execution_count": 5,
   "id": "a159a917",
   "metadata": {},
   "outputs": [
    {
     "data": {
      "text/plain": [
       "0    From: rrn@po.CWRU.Edu (Robert R. Novitskey)\\nS...\n",
       "1    From: ardie@ux1.cso.uiuc.edu (Ardie Mack)\\nSub...\n",
       "2    From: tsa@cellar.org (The Silent Assassin)\\nSu...\n",
       "3    From: guy@idacom.hp.com (Guy M. Trotter)\\nSubj...\n",
       "4    From: jwodzia@fadel.uucp (john wodziak)\\nSubje...\n",
       "dtype: object"
      ]
     },
     "execution_count": 5,
     "metadata": {},
     "output_type": "execute_result"
    }
   ],
   "source": [
    "data.head(5)"
   ]
  },
  {
   "cell_type": "code",
   "execution_count": 6,
   "id": "e9e6f0a7",
   "metadata": {},
   "outputs": [
    {
     "data": {
      "text/plain": [
       "'From: rrn@po.CWRU.Edu (Robert R. Novitskey)\\nSubject: CYCLONE AND TEMPEST?????\\nArticle-I.D.: usenet.1pskav$qtu\\nReply-To: rrn@po.CWRU.Edu (Robert R. Novitskey)\\nOrganization: Case Western Reserve University, Cleveland, OH (USA)\\nLines: 10\\nNNTP-Posting-Host: thor.ins.cwru.edu\\n\\n\\nCould someone please post any info on these systems.\\n\\nThanks.\\nBoB\\n-- \\n---------------------------------------------------------------------- \\nRobert Novitskey | \"Pursuing women is similar to banging one\\'s head\\nrrn@po.cwru.edu  |  against a wall...with less opportunity for reward\" \\n---------------------------------------------------------------------- \\n'"
      ]
     },
     "execution_count": 6,
     "metadata": {},
     "output_type": "execute_result"
    }
   ],
   "source": [
    "data.iloc[0]"
   ]
  },
  {
   "cell_type": "markdown",
   "id": "4d751e80",
   "metadata": {},
   "source": [
    "### Data preprocessing"
   ]
  },
  {
   "cell_type": "code",
   "execution_count": 7,
   "id": "7285bd02",
   "metadata": {},
   "outputs": [],
   "source": [
    "clean_stem_filters = [strip_tags,\n",
    "                        strip_numeric,\n",
    "                        strip_punctuation, \n",
    "                        lambda x: x.lower(),\n",
    "                        lambda s: re.sub(r'\\b\\w{1,2}\\b', ' ', s),\n",
    "                        strip_multiple_whitespaces,\n",
    "                        remove_stopwords\n",
    "                     ]\n",
    "\n",
    "def text_processing(document):\n",
    "    lemmatizer = WordNetLemmatizer()\n",
    "    return [lemmatizer.lemmatize(i) for i in preprocess_string(document, clean_stem_filters)]"
   ]
  },
  {
   "cell_type": "code",
   "execution_count": 8,
   "id": "360f52e7",
   "metadata": {
    "scrolled": true
   },
   "outputs": [],
   "source": [
    "data = data.apply(text_processing)"
   ]
  },
  {
   "cell_type": "code",
   "execution_count": 9,
   "id": "826c75c0",
   "metadata": {},
   "outputs": [
    {
     "data": {
      "text/plain": [
       "'rrn cwru edu robert novitskey subject cyclone tempest article usenet pskav qtu reply rrn cwru edu robert novitskey organization case western reserve university cleveland usa line nntp posting host thor in cwru edu post info system thanks bob robert novitskey pursuing woman similar banging head rrn cwru edu wall opportunity reward'"
      ]
     },
     "execution_count": 9,
     "metadata": {},
     "output_type": "execute_result"
    }
   ],
   "source": [
    "\" \".join(data.iloc[0])"
   ]
  },
  {
   "cell_type": "code",
   "execution_count": 10,
   "id": "138fff8e",
   "metadata": {},
   "outputs": [],
   "source": [
    "data_dict = Dictionary(data)"
   ]
  },
  {
   "cell_type": "code",
   "execution_count": 11,
   "id": "ccb78a5f",
   "metadata": {},
   "outputs": [
    {
     "name": "stdout",
     "output_type": "stream",
     "text": [
      "# docs: 1000, # words: 137785\n"
     ]
    }
   ],
   "source": [
    "print(\"# docs: {}, # words: {}\".format(data_dict.num_docs, data_dict.num_pos))"
   ]
  },
  {
   "cell_type": "markdown",
   "id": "a2be0c62",
   "metadata": {},
   "source": [
    "### Model definition"
   ]
  },
  {
   "cell_type": "code",
   "execution_count": 12,
   "id": "49e99f26",
   "metadata": {},
   "outputs": [],
   "source": [
    "class LDAGibbs():\n",
    "    def __init__(self, docs, K, alpha_prior=0.5, eta_prior=0.5, random_seed=None):\n",
    "        np.random.seed(random_seed)\n",
    "        \n",
    "        self.K = K\n",
    "        self.alpha_p = alpha_prior\n",
    "        self.eta_p = eta_prior\n",
    "\n",
    "        self.data = docs\n",
    "        self.data_dict = Dictionary(self.data)\n",
    "        self.Nd = [len(d) for d in data.values]\n",
    "        \n",
    "        self.n_docs = self.data_dict.num_docs\n",
    "        self.n_words = len(self.data_dict.keys())\n",
    "        \n",
    "        # Number of words in document d assigned to topic k\n",
    "        self.n_kd = np.zeros((self.K, self.n_docs))\n",
    "\n",
    "        # Number of times topic k is assigned to term v\n",
    "        self.n_kv = sparse.coo_matrix((self.K, self.n_words),\n",
    "            dtype=np.uint32\n",
    "        )\n",
    "\n",
    "        self.n_kv = self.n_kv.tolil()\n",
    "\n",
    "        # Number of words assigned to topic k \n",
    "        self.n_k = np.zeros((K,))\n",
    "\n",
    "        # Topic assignments per document to term v\n",
    "        self.k_dw = sparse.coo_matrix((self.n_docs, self.n_words),\n",
    "            dtype=np.uint32\n",
    "        )\n",
    "\n",
    "        self.k_dw = self.k_dw.tolil()\n",
    "\n",
    "\n",
    "        # Total number of times topic k was assigned to word w\n",
    "        self.total_nkv = sparse.coo_matrix((self.K, self.n_words),\n",
    "            dtype=np.uint32\n",
    "        )\n",
    "\n",
    "        self.total_nkv = self.total_nkv.tolil()\n",
    "\n",
    "        # Total number of times topic k was assigned to document d\n",
    "        self.total_nkd = np.zeros((self.K, self.n_docs))\n",
    "\n",
    "        for d in range(self.n_docs):\n",
    "            for w in data[d]:\n",
    "                k = np.random.randint(self.K)\n",
    "                self.n_k[k] += 1\n",
    "                self.n_kv[k, self.data_dict.token2id[w]] += 1\n",
    "                self.n_kd[k, d] += 1\n",
    "                self.k_dw[d, self.data_dict.token2id[w]] = k\n",
    "\n",
    "    def fit(self, max_iterations=1000, burnin=100, sample_every_n_iter=25):\n",
    "        self.ll = []\n",
    "        self.pp = []\n",
    "        self.cc = []\n",
    "        \n",
    "        if burnin > 0:\n",
    "            print(\"Beginning burn-in phase\")\n",
    "\n",
    "            for i in tqdm(range(burnin)):\n",
    "                self._sweep()\n",
    "\n",
    "        print(\"Beginning sampling phase\")\n",
    "\n",
    "        self.ll = []\n",
    "        self.pp = []\n",
    "        self.cc = []\n",
    "        for i in tqdm(range(1, max_iterations+1)):\n",
    "            self._sweep()\n",
    "\n",
    "            if i % sample_every_n_iter == 0:\n",
    "                self.total_nkv += self.n_kv\n",
    "                self.total_nkd += self.n_kd\n",
    "\n",
    "                this_ll = self.loglikelihood()\n",
    "                this_pp = self.get_perplexity()\n",
    "                this_cc = self.get_coherence('c_v')\n",
    "                print(\"Log-likelihood:\", this_ll, \"- Perplexity:\", this_pp, \"- Coherence:\", this_cc)\n",
    "\n",
    "                self.ll.append(this_ll)\n",
    "                self.pp.append(this_pp)\n",
    "                self.cc.append(this_cc)\n",
    "\n",
    "        print(\"Done.\")\n",
    "\n",
    "    def loglikelihood(self):\n",
    "        llk = 0\n",
    "        for k in range(self.K):\n",
    "            nkv = self.n_kv[k,:].toarray()[0]\n",
    "            llk += np.sum(gammaln(nkv + self.eta_p)) - gammaln(np.sum(nkv + self.eta_p))\n",
    "            llk -= self.n_words * gammaln(self.eta_p) - gammaln(self.n_words * self.eta_p)\n",
    "\n",
    "        for d in range(self.n_docs):\n",
    "            llk += np.sum(gammaln(self.n_kd[:, d] + self.alpha_p)) - gammaln(np.sum(self.n_kd[:, d] + self.alpha_p))\n",
    "            llk -= self.K * gammaln(self.alpha_p) - gammaln(self.K * self.alpha_p)\n",
    "\n",
    "        return llk\n",
    "\n",
    "    def phi(self):\n",
    "        phi = self.total_nkv.toarray() + self.eta_p\n",
    "        return np.swapaxes(phi / np.sum(phi, axis=0)[np.newaxis, :], 0, 1)\n",
    "\n",
    "    def theta(self):\n",
    "        theta = self.total_nkd + self.alpha_p\n",
    "        return np.swapaxes(theta / np.sum(theta, axis=0)[np.newaxis, :], 0, 1)\n",
    "    \n",
    "    def get_topics(self):\n",
    "        topics = []\n",
    "        for top_10_k in np.swapaxes(self.phi().argsort(axis=0)[-10:, :], 0, 1):\n",
    "            topics.append([self.data_dict[w] for w in top_10_k])\n",
    "\n",
    "        return topics\n",
    "\n",
    "    def get_coherence(self, coherence_type='c_v'):\n",
    "        coherence_model_lda = CoherenceModel(topics=self.get_topics(), texts=self.data, dictionary=self.data_dict, coherence='c_v')\n",
    "        return coherence_model_lda.get_coherence()\n",
    "\n",
    "\n",
    "    def get_perplexity(self):\n",
    "        return np.exp(-self.loglikelihood()/sum(self.Nd))\n",
    "    \n",
    "    def _sample_conditional(self, d, w):\n",
    "        probs = (self.n_kd[:, d] + self.alpha_p)\n",
    "#         probs /= (self.K * self.alpha_p + self.Nd[d])\n",
    "        probs *= (self.n_kv[:, data_dict.token2id[w]].toarray().reshape(1,-1)[0] + self.eta_p) \n",
    "        probs /= (self.eta_p * self.n_words + self.n_k)\n",
    "        probs /= probs.sum()\n",
    "        return np.random.choice(range(K), p=probs)\n",
    "\n",
    "    def _sweep(self):\n",
    "        docs = list(range(self.n_docs))\n",
    "        np.random.shuffle(docs)\n",
    "        for d in docs:\n",
    "            for w in self.data[d]:\n",
    "                k = self.k_dw[d, self.data_dict.token2id[w]]\n",
    "                self.n_k[k] -= 1\n",
    "                self.n_kv[k, self.data_dict.token2id[w]] -= 1\n",
    "                self.n_kd[k, d] -= 1\n",
    "\n",
    "                new_k = self._sample_conditional(d, w)\n",
    "\n",
    "                self.k_dw[d, self.data_dict.token2id[w]] = new_k\n",
    "                self.n_k[new_k] += 1\n",
    "                self.n_kv[new_k, self.data_dict.token2id[w]] += 1\n",
    "                self.n_kd[new_k, d] += 1\n",
    "\n",
    "        return\n"
   ]
  },
  {
   "cell_type": "markdown",
   "id": "eb87c40a",
   "metadata": {},
   "source": [
    "### Execution"
   ]
  },
  {
   "cell_type": "code",
   "execution_count": 19,
   "id": "d59cc8de",
   "metadata": {
    "scrolled": false
   },
   "outputs": [
    {
     "name": "stdout",
     "output_type": "stream",
     "text": [
      "Beginning burn-in phase\n"
     ]
    },
    {
     "data": {
      "application/vnd.jupyter.widget-view+json": {
       "model_id": "f0647db553d547d79d363f8b69d87740",
       "version_major": 2,
       "version_minor": 0
      },
      "text/plain": [
       "  0%|          | 0/25 [00:00<?, ?it/s]"
      ]
     },
     "metadata": {},
     "output_type": "display_data"
    },
    {
     "name": "stdout",
     "output_type": "stream",
     "text": [
      "Beginning sampling phase\n"
     ]
    },
    {
     "data": {
      "application/vnd.jupyter.widget-view+json": {
       "model_id": "12ed1149ad0849178d99ec2ccc6fa3a4",
       "version_major": 2,
       "version_minor": 0
      },
      "text/plain": [
       "  0%|          | 0/1000 [00:00<?, ?it/s]"
      ]
     },
     "metadata": {},
     "output_type": "display_data"
    },
    {
     "name": "stdout",
     "output_type": "stream",
     "text": [
      "Log-likelihood: -1512834.8913426246 - Perplexity: 58669.64176645961 - Coherence: 0.5846592796019917\n",
      "Log-likelihood: -1511527.7302749895 - Perplexity: 58115.676977175586 - Coherence: 0.5854564258543763\n",
      "Log-likelihood: -1511386.7327544752 - Perplexity: 58056.23672476789 - Coherence: 0.5909868475859137\n",
      "Log-likelihood: -1510957.9850158223 - Perplexity: 57875.86300669332 - Coherence: 0.5080326517828214\n",
      "Log-likelihood: -1510262.9790873986 - Perplexity: 57584.664469289935 - Coherence: 0.4893656123979044\n",
      "Log-likelihood: -1509872.2481204614 - Perplexity: 57421.597090152565 - Coherence: 0.4758533737079569\n",
      "Log-likelihood: -1510227.0570764681 - Perplexity: 57569.65349333063 - Coherence: 0.5130140542653806\n",
      "Log-likelihood: -1510193.9516743019 - Perplexity: 57555.822977745454 - Coherence: 0.4966553712493142\n",
      "Log-likelihood: -1510463.8869775604 - Perplexity: 57668.69141148788 - Coherence: 0.4733726289057477\n",
      "Log-likelihood: -1510332.062970866 - Perplexity: 57613.54402600743 - Coherence: 0.4745724863203994\n",
      "Log-likelihood: -1509679.975286658 - Perplexity: 57341.52369004441 - Coherence: 0.4871492360224002\n",
      "Log-likelihood: -1510243.8653703916 - Perplexity: 57576.67680269464 - Coherence: 0.48457313562798704\n",
      "Log-likelihood: -1510505.5246815132 - Perplexity: 57686.12113713972 - Coherence: 0.47023933250400096\n",
      "Log-likelihood: -1510110.3600554452 - Perplexity: 57520.9155111562 - Coherence: 0.45983115723181694\n",
      "Log-likelihood: -1509911.230223657 - Perplexity: 57437.84509464649 - Coherence: 0.46447478239812223\n",
      "Log-likelihood: -1510295.8763104363 - Perplexity: 57598.41488999555 - Coherence: 0.46842877190937215\n",
      "Log-likelihood: -1509652.765305951 - Perplexity: 57330.20092122286 - Coherence: 0.47441433175784703\n",
      "Log-likelihood: -1509992.8090109078 - Perplexity: 57471.86256505465 - Coherence: 0.45617489048942367\n",
      "Log-likelihood: -1509687.9558652844 - Perplexity: 57344.845037008075 - Coherence: 0.45364295140676275\n",
      "Log-likelihood: -1510730.908312814 - Perplexity: 57780.559188826446 - Coherence: 0.4357823553946284\n",
      "Log-likelihood: -1510195.3663380698 - Perplexity: 57556.413916928876 - Coherence: 0.4340047493117435\n",
      "Log-likelihood: -1509781.9216600677 - Perplexity: 57383.96607160011 - Coherence: 0.4283649553131131\n",
      "Log-likelihood: -1510416.9421867612 - Perplexity: 57649.04643189597 - Coherence: 0.434003660515185\n",
      "Log-likelihood: -1509558.2917489728 - Perplexity: 57290.90541301825 - Coherence: 0.4353206862966629\n",
      "Log-likelihood: -1509377.95520718 - Perplexity: 57215.97065562847 - Coherence: 0.43343176517497983\n",
      "Log-likelihood: -1509973.4562475644 - Perplexity: 57463.7908500762 - Coherence: 0.4371313042190909\n",
      "Log-likelihood: -1509986.1642781324 - Perplexity: 57469.091029976626 - Coherence: 0.441290157461179\n",
      "Log-likelihood: -1509980.9829006281 - Perplexity: 57466.92995687906 - Coherence: 0.4334803374207036\n",
      "Log-likelihood: -1510692.2323551043 - Perplexity: 57764.34258431504 - Coherence: 0.4685017163880045\n",
      "Log-likelihood: -1509758.4700141372 - Perplexity: 57374.19988562498 - Coherence: 0.43457189476410124\n",
      "Log-likelihood: -1510186.9794692409 - Perplexity: 57552.91060813081 - Coherence: 0.4410847251517849\n",
      "Log-likelihood: -1510791.9965244092 - Perplexity: 57806.18239604011 - Coherence: 0.4320974361042012\n",
      "Log-likelihood: -1510072.1414253782 - Perplexity: 57504.96264452636 - Coherence: 0.4160357031857946\n",
      "Log-likelihood: -1510220.2931376116 - Perplexity: 57566.827437820204 - Coherence: 0.4193759666556106\n",
      "Log-likelihood: -1510735.8615885118 - Perplexity: 57782.63639740569 - Coherence: 0.42346049837653893\n",
      "Log-likelihood: -1510093.8000428646 - Perplexity: 57514.00264078025 - Coherence: 0.4165137069727843\n",
      "Log-likelihood: -1509973.4020029719 - Perplexity: 57463.768227154214 - Coherence: 0.42034696294029555\n",
      "Log-likelihood: -1509727.0442202722 - Perplexity: 57361.115557299985 - Coherence: 0.4414149557460501\n",
      "Log-likelihood: -1510043.0665920672 - Perplexity: 57492.82946012981 - Coherence: 0.44262857049052107\n",
      "Log-likelihood: -1510613.105874606 - Perplexity: 57731.17948991463 - Coherence: 0.43798241702163077\n",
      "Done.\n"
     ]
    }
   ],
   "source": [
    "K = 10\n",
    "\n",
    "# Priors\n",
    "eta_p = 0.1\n",
    "alpha_p = 0.01\n",
    "\n",
    "max_iterations = 1000\n",
    "burn_in_iter = 25\n",
    "\n",
    "sample_every_n_iter = 25\n",
    "\n",
    "lda = LDAGibbs(data, K, alpha_prior=alpha_p, eta_prior=eta_p, random_seed=42)\n",
    "\n",
    "lda.fit(max_iterations=max_iterations, burnin=burn_in_iter, sample_every_n_iter=sample_every_n_iter)"
   ]
  },
  {
   "cell_type": "code",
   "execution_count": 20,
   "id": "5a2a7555",
   "metadata": {},
   "outputs": [
    {
     "data": {
      "image/png": "[encoded data removed]",
      "text/plain": [
       "<Figure size 432x288 with 1 Axes>"
      ]
     },
     "metadata": {
      "needs_background": "light"
     },
     "output_type": "display_data"
    }
   ],
   "source": [
    "import matplotlib.pyplot as plt\n",
    "\n",
    "fig, ax = plt.subplots()\n",
    "\n",
    "x = range(sample_every_n_iter, max_iterations+1, sample_every_n_iter)\n",
    "ax.plot(x, lda.ll)\n",
    "ax.set_xlabel(\"Iterations\")\n",
    "ax.set_xticks(x)\n",
    "ax.set_ylabel(\"Log-Likelihood\")\n",
    "\n",
    "ax.set_title(\"Log-Likelihood - {} Documents, {} Topics, $\\\\alpha$ {:.2f}, $\\\\eta$ {:.2f}\".format(\n",
    "    lda.n_docs, K, alpha_p, eta_p\n",
    "    )\n",
    ")\n",
    "\n",
    "ax.set_xticklabels(x, rotation = 90)\n",
    "\n",
    "fig.savefig(\"results/timeVsLogLikelihood-d{}t{}i{}b{}alpha{}eta{}.pdf\".format(lda.n_docs, K, max_iterations, burn_in_iter, alpha_p, eta_p))\n"
   ]
  },
  {
   "cell_type": "code",
   "execution_count": 21,
   "id": "c9113680",
   "metadata": {},
   "outputs": [
    {
     "data": {
      "image/png": "[encoded data removed]",
      "text/plain": [
       "<Figure size 432x288 with 1 Axes>"
      ]
     },
     "metadata": {
      "needs_background": "light"
     },
     "output_type": "display_data"
    }
   ],
   "source": [
    "import matplotlib.pyplot as plt\n",
    "\n",
    "fig, ax = plt.subplots()\n",
    "\n",
    "x = range(sample_every_n_iter, max_iterations+1, sample_every_n_iter)\n",
    "ax.plot(x, lda.pp)\n",
    "ax.set_xlabel(\"Iterations\")\n",
    "ax.set_xticks(x)\n",
    "ax.set_ylabel(\"Perplexity\")\n",
    "\n",
    "ax.set_title(\"Perplexity - {} Documents, {} Topics, $\\\\alpha$ {:.2f}, $\\\\eta$ {:.2f}\".format(\n",
    "    lda.n_docs, K, alpha_p, eta_p\n",
    "    )\n",
    ")\n",
    "\n",
    "ax.set_xticklabels(x, rotation = 90)\n",
    "\n",
    "fig.savefig(\"results/timeVsPerplexity-d{}t{}i{}b{}alpha{}eta{}.pdf\".format(lda.n_docs, K, max_iterations, burn_in_iter, alpha_p, eta_p))\n"
   ]
  },
  {
   "cell_type": "code",
   "execution_count": 22,
   "id": "891b1afa",
   "metadata": {},
   "outputs": [
    {
     "data": {
      "image/png": "[encoded data removed]",
      "text/plain": [
       "<Figure size 432x288 with 1 Axes>"
      ]
     },
     "metadata": {
      "needs_background": "light"
     },
     "output_type": "display_data"
    }
   ],
   "source": [
    "import matplotlib.pyplot as plt\n",
    "\n",
    "fig, ax = plt.subplots()\n",
    "\n",
    "x = range(sample_every_n_iter, max_iterations+1, sample_every_n_iter)\n",
    "ax.plot(x, lda.cc)\n",
    "ax.set_xlabel(\"Iterations\")\n",
    "ax.set_xticks(x)\n",
    "ax.set_ylabel(\"Coherence\")\n",
    "\n",
    "ax.set_title(\"Coherence - {} Documents, {} Topics, $\\\\alpha$ {:.2f}, $\\\\eta$ {:.2f}\".format(\n",
    "    lda.n_docs, K, alpha_p, eta_p\n",
    "    )\n",
    ")\n",
    "\n",
    "ax.set_xticklabels(x, rotation = 90)\n",
    "\n",
    "fig.savefig(\"results/timeVsCoherence-d{}t{}i{}b{}alpha{}eta{}.pdf\".format(lda.n_docs, K, max_iterations, burn_in_iter, alpha_p, eta_p))\n"
   ]
  },
  {
   "cell_type": "code",
   "execution_count": 23,
   "id": "cb20bc15",
   "metadata": {},
   "outputs": [],
   "source": [
    "topics = lda.get_topics()\n",
    "str_ = \"\"\n",
    "for id_, topic in enumerate(topics):\n",
    "    str_ += str(id_+1) + \". \"\n",
    "    for w in topic[:-1]:\n",
    "        str_ += w + \", \"\n",
    "    str_ += topic[-1] + \"\\n\"\n",
    "\n",
    "with open(\"results/topics-d{}t{}i{}b{}alpha{}eta{}.txt\".format(lda.n_docs, K, max_iterations, burn_in_iter, alpha_p, eta_p), \"w+\") as f:\n",
    "    f.write(str_)\n"
   ]
  },
  {
   "cell_type": "code",
   "execution_count": 24,
   "id": "72a491d9",
   "metadata": {},
   "outputs": [
    {
     "name": "stdout",
     "output_type": "stream",
     "text": [
      "['brante', 'rhodes', 'horton', 'cmich', 'cmuvm', 'clifford', 'tsa', 'krumreich', 'shograf', 'shorwave']\n",
      "['infectious', 'ccfa', 'programarea', 'shouse', 'trait', 'pretense', 'keefe', 'vccsouth', 'spartan', 'binah']\n",
      "['rabbit', 'pilate', 'sexton', 'xcopyarea', 'pef', 'desperate', 'slagel', 'mully', 'mullin', 'compaq']\n",
      "['jade', 'kay', 'unisql', 'apgea', 'in', 'rclar', 'nazario', 'prey', 'kbas', 'frip']\n",
      "['oncologist', 'guild', 'datman', 'xsendevent', 'dictating', 'cookamunga', 'prozac', 'davidians', 'alink', 'ksand']\n",
      "['bultman', 'overlapped', 'cwj', 'eqh', 'silbiger', 'keren', 'tutor', 'pe', 'tscs', 'rupin']\n",
      "['zoology', 'wpafb', 'relativists', 'oryx', 'chastity', 'cadre', 'dsl', 'njxp', 'skepticism', 'intellect']\n",
      "['ghasting', 'princeton', 'mackie', 'babb', 'andersson', 'gilbert', 'unexpected', 'tamamen', 'maler', 'isgal']\n",
      "['marxism', 'charlap', 'epstein', 'runyon', 'bert', 'ryukoku', 'hind', 'colon', 'cotter', 'luong']\n",
      "['lif', 'stalker', 'gvg', 'ramarren', 'faraday', 'berk', 'clas', 'swaim', 'escrowed', 'jesse']\n"
     ]
    }
   ],
   "source": [
    "for t in topics:\n",
    "    print(t)"
   ]
  },
  {
   "cell_type": "code",
   "execution_count": null,
   "id": "593cfcde",
   "metadata": {},
   "outputs": [],
   "source": []
  }
 ],
 "metadata": {
  "kernelspec": {
   "display_name": "Python 3",
   "language": "python",
   "name": "python3"
  },
  "language_info": {
   "codemirror_mode": {
    "name": "ipython",
    "version": 3
   },
   "file_extension": ".py",
   "mimetype": "text/x-python",
   "name": "python",
   "nbconvert_exporter": "python",
   "pygments_lexer": "ipython3",
   "version": "3.8.10"
  }
 },
 "nbformat": 4,
 "nbformat_minor": 5
}
