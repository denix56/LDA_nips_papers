{
 "cells": [
  {
   "cell_type": "code",
   "execution_count": 1,
   "metadata": {
    "scrolled": true
   },
   "outputs": [
    {
     "name": "stderr",
     "output_type": "stream",
     "text": [
      "/home/iron/Repositories/classes/ml_2_classes/ML2_Exercises/pgm/ex7/denys/LDA_nips_papers/.env/lib/python3.8/site-packages/gensim/similarities/__init__.py:15: UserWarning: The gensim.similarities.levenshtein submodule is disabled, because the optional Levenshtein package <https://pypi.org/project/python-Levenshtein/> is unavailable. Install Levenhstein (e.g. `pip install python-Levenshtein`) to suppress this warning.\n",
      "  warnings.warn(msg)\n"
     ]
    }
   ],
   "source": [
    "%matplotlib inline\n",
    "import re\n",
    "import nltk\n",
    "import string\n",
    "from nltk import word_tokenize\n",
    "from nltk.corpus import stopwords\n",
    "from nltk.stem.porter import PorterStemmer\n",
    "from nltk.stem import WordNetLemmatizer\n",
    "from nltk import pos_tag\n",
    "from joblib import Parallel, delayed\n",
    "from tqdm.notebook import tqdm as tqdm\n",
    "from tqdm.notebook import trange\n",
    "import contextlib\n",
    "import joblib\n",
    "from sklearn.model_selection import train_test_split\n",
    "import numpy as np\n",
    "import pandas as pd\n",
    "import edward2 as ed\n",
    "import tensorflow as tf\n",
    "from scipy.special import digamma\n",
    "from pickle import dump, load\n",
    "from scipy.sparse import csr_matrix\n",
    "import tensorflow_probability as tfp\n",
    "from gensim.corpora.dictionary import Dictionary\n",
    "from gensim.models import CoherenceModel\n",
    "import os\n",
    "import sys\n",
    "import time\n",
    "\n",
    "os.environ['CUDA_VISIBLE_DEVICES'] = '0'\n",
    "gpus = tf.config.experimental.list_physical_devices('GPU')\n",
    "for gpu in gpus:\n",
    "    tf.config.experimental.set_memory_growth(gpu, True)\n",
    "# tensorflow does not work with new numpy versions\n",
    "assert np.__version__  < '1.20'\n",
    "\n"
   ]
  },
  {
   "cell_type": "code",
   "execution_count": 2,
   "metadata": {},
   "outputs": [],
   "source": [
    "tqdm.pandas()"
   ]
  },
  {
   "cell_type": "code",
   "execution_count": 3,
   "metadata": {},
   "outputs": [
    {
     "name": "stderr",
     "output_type": "stream",
     "text": [
      "[nltk_data] Downloading package wordnet to /home/iron/nltk_data...\n",
      "[nltk_data]   Package wordnet is already up-to-date!\n"
     ]
    },
    {
     "data": {
      "text/plain": [
       "True"
      ]
     },
     "execution_count": 3,
     "metadata": {},
     "output_type": "execute_result"
    }
   ],
   "source": [
    "nltk.download('wordnet')"
   ]
  },
  {
   "cell_type": "code",
   "execution_count": 4,
   "metadata": {},
   "outputs": [],
   "source": [
    "# data_proc = pd.read_pickle('data_proc.pkl')\n",
    "# data_enc = pd.read_pickle('data.pkl')\n",
    "# with open('word_to_idx.pkl', 'rb') as f:\n",
    "#     words_to_idx = load(f)"
   ]
  },
  {
   "cell_type": "code",
   "execution_count": 5,
   "metadata": {},
   "outputs": [],
   "source": [
    "seed = 42\n",
    "data = pd.read_csv('nips-papers/papers.csv')\n",
    "data = data[['paper_text']]\n",
    "data_n = data.sample(n=100, random_state=42)"
   ]
  },
  {
   "cell_type": "code",
   "execution_count": 6,
   "metadata": {},
   "outputs": [],
   "source": [
    "# data_n.head()"
   ]
  },
  {
   "cell_type": "code",
   "execution_count": 7,
   "metadata": {},
   "outputs": [],
   "source": [
    "def func(text):\n",
    "    text = text.lower()\n",
    "    text = re.sub(r'(\\d+)', '', text)\n",
    "    text = re.sub(r'(\\n)|(\\t)', ' ', text)\n",
    "    text = text.translate({ ord(c): None for c in string.punctuation })\n",
    "    text = text.strip()\n",
    "    stop_words = set(stopwords.words('english'))\n",
    "    lemmatizer = WordNetLemmatizer()\n",
    "    tokens = word_tokenize(text)\n",
    "    text = [i for i in tokens if not i in stop_words and len(i) > 1]\n",
    "    text = [lemmatizer.lemmatize(word) for word in text]\n",
    "    return text"
   ]
  },
  {
   "cell_type": "code",
   "execution_count": 8,
   "metadata": {},
   "outputs": [
    {
     "data": {
      "application/vnd.jupyter.widget-view+json": {
       "model_id": "baba20a70d8d41d2851dadc232e63c93",
       "version_major": 2,
       "version_minor": 0
      },
      "text/plain": [
       "  0%|          | 0/100 [00:00<?, ?it/s]"
      ]
     },
     "metadata": {},
     "output_type": "display_data"
    }
   ],
   "source": [
    "data_proc = data_n['paper_text'].progress_apply(func)"
   ]
  },
  {
   "cell_type": "code",
   "execution_count": 9,
   "metadata": {},
   "outputs": [
    {
     "data": {
      "text/plain": [
       "509     [independent, component, analysis, identificat...\n",
       "2576    [nearmaximum, entropy, model, binary, neural, ...\n",
       "6362    [nearestneighbor, sample, compression, efficie...\n",
       "6173    [efficient, highorder, interactionaware, featu...\n",
       "6552    [multioutput, polynomial, network, factorizati...\n",
       "Name: paper_text, dtype: object"
      ]
     },
     "execution_count": 9,
     "metadata": {},
     "output_type": "execute_result"
    }
   ],
   "source": [
    "data_proc.head()"
   ]
  },
  {
   "cell_type": "code",
   "execution_count": 10,
   "metadata": {},
   "outputs": [],
   "source": [
    "# words_to_idx = {}\n",
    "# idx_to_word = {}\n",
    "# def encode(text, words_to_idx, idx_to_word):\n",
    "#     text_enc = np.empty(len(text), dtype=int)\n",
    "#     for i, word in enumerate(text):\n",
    "#         if word not in words_to_idx:\n",
    "#             idx = words_to_idx[word] = len(words_to_idx)\n",
    "#             idx_to_word[idx] = word\n",
    "#         else:\n",
    "#             idx = words_to_idx[word]\n",
    "#         text_enc[i] = idx\n",
    "#     return text_enc\n",
    "# data_enc = data_proc.progress_apply(encode, args=(words_to_idx, idx_to_word))"
   ]
  },
  {
   "cell_type": "code",
   "execution_count": 11,
   "metadata": {},
   "outputs": [
    {
     "data": {
      "application/vnd.jupyter.widget-view+json": {
       "model_id": "a8acfeb3f9154963803aedf69d20a0cd",
       "version_major": 2,
       "version_minor": 0
      },
      "text/plain": [
       "  0%|          | 0/100 [00:00<?, ?it/s]"
      ]
     },
     "metadata": {},
     "output_type": "display_data"
    }
   ],
   "source": [
    "def encode2(text, word_dict):\n",
    "    return np.asarray(word_dict.doc2idx(text))\n",
    "\n",
    "word_dict = Dictionary(data_proc)\n",
    "data_enc = data_proc.progress_apply(lambda x: encode2(x, word_dict))"
   ]
  },
  {
   "cell_type": "code",
   "execution_count": 12,
   "metadata": {},
   "outputs": [],
   "source": [
    "# data_proc.to_pickle('data_proc.pkl')\n",
    "# data_enc.to_pickle('data.pkl')\n",
    "\n",
    "# with open('word_to_idx.pkl', 'wb') as f:\n",
    "#     dump(words_to_idx, f)"
   ]
  },
  {
   "cell_type": "code",
   "execution_count": 13,
   "metadata": {},
   "outputs": [],
   "source": [
    "K = 5\n",
    "D = len(data_enc)\n",
    "Ns = data_enc.apply(lambda x: len(x)).to_numpy().astype(np.int)\n",
    "N = Ns.sum()\n",
    "V = len(word_dict)"
   ]
  },
  {
   "cell_type": "code",
   "execution_count": 14,
   "metadata": {},
   "outputs": [
    {
     "name": "stdout",
     "output_type": "stream",
     "text": [
      "5 100 [1473 2453 3310 3107 3017 1621 1727 1618 3434 1774 1454 1339 2501 1669\n",
      " 1785 1426 1956 2017 2192 1927 2614 2839 1642 2324 1934 3103 3264 2957\n",
      " 2776 1736 3298 2756 1244 1501 1855 1112 1979 2687 1972 2950 2946 2881\n",
      " 2925 2306 2767 3010 1629 1468 2904 1105 1847 1282 1463 2645 2189 3190\n",
      " 1907 1033 2197 1437 3537 2117 1484 2646 2227 2141 3498 1673 2113 2894\n",
      " 2744 1479 1917 3173 2566 2640 2765 2451 2814 2804 1580 1656 1806 2439\n",
      " 2567 2834 2827 2455 2306 1458 3056 2524 1648 2298 1153 3384 2860 3158\n",
      " 2646 1954] 227766 18411\n"
     ]
    }
   ],
   "source": [
    "print(K, D, Ns, N, V)"
   ]
  },
  {
   "cell_type": "code",
   "execution_count": 15,
   "metadata": {},
   "outputs": [],
   "source": [
    "def create_sparse(data, alpha, D, K, V):\n",
    "    Ns = np.empty(D, dtype=np.int)\n",
    "     \n",
    "    for i, doc in enumerate(data):\n",
    "        Ns[i] = len(doc)\n",
    "    \n",
    "    N = Ns.sum()\n",
    "    rows = np.empty(N, dtype=np.int64)\n",
    "    cols = np.empty(N, dtype=np.int64)\n",
    "    v_cols = np.empty(N, dtype=np.int64)\n",
    "    \n",
    "    last_idx = 0\n",
    "    \n",
    "    for i, doc in tqdm(enumerate(data), total=D):\n",
    "        n = len(doc)\n",
    "        rows[last_idx:last_idx+n] = i\n",
    "        cols[last_idx:last_idx+n] = np.arange(n, dtype=np.int64)\n",
    "        v_cols[last_idx:last_idx+n] = doc\n",
    "        last_idx += n\n",
    "        \n",
    "    N_max = Ns.max()\n",
    "    phi_rows = np.repeat(rows, K)\n",
    "    phi_cols = np.repeat(cols, K)\n",
    "    phi3 = np.tile(np.arange(K), len(rows))  \n",
    "    phi_indices = np.vstack((phi_rows, phi_cols, phi3)).T\n",
    "    phi = tf.sparse.SparseTensor(phi_indices, values=tf.fill((len(phi_indices),), 1/K), dense_shape=(D, N_max, K))\n",
    "    phi = tf.sparse.reorder(phi)\n",
    "    gamma_v_cols = np.repeat(v_cols, K)\n",
    "    gamma = tf.expand_dims(alpha, 0) + (Ns / K).reshape(-1, 1)\n",
    "\n",
    "    beta_indices = np.vstack((phi3, gamma_v_cols)).T\n",
    "    gamma_indices = np.vstack((phi_rows, phi3)).T\n",
    "    w_indices = np.vstack((phi_rows, phi_cols, phi3, gamma_v_cols)).T\n",
    "    tmp = tf.sparse.SparseTensor(w_indices, phi.values, dense_shape=(D, N_max, K, V))\n",
    "    tmp = tf.sparse.reorder(tmp)\n",
    "    w_indices = tmp.indices\n",
    "    lmbd = tf.fill((K, V), 1/V)\n",
    "    return phi, gamma, lmbd, tf.constant(beta_indices, dtype=tf.int64), tf.constant(gamma_indices, dtype=tf.int64), tf.constant(w_indices, dtype=tf.int64), N_max"
   ]
  },
  {
   "cell_type": "code",
   "execution_count": null,
   "metadata": {},
   "outputs": [],
   "source": [
    "# alpha_n = np.random.rand(K).astype(np.float32)\n",
    "# eta_n = np.random.rand(1).astype(np.float32)\n",
    "# beta_n = np.random.dirichlet(np.random.rand(V).astype(np.float32), size=K).astype(np.float32)\n",
    "# phi_n = [np.full((n, K), 1/K).astype(np.float32) for n in Ns]\n",
    "# gamma_n = alpha_n.reshape(1, -1) + Ns.reshape(-1, 1) / K\n",
    "# gammma_n = gamma_n.astype(np.float32)\n",
    "# lmbd_n = np.full((K, V), eta_n)\n",
    "# lmbd_n = lmbd_n.astype(np.float32)"
   ]
  },
  {
   "cell_type": "code",
   "execution_count": 16,
   "metadata": {
    "scrolled": true,
    "tags": []
   },
   "outputs": [
    {
     "data": {
      "application/vnd.jupyter.widget-view+json": {
       "model_id": "3c2411169e2d4a9092766d531fa71f20",
       "version_major": 2,
       "version_minor": 0
      },
      "text/plain": [
       "  0%|          | 0/100 [00:00<?, ?it/s]"
      ]
     },
     "metadata": {},
     "output_type": "display_data"
    },
    {
     "name": "stdout",
     "output_type": "stream",
     "text": [
      "Preparing...\n",
      "1 : E step\tM step\tELBO = -233279.766\n",
      "2 : E step\tM step\tELBO = -236907.844\n",
      "3 : E step\tM step\tELBO = -197734.438\n",
      "4 : E step\tM step\tELBO = -151478.844\n",
      "5 : E step\tM step\tELBO = -109258.789\n",
      "6 : E step\tM step\tELBO = -76375.2578\n",
      "7 : E step\tM step\tELBO = -49924.5977\n",
      "8 : E step\tM step\tELBO = -30471.8262\n",
      "9 : E step\tM step\tELBO = -15996.1758\n",
      "10 : E step\tM step\tELBO = -3363.90479\n",
      "11 : E step\tM step\tELBO = 8155.35498\n",
      "12 : E step\tM step\tELBO = 20044.6816\n",
      "13 : E step\tM step\tELBO = 29865.5039\n",
      "14 : E step\tM step\tELBO = 37720.6133\n",
      "15 : E step\tM step\tELBO = 45035.4297\n",
      "16 : E step\tM step\tELBO = 52159.8203\n",
      "17 : E step\tM step\tELBO = 58456.8672\n",
      "18 : E step\tM step\tELBO = 63638.8086\n",
      "19 : E step\tM step\tELBO = 67640.2344\n",
      "20 : E step\tM step\tELBO = 70649.4375\n",
      "21 : E step\tM step\tELBO = 72807.2891\n",
      "22 : E step\tM step\tELBO = 74468.4688\n",
      "23 : E step\tM step\tELBO = 75988.7109\n",
      "24 : E step\tM step\tELBO = 77478.2109\n",
      "25 : E step\tM step\tELBO = 78874.4531\n",
      "26 : E step\tM step\tELBO = 80053.2344\n",
      "27 : E step\tM step\tELBO = 80976.3203\n",
      "28 : E step\tM step\tELBO = 81848.8594\n",
      "29 : E step\tM step\tELBO = 82613.0859\n",
      "30 : E step\tM step\tELBO = 83349.3594\n",
      "31 : E step\tM step\tELBO = 84115.6875\n",
      "32 : E step\tM step\tELBO = 84759.6094\n",
      "33 : E step\tM step\tELBO = 85365.4297\n",
      "34 : E step\tM step\tELBO = 86152.125\n",
      "35 : E step\tM step\tELBO = 87032.8125\n",
      "36 : E step\tM step\tELBO = 87630.5312\n",
      "37 : E step\tM step\tELBO = 87958.7812\n",
      "38 : E step\tM step\tELBO = 88283.5938\n",
      "39 : E step\tM step\tELBO = 88684.3906\n",
      "40 : E step\tM step\tELBO = 89107.1953\n",
      "41 : E step\tM step\tELBO = 89702.3\n",
      "42 : E step\tM step\tELBO = 90312.9062\n",
      "43 : E step\tM step\tELBO = 90644.7812\n",
      "44 : E step\tM step\tELBO = 90836.1797\n",
      "45 : E step\tM step\tELBO = 91013.5469\n",
      "46 : E step\tM step\tELBO = 91177.1641\n",
      "47 : E step\tM step\tELBO = 91334.4688\n",
      "48 : E step\tM step\tELBO = 91495.125\n",
      "49 : E step\tM step\tELBO = 91650.5938\n",
      "50 : E step\tM step\tELBO = 91794.2422\n",
      "51 : E step\tM step\tELBO = 91924.4844\n",
      "52 : E step\tM step\tELBO = 92041.6953\n",
      "53 : E step\tM step\tELBO = 92155.5\n",
      "54 : E step\tM step\tELBO = 92250.6719\n",
      "55 : E step\tM step\tELBO = 92340.0156\n",
      "Converged in 55 iterations\n",
      "Time: 771.2344164848328 s\n"
     ]
    }
   ],
   "source": [
    "# It tries to estimate also smoothed params, but eta tends to go negative, breaking all the stuff.\n",
    "# Maybe loss is incorrect\n",
    "\n",
    "class Positive(tf.keras.constraints.Constraint):\n",
    "    def __call__(self, w):\n",
    "        return w * tf.cast(tf.math.greater(w, 0.), w.dtype)   \n",
    "    \n",
    "@tf.function\n",
    "def calc_elbo(alpha, beta, eta, phi, gamma, lmbd, w_indices, D, K, N_max, V):\n",
    "    digamma = tf.math.digamma(gamma) - tf.math.digamma(tf.math.reduce_sum(gamma, axis=1, keepdims=True))\n",
    "    ta = tf.math.lgamma(tf.math.reduce_sum(alpha)) - \\\n",
    "                                          tf.math.reduce_sum(tf.math.lgamma(alpha)) + \\\n",
    "                                          tf.math.reduce_sum(tf.expand_dims(alpha - 1, 0)*digamma, axis=1)\n",
    "    zt = tf.sparse.reduce_sum(tf.expand_dims(digamma, 1)*phi, axis=(1, 2))\n",
    "    wzb = tf.math.reduce_sum(tf.expand_dims(tf.math.log1p(beta), axis=0) * tf.sparse.reduce_sum(tf.SparseTensor(w_indices, phi.values, dense_shape=(D, N_max, K, V)), axis=(1)), axis=(1, 2))\n",
    "    bl = tf.math.reduce_sum((eta-1)*tf.math.reduce_sum(tf.math.digamma(lmbd) - tf.math.digamma(tf.math.reduce_sum(lmbd, axis=1, keepdims=True)), axis=1) + \\\n",
    "         tf.math.lgamma(eta*V) - V*tf.math.lgamma(eta))\n",
    "    qt = -tf.math.lgamma(tf.math.reduce_sum(gamma, axis=1)) + tf.math.reduce_sum(tf.math.lgamma(gamma), axis=1) - tf.math.reduce_sum((gamma-1)*digamma, axis=1)\n",
    "    phi_log_phi = tf.sparse.SparseTensor(phi.indices, phi.values*tf.math.log1p(phi.values), dense_shape=[D, N_max, K])\n",
    "    qz = tf.sparse.reduce_sum(phi_log_phi, axis=(1, 2))\n",
    "    elbo = tf.math.reduce_sum(ta + zt + qt + qz)\n",
    "    return elbo\n",
    "\n",
    "@tf.function\n",
    "def e_step_it(alpha, beta_mod, eta, phi, gamma, lmbd, gamma_indices, w_indices, D, K, N_max, V):\n",
    "    # phi\n",
    "    dg = tf.math.exp(tf.math.digamma(gamma) - tf.math.digamma(tf.math.reduce_sum(gamma, axis=1, keepdims=True)))\n",
    "    phi = tf.sparse.SparseTensor(phi.indices, beta_mod*tf.gather_nd(dg, gamma_indices), dense_shape=[D, N_max, K])\n",
    "    phi /= tf.sparse.reduce_sum(phi, axis=2, keepdims=True) + 1e-5\n",
    "    # gamma\n",
    "    gamma = tf.expand_dims(alpha, 0) + tf.sparse.reduce_sum(phi, axis=1)\n",
    "    # lambda\n",
    "    lmbd = eta + tf.sparse.reduce_sum(tf.SparseTensor(w_indices, phi.values, dense_shape=(D, N_max, K, V)), axis=(0, 1))\n",
    "    \n",
    "    gamma.set_shape((D, K))\n",
    "    lmbd.set_shape((K, V))\n",
    "    return phi, gamma, lmbd\n",
    "\n",
    "@tf.function\n",
    "def e_step(alpha, beta, eta, phi, gamma, lmbd, beta_indices, gamma_indices, w_indices, D, K, N_max, V, max_it=1000, rtol=1e-03, atol=1e-03):      \n",
    "    beta_mod = tf.gather_nd(beta, beta_indices)\n",
    "\n",
    "    np_isclose = lambda elbo_old, elbo: np.allclose(elbo_old, elbo, rtol=rtol, atol=atol)\n",
    "    tf_cond = lambda i, elbo_old, elbo, args: tf.logical_and(i < max_it, tf.logical_or(i == 0, tf.logical_not(tf.numpy_function(np_isclose, [elbo_old, elbo], tf.bool))))\n",
    "    \n",
    "    @tf.function\n",
    "    def tf_body(i, elbo_old, elbo, args):\n",
    "        phi, gamma, lmbd = args\n",
    "        i = i + 1\n",
    "        elbo_old = tf.identity(elbo)\n",
    "        phi, gamma, lmbd = e_step_it(alpha, beta_mod, eta, phi, gamma, lmbd, gamma_indices, w_indices, D, K, N_max, V)\n",
    "        elbo = calc_elbo(alpha, beta, eta, phi, gamma, lmbd, w_indices, D, K, N_max, V)\n",
    "        args = (phi, gamma, lmbd)\n",
    "        return (i, elbo_old, elbo, args)\n",
    "    \n",
    "    i = tf.constant(0, name='e_loop_counter')\n",
    "    elbo = tf.constant(np.inf, dtype=tf.float32)\n",
    "    elbo_old = tf.identity(elbo)\n",
    "    args = (phi, gamma, lmbd)\n",
    "    \n",
    "    i, _, elbo, args = tf.while_loop(tf_cond, tf_body, [i, elbo_old, elbo, args], parallel_iterations=1)\n",
    "    phi, gamma, lmbd = args\n",
    "    return phi, gamma, lmbd\n",
    "\n",
    "@tf.function\n",
    "def m_step(alpha, alpha_2, beta, eta, phi, gamma, lmbd, w_indices, D, K, N_max, V, opt, max_it=1000, rtol=1e-03, atol=1e-03):\n",
    "    # beta\n",
    "    beta = tf.sparse.reduce_sum(tf.SparseTensor(w_indices, phi.values, dense_shape=(D, N_max, K, V)), axis=(0, 1))\n",
    "    beta /= tf.math.reduce_sum(beta, axis=1, keepdims=True) + 1e-5\n",
    "    # alpha\n",
    "    digamma = tf.math.reduce_sum(tf.math.digamma(gamma) - tf.math.digamma(tf.math.reduce_sum(gamma, axis=1, keepdims=True)), axis=0)\n",
    "    \n",
    "    @tf.function\n",
    "    def alpha_elbo(alpha, digamma):\n",
    "        val = tf.math.reduce_sum(tf.math.lgamma(tf.math.reduce_sum(alpha)) - \\\n",
    "                                          tf.math.reduce_sum(tf.math.lgamma(alpha)) + \\\n",
    "                                          tf.math.reduce_sum(tf.expand_dims(alpha - 1, 0)*digamma, axis=1))\n",
    "        return val\n",
    "    \n",
    "    alpha_it_cond = lambda i, digamma: i < K\n",
    "    \n",
    "    np_isclose = lambda elbo_old, elbo: np.allclose(elbo_old, elbo, rtol=rtol, atol=atol)\n",
    "    alpha_cond = lambda i, elbo_old, elbo, digamma: tf.logical_and(i < max_it, tf.logical_or(i == 0, tf.logical_not(tf.numpy_function(np_isclose, [elbo_old, elbo], tf.bool))))\n",
    "    \n",
    "    @tf.function\n",
    "    def alpha_it_body(i, digamma):        \n",
    "        def loss_func():\n",
    "            ta = tf.TensorArray(alpha.dtype, size=K, dynamic_size=False)\n",
    "            alpha_copy = ta.unstack(alpha_2)\n",
    "            alpha_copy = alpha_copy.write(i, tf.math.maximum(alpha[i], 1e-5))\n",
    "            alpha_copy = alpha_copy.stack()\n",
    "            alpha.assign(alpha_copy)\n",
    "            alpha_2.assign(alpha_copy)\n",
    "            a = tf.math.reduce_sum((alpha - 1)*digamma)\n",
    "            res = -(D*(tf.math.lgamma(tf.math.reduce_sum(alpha)) - tf.math.reduce_sum(tf.math.lgamma(alpha))) + a)\n",
    "            return res\n",
    "        losses = tfp.math.minimize(loss_func, max_it, opt, convergence_criterion=tfp.optimizer.convergence_criteria.LossNotDecreasing(rtol=rtol, atol=atol), \n",
    "                                   trainable_variables=[alpha])\n",
    "        \n",
    "        ta = tf.TensorArray(alpha.dtype, size=K, dynamic_size=False)\n",
    "        alpha_copy = ta.unstack(alpha_2)\n",
    "        alpha_copy = alpha_copy.write(i, tf.math.maximum(alpha[i], 1e-5))\n",
    "        alpha_copy = alpha_copy.stack()\n",
    "        alpha.assign(alpha_copy)\n",
    "        \n",
    "        return i + 1, digamma\n",
    "    \n",
    "    @tf.function\n",
    "    def alpha_body(i, elbo_old, elbo, digamma):\n",
    "        i = i + 1\n",
    "        j = tf.constant(0)\n",
    "        elbo_old = tf.identity(elbo)\n",
    "        j, _ = tf.while_loop(alpha_it_cond, alpha_it_body, [j, digamma], parallel_iterations=1)\n",
    "#         tf.print(alpha, output_stream=sys.stdout)\n",
    "        elbo = alpha_elbo(alpha, digamma)\n",
    "        return (i, elbo_old, elbo, digamma)\n",
    "    \n",
    "    i = tf.constant(0)\n",
    "    elbo = tf.constant(np.inf, dtype=tf.float32)\n",
    "    elbo_old = tf.identity(elbo)\n",
    "    i, _, elbo, _ = tf.while_loop(alpha_cond, alpha_body, [i, elbo_old, elbo, digamma], parallel_iterations=1)\n",
    "    \n",
    "    di_lmbd = tf.math.reduce_sum(tf.math.digamma(lmbd) - tf.math.digamma(tf.math.reduce_sum(lmbd, axis=1, keepdims=True))) \n",
    "    # eta\n",
    "    def loss_func():\n",
    "        loss_v = -((eta-1)*di_lmbd + K*(tf.math.lgamma(eta*V) - V*tf.math.lgamma(eta)))\n",
    "        return loss_v\n",
    "    \n",
    "    losses = tfp.math.minimize(loss_func, max_it, opt, convergence_criterion=tfp.optimizer.convergence_criteria.LossNotDecreasing(rtol=rtol, atol=atol), trainable_variables=[eta])\n",
    "    eta.assign(tf.math.maximum(eta, 0.1))\n",
    "    return beta\n",
    "\n",
    "def train(data, D, K, V, alpha=None, eta=None, max_it=1000, seed=42, rtol=1e-3, atol=1e-3):\n",
    "    \"\"\"\n",
    "    alpha\n",
    "        The alpha prior. Must be a single value\n",
    "    eta\n",
    "        The eta prior. Must be a single value\n",
    "    \"\"\"\n",
    "    start = time.time()\n",
    "    if alpha:\n",
    "        alpha = tf.zeros((K,)) + alpha\n",
    "    else:\n",
    "        alpha = tf.random.uniform((K,))\n",
    "    \n",
    "    if eta:\n",
    "        eta = tf.zeros((1,)) + eta\n",
    "    else:\n",
    "        eta = tf.random.uniform((1,))\n",
    "        \n",
    "    beta = tf.convert_to_tensor(np.random.dirichlet(np.zeros((V,)) + eta, size=K), dtype=tf.float32)\n",
    "\n",
    "    opt = tf.optimizers.Adam(1e-3)\n",
    "    \n",
    "    phi, gamma, lmbd, beta_indices, gamma_indices, w_indices, N_max = create_sparse(data, alpha, D, K, V)\n",
    "    N_max = N_max.item()\n",
    "    \n",
    "    alpha = tf.Variable(alpha, constraint=Positive())\n",
    "    alpha_2 = tf.Variable(tf.identity(alpha), trainable=False)\n",
    "    eta = tf.Variable(eta, constraint=Positive())\n",
    "\n",
    "    np_isclose = lambda elbo_old, elbo: np.allclose(elbo_old, elbo, rtol=1e-3, atol=1e-3)\n",
    "    train_cond = lambda i, elbo_old, elbo, args: tf.logical_and(i < max_it, tf.logical_or(i == 0, tf.logical_not(tf.numpy_function(np_isclose, [elbo_old, elbo], tf.bool))))\n",
    "    \n",
    "    @tf.function\n",
    "    def train_body(i, elbo_old, elbo, args):\n",
    "        i = i + 1\n",
    "        beta, phi, gamma, lmbd = args\n",
    "        elbo_old = elbo\n",
    "        tf.print(i, ': E step', output_stream=sys.stdout, end='\\t')\n",
    "        phi, gamma, lmbd = e_step(alpha, beta, eta, phi, gamma, lmbd, beta_indices, gamma_indices, w_indices, D, K, N_max, V, atol=atol, rtol=rtol)\n",
    "        tf.print('M step', output_stream=sys.stdout, end='\\t')\n",
    "        beta = m_step(alpha, alpha_2, beta, eta, phi, gamma, lmbd, w_indices, D, K, N_max, V, opt, atol=atol, rtol=rtol)\n",
    "        elbo = calc_elbo(alpha, beta, eta, phi, gamma, lmbd, w_indices, D, K, N_max, V)\n",
    "        tf.print('ELBO =', elbo, output_stream=sys.stdout)\n",
    "        args = (beta, phi, gamma, lmbd)\n",
    "        return i, elbo_old, elbo, args\n",
    "    \n",
    "    i = tf.constant(0)\n",
    "    args = (beta, phi, gamma, lmbd)\n",
    "    elbo = tf.constant(np.inf, dtype=tf.float32)\n",
    "    elbo_old = tf.identity(elbo)\n",
    "    print('Preparing...')\n",
    "    i, elbo_old, elbo, args = tf.while_loop(train_cond, train_body, [i, elbo_old, elbo, args], parallel_iterations=1)\n",
    "    beta, phi, gamma, lmbd = args\n",
    "    tf.print('Converged in', i,  'iterations', output_stream=sys.stdout)\n",
    "    end = time.time()\n",
    "    print('Time:', end-start, 's')\n",
    "    return alpha, beta, eta, phi, gamma, lmbd, elbo\n",
    "\n",
    "alpha, beta, eta, phi, gamma, lmbd, elbo = train(data_enc, D, K, V)"
   ]
  },
  {
   "cell_type": "code",
   "execution_count": null,
   "metadata": {},
   "outputs": [],
   "source": [
    "# # Generate doc\n",
    "# theta_d = ed.Dirichlet(alpha)\n",
    "# for i in range(100):\n",
    "#     z_dn = ed.Categorical(probs=theta_d)\n",
    "#     w_dn = ed.Categorical(probs=beta[z_dn])\n",
    "#     print(word_dict[w_dn.numpy()])\n"
   ]
  },
  {
   "cell_type": "code",
   "execution_count": null,
   "metadata": {},
   "outputs": [],
   "source": []
  },
  {
   "cell_type": "code",
   "execution_count": 17,
   "metadata": {},
   "outputs": [
    {
     "data": {
      "text/plain": [
       "array([['algorithm', 'data', 'graph', 'problem', 'learning', 'method',\n",
       "        'function', 'set', 'matrix', 'model'],\n",
       "       ['feature', 'game', 'image', 'algorithm', 'set', 'strategy',\n",
       "        'player', 'action', 'method', 'model'],\n",
       "       ['function', 'model', 'distribution', 'data', 'learning',\n",
       "        'algorithm', 'probability', 'sample', 'set', 'problem'],\n",
       "       ['neuron', 'model', 'neural', 'network', 'input', 'figure',\n",
       "        'weight', 'cell', 'learning', 'signal'],\n",
       "       ['network', 'model', 'neural', 'data', 'learning', 'training',\n",
       "        'parameter', 'number', 'using', 'set']], dtype='<U12')"
      ]
     },
     "execution_count": 17,
     "metadata": {},
     "output_type": "execute_result"
    }
   ],
   "source": [
    "# Get topic top words\n",
    "def get_topics(beta, word_dict, k):\n",
    "    topics = []\n",
    "    weights = []\n",
    "    for h in range(k):\n",
    "        top_beta = tf.math.top_k(beta[h], k=10)\n",
    "        topic = [word_dict[i] for i in top_beta[1].numpy()] \n",
    "        weight = list(top_beta[0].numpy())\n",
    "    #     print(([idx_to_word[i] for i in tf.math.top_k(beta[h], k=10)[1].numpy()]))\n",
    "        topics.append(topic)\n",
    "        weights.append(weight)\n",
    "\n",
    "    return (np.asarray(topics), np.asarray(weights))\n",
    "\n",
    "topics, weights = get_topics(beta, word_dict, K)\n",
    "topics"
   ]
  },
  {
   "cell_type": "code",
   "execution_count": 18,
   "metadata": {},
   "outputs": [
    {
     "data": {
      "text/plain": [
       "0.4213764018817706"
      ]
     },
     "execution_count": 18,
     "metadata": {},
     "output_type": "execute_result"
    }
   ],
   "source": [
    "def get_coherence(topics, text_data, word_dict, coherence_type='c_v'):\n",
    "    coherence_model_lda = CoherenceModel(topics=topics, texts=text_data, dictionary=word_dict, coherence='c_v')\n",
    "    return coherence_model_lda.get_coherence()\n",
    "\n",
    "coherence = get_coherence(topics, data_proc, word_dict, 'c_v')\n",
    "coherence"
   ]
  },
  {
   "cell_type": "code",
   "execution_count": null,
   "metadata": {},
   "outputs": [],
   "source": []
  },
  {
   "cell_type": "markdown",
   "metadata": {},
   "source": [
    "Parameter exploration loop"
   ]
  },
  {
   "cell_type": "code",
   "execution_count": null,
   "metadata": {
    "scrolled": true
   },
   "outputs": [
    {
     "data": {
      "application/vnd.jupyter.widget-view+json": {
       "model_id": "13e2c92865454c4a9f40cdd089d73f9d",
       "version_major": 2,
       "version_minor": 0
      },
      "text/plain": [
       "  0%|          | 0/2 [00:00<?, ?it/s]"
      ]
     },
     "metadata": {},
     "output_type": "display_data"
    },
    {
     "data": {
      "application/vnd.jupyter.widget-view+json": {
       "model_id": "2fb71a3b7e6040b2857a10712c13353c",
       "version_major": 2,
       "version_minor": 0
      },
      "text/plain": [
       "  0%|          | 0/25 [00:00<?, ?it/s]"
      ]
     },
     "metadata": {},
     "output_type": "display_data"
    },
    {
     "data": {
      "application/vnd.jupyter.widget-view+json": {
       "model_id": "aa38cbb7c4f54d28bb2d6f8a55d42728",
       "version_major": 2,
       "version_minor": 0
      },
      "text/plain": [
       "  0%|          | 0/25 [00:00<?, ?it/s]"
      ]
     },
     "metadata": {},
     "output_type": "display_data"
    },
    {
     "data": {
      "application/vnd.jupyter.widget-view+json": {
       "model_id": "521a594a96ac4c3898e0246da7ff7e3b",
       "version_major": 2,
       "version_minor": 0
      },
      "text/plain": [
       "  0%|          | 0/180 [00:00<?, ?it/s]"
      ]
     },
     "metadata": {},
     "output_type": "display_data"
    },
    {
     "name": "stdout",
     "output_type": "stream",
     "text": [
      "25 1 0.01 0.01\n"
     ]
    },
    {
     "data": {
      "application/vnd.jupyter.widget-view+json": {
       "model_id": "f3078207ad4b4ec0bf7702cdb03f5578",
       "version_major": 2,
       "version_minor": 0
      },
      "text/plain": [
       "  0%|          | 0/25 [00:00<?, ?it/s]"
      ]
     },
     "metadata": {},
     "output_type": "display_data"
    },
    {
     "name": "stdout",
     "output_type": "stream",
     "text": [
      "Preparing...\n",
      "1 : E step\tM step\tELBO = 2374.34375\n",
      "2 : E step\tM step\tELBO = 4595.79443\n",
      "3 : E step\tM step\tELBO = 6393.53564\n",
      "4 : E step\tM step\tELBO = 8461.25293\n",
      "5 : E step\tM step\tELBO = 9621.52734\n",
      "6 : E step\tM step\tELBO = 10573.9248\n",
      "7 : E step\tM step\tELBO = 11562.6641\n",
      "8 : E step\tM step\tELBO = 12411.3779\n",
      "9 : E step\tM step\tELBO = 13157.124\n",
      "10 : E step\tM step\tELBO = 13822.8564\n",
      "11 : E step\tM step\tELBO = 14561.5361\n",
      "12 : E step\tM step\tELBO = 15453.2236\n",
      "13 : E step\tM step\tELBO = 16127.4395\n",
      "14 : E step\tM step\tELBO = 16666.7754\n",
      "15 : E step\tM step\tELBO = 17048.916\n",
      "16 : E step\tM step\tELBO = 17351.0273\n",
      "17 : E step\tM step\tELBO = 17585.3516\n",
      "18 : E step\tM step\tELBO = 17793.9785\n",
      "19 : E step\tM step\tELBO = 17947.2051\n",
      "20 : E step\tM step\tELBO = 18078.2852\n",
      "21 : E step\tM step\tELBO = 18192.1328\n",
      "22 : E step\tM step\tELBO = 18266.1367\n",
      "23 : E step\tM step\tELBO = 18333.0215\n",
      "24 : E step\tM step\tELBO = 18387.4297\n",
      "25 : E step\tM step\tELBO = 18431.9941\n",
      "26 : E step\tM step\tELBO = 18475.3145\n",
      "27 : E step\tM step\tELBO = 18515.3145\n",
      "28 : E step\tM step\tELBO = 18549.9023\n",
      "29 : E step\tM step\tELBO = 18579.582\n",
      "30 : E step\tM step\tELBO = 18605.5117\n",
      "31 : E step\tM step\tELBO = 18629.3652\n",
      "32 : E step\tM step\tELBO = 18647.3555\n",
      "Converged in 32 iterations\n",
      "Time: 4.212095260620117 s\n",
      "25 1 0.01 0.31\n"
     ]
    },
    {
     "data": {
      "application/vnd.jupyter.widget-view+json": {
       "model_id": "677a9cfc265845f7a1348703134783ea",
       "version_major": 2,
       "version_minor": 0
      },
      "text/plain": [
       "  0%|          | 0/25 [00:00<?, ?it/s]"
      ]
     },
     "metadata": {},
     "output_type": "display_data"
    },
    {
     "name": "stdout",
     "output_type": "stream",
     "text": [
      "Preparing...\n",
      "1 : E step\tM step\tELBO = 19258.4512\n",
      "2 : E step\tM step\tELBO = 29008.25\n",
      "3 : E step\tM step\tELBO = 31536.9219\n",
      "4 : E step\tM step\tELBO = 32248.291\n",
      "5 : E step\tM step\tELBO = 32434.5\n",
      "6 : E step\tM step\tELBO = 32540.3945\n",
      "7 : E step\tM step\tELBO = 32616.9805\n",
      "8 : E step\tM step\tELBO = 32645.8047\n",
      "Converged in 8 iterations\n",
      "Time: 2.112272024154663 s\n",
      "25 1 0.01 0.61\n"
     ]
    },
    {
     "data": {
      "application/vnd.jupyter.widget-view+json": {
       "model_id": "4e90d45574e24072870c693c7012c278",
       "version_major": 2,
       "version_minor": 0
      },
      "text/plain": [
       "  0%|          | 0/25 [00:00<?, ?it/s]"
      ]
     },
     "metadata": {},
     "output_type": "display_data"
    },
    {
     "name": "stdout",
     "output_type": "stream",
     "text": [
      "Preparing...\n",
      "1 : E step\tM step\tELBO = 24415.7383\n",
      "2 : E step\tM step\tELBO = 32267.4453\n",
      "3 : E step\tM step\tELBO = 32681.959\n",
      "4 : E step\tM step\tELBO = 32689.9824\n",
      "Converged in 4 iterations\n",
      "Time: 1.587148904800415 s\n",
      "25 1 0.01 0.9099999999999999\n"
     ]
    },
    {
     "data": {
      "application/vnd.jupyter.widget-view+json": {
       "model_id": "f836dc855ca146758d8995bfc7eb821f",
       "version_major": 2,
       "version_minor": 0
      },
      "text/plain": [
       "  0%|          | 0/25 [00:00<?, ?it/s]"
      ]
     },
     "metadata": {},
     "output_type": "display_data"
    },
    {
     "name": "stdout",
     "output_type": "stream",
     "text": [
      "Preparing...\n",
      "1 : E step\tM step\tELBO = 26478.0918\n",
      "2 : E step\tM step\tELBO = 32946.6641\n",
      "3 : E step\tM step\tELBO = 32824.293\n",
      "4 : E step\tM step\tELBO = 32751.5859\n",
      "5 : E step\tM step\tELBO = 32723.7695\n",
      "Converged in 5 iterations\n",
      "Time: 1.7241103649139404 s\n",
      "25 1 0.01 5\n"
     ]
    },
    {
     "data": {
      "application/vnd.jupyter.widget-view+json": {
       "model_id": "0dc6ade504ca411ba64ad243155962d7",
       "version_major": 2,
       "version_minor": 0
      },
      "text/plain": [
       "  0%|          | 0/25 [00:00<?, ?it/s]"
      ]
     },
     "metadata": {},
     "output_type": "display_data"
    },
    {
     "name": "stdout",
     "output_type": "stream",
     "text": [
      "Preparing...\n",
      "1 : E step\tM step\tELBO = 31454.332\n",
      "2 : E step\tM step\tELBO = 33219.1758\n",
      "3 : E step\tM step\tELBO = 32868.1445\n",
      "4 : E step\tM step\tELBO = 32769.5312\n",
      "5 : E step\tM step\tELBO = 32732.6855\n",
      "6 : E step\tM step\tELBO = 32717.0137\n",
      "Converged in 6 iterations\n",
      "Time: 2.1839427947998047 s\n",
      "25 1 0.01 10\n"
     ]
    },
    {
     "data": {
      "application/vnd.jupyter.widget-view+json": {
       "model_id": "dc06b00598ca4c9ba7afe7a11826c79f",
       "version_major": 2,
       "version_minor": 0
      },
      "text/plain": [
       "  0%|          | 0/25 [00:00<?, ?it/s]"
      ]
     },
     "metadata": {},
     "output_type": "display_data"
    },
    {
     "name": "stdout",
     "output_type": "stream",
     "text": [
      "Preparing...\n",
      "1 : E step\tM step\tELBO = 31934.748\n",
      "2 : E step\tM step\tELBO = 33220.5234\n",
      "3 : E step\tM step\tELBO = 32868.0625\n",
      "4 : E step\tM step\tELBO = 32769.5078\n",
      "5 : E step\tM step\tELBO = 32732.6758\n",
      "6 : E step\tM step\tELBO = 32717.0137\n",
      "Converged in 6 iterations\n",
      "Time: 2.220677614212036 s\n",
      "25 1 0.31 0.01\n"
     ]
    },
    {
     "data": {
      "application/vnd.jupyter.widget-view+json": {
       "model_id": "636e54883b8840ce93e040a16ca14266",
       "version_major": 2,
       "version_minor": 0
      },
      "text/plain": [
       "  0%|          | 0/25 [00:00<?, ?it/s]"
      ]
     },
     "metadata": {},
     "output_type": "display_data"
    },
    {
     "name": "stdout",
     "output_type": "stream",
     "text": [
      "Preparing...\n",
      "1 : E step\tM step\tELBO = 2115.20679\n",
      "2 : E step\tM step\tELBO = 4014.7771\n",
      "3 : E step\tM step\tELBO = 5804.37939\n",
      "4 : E step\tM step\tELBO = 7704.33\n",
      "5 : E step\tM step\tELBO = 9358.15332\n",
      "6 : E step\tM step\tELBO = 10433.0254\n",
      "7 : E step\tM step\tELBO = 11518.1133\n",
      "8 : E step\tM step\tELBO = 12557.1787\n",
      "9 : E step\tM step\tELBO = 13520.8975\n",
      "10 : E step\tM step\tELBO = 14375.5566\n",
      "11 : E step\tM step\tELBO = 15373.1211\n",
      "12 : E step\tM step\tELBO = 16110.3418\n",
      "13 : E step\tM step\tELBO = 16617.4492\n",
      "14 : E step\tM step\tELBO = 16997.4688\n",
      "15 : E step\tM step\tELBO = 17418.7012\n",
      "16 : E step\tM step\tELBO = 17709.0703\n",
      "17 : E step\tM step\tELBO = 17945.1973\n",
      "18 : E step\tM step\tELBO = 18127.0664\n",
      "19 : E step\tM step\tELBO = 18275.293\n",
      "20 : E step\tM step\tELBO = 18412.207\n",
      "21 : E step\tM step\tELBO = 18528.4473\n",
      "22 : E step\tM step\tELBO = 18625.8301\n",
      "23 : E step\tM step\tELBO = 18698.2227\n",
      "24 : E step\tM step\tELBO = 18757.7031\n",
      "25 : E step\tM step\tELBO = 18801.1035\n",
      "26 : E step\tM step\tELBO = 18837.9121\n",
      "27 : E step\tM step\tELBO = 18866.1484\n",
      "28 : E step\tM step\tELBO = 18891.8535\n",
      "29 : E step\tM step\tELBO = 18915.377\n",
      "30 : E step\tM step\tELBO = 18937.2793\n",
      "31 : E step\tM step\tELBO = 18959.457\n",
      "32 : E step\tM step\tELBO = 18982.1426\n",
      "33 : E step\tM step\tELBO = 19001.6973\n",
      "34 : E step\tM step\tELBO = 19018.2051\n",
      "Converged in 34 iterations\n",
      "Time: 4.36830735206604 s\n",
      "25 1 0.31 0.31\n"
     ]
    },
    {
     "data": {
      "application/vnd.jupyter.widget-view+json": {
       "model_id": "0e4a98015f65473692beac3d46cbe2a1",
       "version_major": 2,
       "version_minor": 0
      },
      "text/plain": [
       "  0%|          | 0/25 [00:00<?, ?it/s]"
      ]
     },
     "metadata": {},
     "output_type": "display_data"
    },
    {
     "name": "stdout",
     "output_type": "stream",
     "text": [
      "Preparing...\n",
      "1 : E step\tM step\tELBO = 18378.8262\n",
      "2 : E step\tM step\tELBO = 28900.1133\n",
      "3 : E step\tM step\tELBO = 31334.1484\n",
      "4 : E step\tM step\tELBO = 32051.1895\n",
      "5 : E step\tM step\tELBO = 32428.5293\n",
      "6 : E step\tM step\tELBO = 32544.0938\n",
      "7 : E step\tM step\tELBO = 32606.6133\n",
      "8 : E step\tM step\tELBO = 32637.6055\n",
      "Converged in 8 iterations\n",
      "Time: 2.1915767192840576 s\n",
      "25 1 0.31 0.61\n"
     ]
    },
    {
     "data": {
      "application/vnd.jupyter.widget-view+json": {
       "model_id": "d78926071bd34c689bd532ebcc53a45b",
       "version_major": 2,
       "version_minor": 0
      },
      "text/plain": [
       "  0%|          | 0/25 [00:00<?, ?it/s]"
      ]
     },
     "metadata": {},
     "output_type": "display_data"
    },
    {
     "name": "stdout",
     "output_type": "stream",
     "text": [
      "Preparing...\n",
      "1 : E step\tM step\tELBO = 24666.2148\n",
      "2 : E step\tM step\tELBO = 32166.1191\n",
      "3 : E step\tM step\tELBO = 32668.9609\n",
      "4 : E step\tM step\tELBO = 32706.5742\n",
      "5 : E step\tM step\tELBO = 32700.0234\n",
      "Converged in 5 iterations\n",
      "Time: 1.7022109031677246 s\n",
      "25 1 0.31 0.9099999999999999\n"
     ]
    },
    {
     "data": {
      "application/vnd.jupyter.widget-view+json": {
       "model_id": "d8c228d560634d4d8348c993301fa302",
       "version_major": 2,
       "version_minor": 0
      },
      "text/plain": [
       "  0%|          | 0/25 [00:00<?, ?it/s]"
      ]
     },
     "metadata": {},
     "output_type": "display_data"
    },
    {
     "name": "stdout",
     "output_type": "stream",
     "text": [
      "Preparing...\n",
      "1 : E step\tM step\tELBO = 27286.2656\n",
      "2 : E step\tM step\tELBO = 32880.8594\n",
      "3 : E step\tM step\tELBO = 32814.25\n",
      "4 : E step\tM step\tELBO = 32747.8848\n",
      "5 : E step\tM step\tELBO = 32721.6543\n",
      "Converged in 5 iterations\n",
      "Time: 1.7636749744415283 s\n",
      "25 1 0.31 5\n"
     ]
    },
    {
     "data": {
      "application/vnd.jupyter.widget-view+json": {
       "model_id": "4ab7fb84ed674bf5a320e60fbcf50b61",
       "version_major": 2,
       "version_minor": 0
      },
      "text/plain": [
       "  0%|          | 0/25 [00:00<?, ?it/s]"
      ]
     },
     "metadata": {},
     "output_type": "display_data"
    },
    {
     "name": "stdout",
     "output_type": "stream",
     "text": [
      "Preparing...\n",
      "1 : E step\tM step\tELBO = 31435.7852\n",
      "2 : E step\tM step\tELBO = 33220.6328\n",
      "3 : E step\tM step\tELBO = 32868.1172\n",
      "4 : E step\tM step\tELBO = 32769.5\n",
      "5 : E step\tM step\tELBO = 32732.6719\n",
      "6 : E step\tM step\tELBO = 32717.0059\n",
      "Converged in 6 iterations\n",
      "Time: 2.1256308555603027 s\n",
      "25 1 0.31 10\n"
     ]
    },
    {
     "data": {
      "application/vnd.jupyter.widget-view+json": {
       "model_id": "2347ad0898aa4312bc4d211e08e2870e",
       "version_major": 2,
       "version_minor": 0
      },
      "text/plain": [
       "  0%|          | 0/25 [00:00<?, ?it/s]"
      ]
     },
     "metadata": {},
     "output_type": "display_data"
    },
    {
     "name": "stdout",
     "output_type": "stream",
     "text": [
      "Preparing...\n",
      "1 : E step\tM step\tELBO = 31949.8672\n",
      "2 : E step\tM step\tELBO = 33218.4648\n",
      "3 : E step\tM step\tELBO = 32867.9844\n",
      "4 : E step\tM step\tELBO = 32769.4922\n",
      "5 : E step\tM step\tELBO = 32732.6758\n",
      "6 : E step\tM step\tELBO = 32717.0117\n",
      "Converged in 6 iterations\n",
      "Time: 2.2865090370178223 s\n",
      "25 1 0.61 0.01\n"
     ]
    },
    {
     "data": {
      "application/vnd.jupyter.widget-view+json": {
       "model_id": "5e72341a70f4437c85d974ade749a42a",
       "version_major": 2,
       "version_minor": 0
      },
      "text/plain": [
       "  0%|          | 0/25 [00:00<?, ?it/s]"
      ]
     },
     "metadata": {},
     "output_type": "display_data"
    },
    {
     "name": "stdout",
     "output_type": "stream",
     "text": [
      "Preparing...\n",
      "1 : E step\tM step\tELBO = 2344.88354\n",
      "2 : E step\tM step\tELBO = 4486.85742\n",
      "3 : E step\tM step\tELBO = 6026.56738\n",
      "4 : E step\tM step\tELBO = 7761.18652\n",
      "5 : E step\tM step\tELBO = 9390.71777\n",
      "6 : E step\tM step\tELBO = 10797.7686\n",
      "7 : E step\tM step\tELBO = 12120.4746\n",
      "8 : E step\tM step\tELBO = 12948.9102\n",
      "9 : E step\tM step\tELBO = 13825.7324\n",
      "10 : E step\tM step\tELBO = 14653.3418\n",
      "11 : E step\tM step\tELBO = 15461.2715\n",
      "12 : E step\tM step\tELBO = 16142.3252\n",
      "13 : E step\tM step\tELBO = 16583.9844\n",
      "14 : E step\tM step\tELBO = 17188.0156\n",
      "15 : E step\tM step\tELBO = 17678.3027\n",
      "16 : E step\tM step\tELBO = 17966.748\n",
      "17 : E step\tM step\tELBO = 18162.2578\n",
      "18 : E step\tM step\tELBO = 18302.2598\n",
      "19 : E step\tM step\tELBO = 18449.2598\n",
      "20 : E step\tM step\tELBO = 18547.3887\n",
      "21 : E step\tM step\tELBO = 18651.1133\n",
      "22 : E step\tM step\tELBO = 18745.9531\n",
      "23 : E step\tM step\tELBO = 18821.4727\n",
      "24 : E step\tM step\tELBO = 18882.0098\n",
      "25 : E step\tM step\tELBO = 18938.123\n",
      "26 : E step\tM step\tELBO = 18985.0957\n",
      "27 : E step\tM step\tELBO = 19023.4551\n",
      "28 : E step\tM step\tELBO = 19055.5312\n",
      "29 : E step\tM step\tELBO = 19086.3691\n",
      "30 : E step\tM step\tELBO = 19111.7227\n",
      "31 : E step\tM step\tELBO = 19130.8164\n",
      "Converged in 31 iterations\n",
      "Time: 4.228862285614014 s\n",
      "25 1 0.61 0.31\n"
     ]
    },
    {
     "data": {
      "application/vnd.jupyter.widget-view+json": {
       "model_id": "56aa13f9864a4a2ebd99064a5af95a76",
       "version_major": 2,
       "version_minor": 0
      },
      "text/plain": [
       "  0%|          | 0/25 [00:00<?, ?it/s]"
      ]
     },
     "metadata": {},
     "output_type": "display_data"
    },
    {
     "name": "stdout",
     "output_type": "stream",
     "text": [
      "Preparing...\n",
      "1 : E step\tM step\tELBO = 18504.5625\n",
      "2 : E step\tM step\tELBO = 28929.2891\n",
      "3 : E step\tM step\tELBO = 31632.7461\n",
      "4 : E step\tM step\tELBO = 32288.2109\n",
      "5 : E step\tM step\tELBO = 32451.7734\n",
      "6 : E step\tM step\tELBO = 32542.4277\n",
      "7 : E step\tM step\tELBO = 32591.2773\n",
      "8 : E step\tM step\tELBO = 32629.3691\n",
      "9 : E step\tM step\tELBO = 32651.8652\n",
      "Converged in 9 iterations\n",
      "Time: 2.0258266925811768 s\n",
      "25 1 0.61 0.61\n"
     ]
    },
    {
     "data": {
      "application/vnd.jupyter.widget-view+json": {
       "model_id": "d34f1dcdd9ae4fe18f40a529f8d95222",
       "version_major": 2,
       "version_minor": 0
      },
      "text/plain": [
       "  0%|          | 0/25 [00:00<?, ?it/s]"
      ]
     },
     "metadata": {},
     "output_type": "display_data"
    },
    {
     "name": "stdout",
     "output_type": "stream",
     "text": [
      "Preparing...\n",
      "1 : E step\tM step\tELBO = 24468.127\n",
      "2 : E step\tM step\tELBO = 32187.4102\n",
      "3 : E step\tM step\tELBO = 32672.8086\n",
      "4 : E step\tM step\tELBO = 32709.1172\n",
      "5 : E step\tM step\tELBO = 32702.2539\n",
      "Converged in 5 iterations\n",
      "Time: 1.6338255405426025 s\n",
      "25 1 0.61 0.9099999999999999\n"
     ]
    },
    {
     "data": {
      "application/vnd.jupyter.widget-view+json": {
       "model_id": "92eff9ad9ffc4a5dbd39781e566d61aa",
       "version_major": 2,
       "version_minor": 0
      },
      "text/plain": [
       "  0%|          | 0/25 [00:00<?, ?it/s]"
      ]
     },
     "metadata": {},
     "output_type": "display_data"
    },
    {
     "name": "stdout",
     "output_type": "stream",
     "text": [
      "Preparing...\n",
      "1 : E step\tM step\tELBO = 26746.873\n",
      "2 : E step\tM step\tELBO = 32821.043\n",
      "3 : E step\tM step\tELBO = 32806.5391\n",
      "Converged in 3 iterations\n",
      "Time: 1.5705275535583496 s\n",
      "25 1 0.61 5\n"
     ]
    },
    {
     "data": {
      "application/vnd.jupyter.widget-view+json": {
       "model_id": "3df589279f9e4f0ca9088e4f4f3c1e4b",
       "version_major": 2,
       "version_minor": 0
      },
      "text/plain": [
       "  0%|          | 0/25 [00:00<?, ?it/s]"
      ]
     },
     "metadata": {},
     "output_type": "display_data"
    },
    {
     "name": "stdout",
     "output_type": "stream",
     "text": [
      "Preparing...\n",
      "1 : E step\tM step\tELBO = 31537.748\n",
      "2 : E step\tM step\tELBO = 33214.6602\n",
      "3 : E step\tM step\tELBO = 32867.4805\n",
      "4 : E step\tM step\tELBO = 32769.3242\n",
      "5 : E step\tM step\tELBO = 32732.6035\n",
      "6 : E step\tM step\tELBO = 32716.9766\n",
      "Converged in 6 iterations\n",
      "Time: 2.276832342147827 s\n",
      "25 1 0.61 10\n"
     ]
    },
    {
     "data": {
      "application/vnd.jupyter.widget-view+json": {
       "model_id": "eec475717fa7459fb634818b1d7d8e0f",
       "version_major": 2,
       "version_minor": 0
      },
      "text/plain": [
       "  0%|          | 0/25 [00:00<?, ?it/s]"
      ]
     },
     "metadata": {},
     "output_type": "display_data"
    },
    {
     "name": "stdout",
     "output_type": "stream",
     "text": [
      "Preparing...\n",
      "1 : E step\tM step\tELBO = 32015.6797\n",
      "2 : E step\tM step\tELBO = 33216.1914\n",
      "3 : E step\tM step\tELBO = 32867.5938\n",
      "4 : E step\tM step\tELBO = 32769.3711\n",
      "5 : E step\tM step\tELBO = 32732.627\n",
      "6 : E step\tM step\tELBO = 32716.9902\n",
      "Converged in 6 iterations\n",
      "Time: 2.245131731033325 s\n",
      "25 1 0.9099999999999999 0.01\n"
     ]
    },
    {
     "data": {
      "application/vnd.jupyter.widget-view+json": {
       "model_id": "ae5845e8f03840a1b06edaee7de5287b",
       "version_major": 2,
       "version_minor": 0
      },
      "text/plain": [
       "  0%|          | 0/25 [00:00<?, ?it/s]"
      ]
     },
     "metadata": {},
     "output_type": "display_data"
    },
    {
     "name": "stdout",
     "output_type": "stream",
     "text": [
      "Preparing...\n",
      "1 : E step\tM step\tELBO = 1815.06714\n",
      "2 : E step\tM step\tELBO = 3674.26147\n",
      "3 : E step\tM step\tELBO = 5363.64795\n",
      "4 : E step\tM step\tELBO = 7106.43506\n",
      "5 : E step\tM step\tELBO = 8568.97949\n",
      "6 : E step\tM step\tELBO = 10257.5869\n",
      "7 : E step\tM step\tELBO = 11556.416\n",
      "8 : E step\tM step\tELBO = 12615.5332\n",
      "9 : E step\tM step\tELBO = 13589.9297\n",
      "10 : E step\tM step\tELBO = 14601.6602\n",
      "11 : E step\tM step\tELBO = 15543.0586\n",
      "12 : E step\tM step\tELBO = 16253.9072\n",
      "13 : E step\tM step\tELBO = 16776.0605\n",
      "14 : E step\tM step\tELBO = 17220.9395\n",
      "15 : E step\tM step\tELBO = 17691.7695\n",
      "16 : E step\tM step\tELBO = 17979.3398\n",
      "17 : E step\tM step\tELBO = 18242.9883\n",
      "18 : E step\tM step\tELBO = 18423.4238\n",
      "19 : E step\tM step\tELBO = 18543.5938\n",
      "20 : E step\tM step\tELBO = 18632.2305\n",
      "21 : E step\tM step\tELBO = 18716.748\n",
      "22 : E step\tM step\tELBO = 18805.0293\n",
      "23 : E step\tM step\tELBO = 18884.7754\n",
      "24 : E step\tM step\tELBO = 18940.5195\n",
      "25 : E step\tM step\tELBO = 18980.6641\n",
      "26 : E step\tM step\tELBO = 19023.041\n",
      "27 : E step\tM step\tELBO = 19062.8145\n",
      "28 : E step\tM step\tELBO = 19095.0957\n",
      "29 : E step\tM step\tELBO = 19122.2754\n",
      "30 : E step\tM step\tELBO = 19145.0469\n",
      "31 : E step\tM step\tELBO = 19166.2344\n",
      "32 : E step\tM step\tELBO = 19186.4746\n",
      "33 : E step\tM step\tELBO = 19207.6\n",
      "34 : E step\tM step\tELBO = 19225.9336\n",
      "Converged in 34 iterations\n",
      "Time: 4.547658205032349 s\n",
      "25 1 0.9099999999999999 0.31\n"
     ]
    },
    {
     "data": {
      "application/vnd.jupyter.widget-view+json": {
       "model_id": "e8301060774d4fc9962cdaf9b2442253",
       "version_major": 2,
       "version_minor": 0
      },
      "text/plain": [
       "  0%|          | 0/25 [00:00<?, ?it/s]"
      ]
     },
     "metadata": {},
     "output_type": "display_data"
    },
    {
     "name": "stdout",
     "output_type": "stream",
     "text": [
      "Preparing...\n",
      "1 : E step\tM step\tELBO = 19202.9844\n",
      "2 : E step\tM step\tELBO = 28932.0449\n",
      "3 : E step\tM step\tELBO = 31337.127\n",
      "4 : E step\tM step\tELBO = 32158.5957\n",
      "5 : E step\tM step\tELBO = 32395.5078\n",
      "6 : E step\tM step\tELBO = 32498.3789\n",
      "7 : E step\tM step\tELBO = 32569.8984\n",
      "8 : E step\tM step\tELBO = 32616.0684\n",
      "9 : E step\tM step\tELBO = 32644.8184\n",
      "Converged in 9 iterations\n",
      "Time: 2.106872320175171 s\n",
      "25 1 0.9099999999999999 0.61\n"
     ]
    },
    {
     "data": {
      "application/vnd.jupyter.widget-view+json": {
       "model_id": "b10eb68b2c184260b9c4014956288ad6",
       "version_major": 2,
       "version_minor": 0
      },
      "text/plain": [
       "  0%|          | 0/25 [00:00<?, ?it/s]"
      ]
     },
     "metadata": {},
     "output_type": "display_data"
    },
    {
     "name": "stdout",
     "output_type": "stream",
     "text": [
      "Preparing...\n",
      "1 : E step\tM step\tELBO = 24391.541\n",
      "2 : E step\tM step\tELBO = 32280.6289\n",
      "3 : E step\tM step\tELBO = 32679.8887\n",
      "4 : E step\tM step\tELBO = 32694.0664\n",
      "Converged in 4 iterations\n",
      "Time: 1.9586355686187744 s\n",
      "25 1 0.9099999999999999 0.9099999999999999\n"
     ]
    },
    {
     "data": {
      "application/vnd.jupyter.widget-view+json": {
       "model_id": "f598b493d5f744b38e8649894d757ead",
       "version_major": 2,
       "version_minor": 0
      },
      "text/plain": [
       "  0%|          | 0/25 [00:00<?, ?it/s]"
      ]
     },
     "metadata": {},
     "output_type": "display_data"
    },
    {
     "name": "stdout",
     "output_type": "stream",
     "text": [
      "Preparing...\n",
      "1 : E step\tM step\tELBO = 26902.3398\n",
      "2 : E step\tM step\tELBO = 32817.9531\n",
      "3 : E step\tM step\tELBO = 32809.9609\n",
      "Converged in 3 iterations\n",
      "Time: 1.4474713802337646 s\n",
      "25 1 0.9099999999999999 5\n"
     ]
    },
    {
     "data": {
      "application/vnd.jupyter.widget-view+json": {
       "model_id": "ec35597435f8489297fae72fb2d20d7e",
       "version_major": 2,
       "version_minor": 0
      },
      "text/plain": [
       "  0%|          | 0/25 [00:00<?, ?it/s]"
      ]
     },
     "metadata": {},
     "output_type": "display_data"
    },
    {
     "name": "stdout",
     "output_type": "stream",
     "text": [
      "Preparing...\n",
      "1 : E step\tM step\tELBO = 31573.1426\n",
      "2 : E step\tM step\tELBO = 33210.9492\n",
      "3 : E step\tM step\tELBO = 32866.9609\n",
      "4 : E step\tM step\tELBO = 32769.2383\n",
      "5 : E step\tM step\tELBO = 32732.5879\n",
      "6 : E step\tM step\tELBO = 32716.9766\n",
      "Converged in 6 iterations\n",
      "Time: 2.1465892791748047 s\n",
      "25 1 0.9099999999999999 10\n"
     ]
    },
    {
     "data": {
      "application/vnd.jupyter.widget-view+json": {
       "model_id": "d0882b59616644f49f69fd04b19381ba",
       "version_major": 2,
       "version_minor": 0
      },
      "text/plain": [
       "  0%|          | 0/25 [00:00<?, ?it/s]"
      ]
     },
     "metadata": {},
     "output_type": "display_data"
    },
    {
     "name": "stdout",
     "output_type": "stream",
     "text": [
      "Preparing...\n",
      "1 : E step\tM step\tELBO = 31894.3457\n",
      "2 : E step\tM step\tELBO = 33222.2031\n",
      "3 : E step\tM step\tELBO = 32868.4766\n",
      "4 : E step\tM step\tELBO = 32769.625\n",
      "5 : E step\tM step\tELBO = 32732.7227\n",
      "6 : E step\tM step\tELBO = 32717.0332\n",
      "Converged in 6 iterations\n",
      "Time: 2.304630756378174 s\n",
      "25 1 5 0.01\n"
     ]
    },
    {
     "data": {
      "application/vnd.jupyter.widget-view+json": {
       "model_id": "d78dd4d43a074ee2916e5ea1afb3d190",
       "version_major": 2,
       "version_minor": 0
      },
      "text/plain": [
       "  0%|          | 0/25 [00:00<?, ?it/s]"
      ]
     },
     "metadata": {},
     "output_type": "display_data"
    },
    {
     "name": "stdout",
     "output_type": "stream",
     "text": [
      "Preparing...\n",
      "1 : E step\tM step\tELBO = 2315.9375\n",
      "2 : E step\tM step\tELBO = 4501.88037\n",
      "3 : E step\tM step\tELBO = 6462.10254\n",
      "4 : E step\tM step\tELBO = 8230.98\n",
      "5 : E step\tM step\tELBO = 9534.39258\n",
      "6 : E step\tM step\tELBO = 10773.374\n",
      "7 : E step\tM step\tELBO = 11569.1631\n",
      "8 : E step\tM step\tELBO = 12657.1416\n",
      "9 : E step\tM step\tELBO = 13377.0703\n",
      "10 : E step\tM step\tELBO = 14178.2295\n",
      "11 : E step\tM step\tELBO = 15070.293\n",
      "12 : E step\tM step\tELBO = 15711.8594\n",
      "13 : E step\tM step\tELBO = 16277.2988\n",
      "14 : E step\tM step\tELBO = 16719.7324\n",
      "15 : E step\tM step\tELBO = 17054.6016\n",
      "16 : E step\tM step\tELBO = 17355.6074\n",
      "17 : E step\tM step\tELBO = 17568.3066\n",
      "18 : E step\tM step\tELBO = 17749.5527\n",
      "19 : E step\tM step\tELBO = 17903.5703\n",
      "20 : E step\tM step\tELBO = 18027.6133\n",
      "21 : E step\tM step\tELBO = 18128.2637\n",
      "22 : E step\tM step\tELBO = 18207.832\n",
      "23 : E step\tM step\tELBO = 18295.5664\n",
      "24 : E step\tM step\tELBO = 18364.5273\n",
      "25 : E step\tM step\tELBO = 18422.1387\n",
      "26 : E step\tM step\tELBO = 18481.502\n",
      "27 : E step\tM step\tELBO = 18524.1113\n",
      "28 : E step\tM step\tELBO = 18554.5156\n",
      "29 : E step\tM step\tELBO = 18586.3477\n",
      "30 : E step\tM step\tELBO = 18611.2227\n",
      "31 : E step\tM step\tELBO = 18627.7012\n",
      "Converged in 31 iterations\n",
      "Time: 4.00114631652832 s\n",
      "25 1 5 0.31\n"
     ]
    },
    {
     "data": {
      "application/vnd.jupyter.widget-view+json": {
       "model_id": "58337d23534c4d4cb81a38939bb24fce",
       "version_major": 2,
       "version_minor": 0
      },
      "text/plain": [
       "  0%|          | 0/25 [00:00<?, ?it/s]"
      ]
     },
     "metadata": {},
     "output_type": "display_data"
    },
    {
     "name": "stdout",
     "output_type": "stream",
     "text": [
      "Preparing...\n",
      "1 : E step\tM step\tELBO = 19331.1602\n",
      "2 : E step\tM step\tELBO = 29450.2012\n",
      "3 : E step\tM step\tELBO = 31590.5254\n",
      "4 : E step\tM step\tELBO = 32204.7246\n",
      "5 : E step\tM step\tELBO = 32472.6562\n",
      "6 : E step\tM step\tELBO = 32561.8809\n",
      "7 : E step\tM step\tELBO = 32608.6504\n",
      "8 : E step\tM step\tELBO = 32636.1504\n",
      "Converged in 8 iterations\n",
      "Time: 1.7989225387573242 s\n",
      "25 1 5 0.61\n"
     ]
    },
    {
     "data": {
      "application/vnd.jupyter.widget-view+json": {
       "model_id": "ac335b83edbf4a0797a11fba308b3541",
       "version_major": 2,
       "version_minor": 0
      },
      "text/plain": [
       "  0%|          | 0/25 [00:00<?, ?it/s]"
      ]
     },
     "metadata": {},
     "output_type": "display_data"
    },
    {
     "name": "stdout",
     "output_type": "stream",
     "text": [
      "Preparing...\n",
      "1 : E step\tM step\tELBO = 25071.8379\n",
      "2 : E step\tM step\tELBO = 32098.123\n",
      "3 : E step\tM step\tELBO = 32642.623\n",
      "4 : E step\tM step\tELBO = 32686.0254\n",
      "5 : E step\tM step\tELBO = 32697.4863\n",
      "Converged in 5 iterations\n",
      "Time: 1.5744950771331787 s\n",
      "25 1 5 0.9099999999999999\n"
     ]
    },
    {
     "data": {
      "application/vnd.jupyter.widget-view+json": {
       "model_id": "ce064d561c304c6aa102e020ae369695",
       "version_major": 2,
       "version_minor": 0
      },
      "text/plain": [
       "  0%|          | 0/25 [00:00<?, ?it/s]"
      ]
     },
     "metadata": {},
     "output_type": "display_data"
    },
    {
     "name": "stdout",
     "output_type": "stream",
     "text": [
      "Preparing...\n",
      "1 : E step\tM step\tELBO = 26857.1641\n",
      "2 : E step\tM step\tELBO = 32796.9844\n",
      "3 : E step\tM step\tELBO = 32804.6445\n",
      "Converged in 3 iterations\n",
      "Time: 1.4096856117248535 s\n",
      "25 1 5 5\n"
     ]
    },
    {
     "data": {
      "application/vnd.jupyter.widget-view+json": {
       "model_id": "b79461ecdb324514b75a8b2ce8a323ea",
       "version_major": 2,
       "version_minor": 0
      },
      "text/plain": [
       "  0%|          | 0/25 [00:00<?, ?it/s]"
      ]
     },
     "metadata": {},
     "output_type": "display_data"
    },
    {
     "name": "stdout",
     "output_type": "stream",
     "text": [
      "Preparing...\n",
      "1 : E step\tM step\tELBO = 31475.4\n",
      "2 : E step\tM step\tELBO = 33217.8828\n",
      "3 : E step\tM step\tELBO = 32867.8906\n",
      "4 : E step\tM step\tELBO = 32769.457\n",
      "5 : E step\tM step\tELBO = 32732.6641\n",
      "6 : E step\tM step\tELBO = 32717.0059\n",
      "Converged in 6 iterations\n",
      "Time: 1.9693005084991455 s\n",
      "25 1 5 10\n"
     ]
    },
    {
     "data": {
      "application/vnd.jupyter.widget-view+json": {
       "model_id": "4e346ea901534397a3217207da50e0ce",
       "version_major": 2,
       "version_minor": 0
      },
      "text/plain": [
       "  0%|          | 0/25 [00:00<?, ?it/s]"
      ]
     },
     "metadata": {},
     "output_type": "display_data"
    },
    {
     "name": "stdout",
     "output_type": "stream",
     "text": [
      "Preparing...\n",
      "1 : E step\tM step\tELBO = 31890.4727\n",
      "2 : E step\tM step\tELBO = 33221.7617\n",
      "3 : E step\tM step\tELBO = 32868.3516\n",
      "4 : E step\tM step\tELBO = 32769.5938\n",
      "5 : E step\tM step\tELBO = 32732.7129\n",
      "6 : E step\tM step\tELBO = 32717.0273\n",
      "Converged in 6 iterations\n",
      "Time: 2.044567823410034 s\n",
      "25 1 10 0.01\n"
     ]
    },
    {
     "data": {
      "application/vnd.jupyter.widget-view+json": {
       "model_id": "73c001fca20147e9bc920e16ab1907ba",
       "version_major": 2,
       "version_minor": 0
      },
      "text/plain": [
       "  0%|          | 0/25 [00:00<?, ?it/s]"
      ]
     },
     "metadata": {},
     "output_type": "display_data"
    },
    {
     "name": "stdout",
     "output_type": "stream",
     "text": [
      "Preparing...\n",
      "1 : E step\tM step\tELBO = 1588.24768\n",
      "2 : E step\tM step\tELBO = 3762.00269\n",
      "3 : E step\tM step\tELBO = 5687.99561\n",
      "4 : E step\tM step\tELBO = 7625.22705\n",
      "5 : E step\tM step\tELBO = 8916.12207\n",
      "6 : E step\tM step\tELBO = 10299.4521\n",
      "7 : E step\tM step\tELBO = 11417.8926\n",
      "8 : E step\tM step\tELBO = 12565.3047\n",
      "9 : E step\tM step\tELBO = 14323.4814\n",
      "10 : E step\tM step\tELBO = 15267.8125\n",
      "11 : E step\tM step\tELBO = 15986.0469\n",
      "12 : E step\tM step\tELBO = 16603.6211\n",
      "13 : E step\tM step\tELBO = 17237.3184\n",
      "14 : E step\tM step\tELBO = 17693.6914\n",
      "15 : E step\tM step\tELBO = 18058.0625\n",
      "16 : E step\tM step\tELBO = 18317.6602\n",
      "17 : E step\tM step\tELBO = 18551.4316\n",
      "18 : E step\tM step\tELBO = 18743.8887\n",
      "19 : E step\tM step\tELBO = 18864.9141\n",
      "20 : E step\tM step\tELBO = 18992.5742\n",
      "21 : E step\tM step\tELBO = 19092.9414\n",
      "22 : E step\tM step\tELBO = 19183.002\n",
      "23 : E step\tM step\tELBO = 19257.582\n",
      "24 : E step\tM step\tELBO = 19317.2402\n",
      "25 : E step\tM step\tELBO = 19375.1719\n",
      "26 : E step\tM step\tELBO = 19424.8633\n",
      "27 : E step\tM step\tELBO = 19465.1562\n",
      "28 : E step\tM step\tELBO = 19499.4746\n",
      "29 : E step\tM step\tELBO = 19527.584\n",
      "30 : E step\tM step\tELBO = 19549.2441\n",
      "31 : E step\tM step\tELBO = 19567.8594\n",
      "Converged in 31 iterations\n",
      "Time: 3.821068525314331 s\n",
      "25 1 10 0.31\n"
     ]
    },
    {
     "data": {
      "application/vnd.jupyter.widget-view+json": {
       "model_id": "e3cc9507f28c4066a807ab8fcabec257",
       "version_major": 2,
       "version_minor": 0
      },
      "text/plain": [
       "  0%|          | 0/25 [00:00<?, ?it/s]"
      ]
     },
     "metadata": {},
     "output_type": "display_data"
    },
    {
     "name": "stdout",
     "output_type": "stream",
     "text": [
      "Preparing...\n",
      "1 : E step\tM step\tELBO = 20108.0918\n",
      "2 : E step\tM step\tELBO = 29879.1094\n",
      "3 : E step\tM step\tELBO = 31557.8691\n",
      "4 : E step\tM step\tELBO = 32137.0098\n",
      "5 : E step\tM step\tELBO = 32408.0371\n",
      "6 : E step\tM step\tELBO = 32527.0469\n",
      "7 : E step\tM step\tELBO = 32581.9492\n",
      "8 : E step\tM step\tELBO = 32624.2598\n",
      "9 : E step\tM step\tELBO = 32650.373\n",
      "Converged in 9 iterations\n",
      "Time: 1.9357264041900635 s\n",
      "25 1 10 0.61\n"
     ]
    },
    {
     "data": {
      "application/vnd.jupyter.widget-view+json": {
       "model_id": "c5a3ddfe8b324b76bdab134cce16d41b",
       "version_major": 2,
       "version_minor": 0
      },
      "text/plain": [
       "  0%|          | 0/25 [00:00<?, ?it/s]"
      ]
     },
     "metadata": {},
     "output_type": "display_data"
    },
    {
     "name": "stdout",
     "output_type": "stream",
     "text": [
      "Preparing...\n",
      "1 : E step\tM step\tELBO = 25018.9746\n",
      "2 : E step\tM step\tELBO = 32158.6973\n",
      "3 : E step\tM step\tELBO = 32628.7637\n",
      "4 : E step\tM step\tELBO = 32693.5371\n",
      "5 : E step\tM step\tELBO = 32696.9336\n",
      "Converged in 5 iterations\n",
      "Time: 2.1892507076263428 s\n",
      "25 1 10 0.9099999999999999\n"
     ]
    },
    {
     "data": {
      "application/vnd.jupyter.widget-view+json": {
       "model_id": "382d9489648c48f09403bf4151d2df61",
       "version_major": 2,
       "version_minor": 0
      },
      "text/plain": [
       "  0%|          | 0/25 [00:00<?, ?it/s]"
      ]
     },
     "metadata": {},
     "output_type": "display_data"
    },
    {
     "name": "stdout",
     "output_type": "stream",
     "text": [
      "Preparing...\n",
      "1 : E step\tM step\tELBO = 26620.5215\n",
      "2 : E step\tM step\tELBO = 32851.0078\n",
      "3 : E step\tM step\tELBO = 32805.3711\n",
      "4 : E step\tM step\tELBO = 32749.0625\n",
      "5 : E step\tM step\tELBO = 32724.502\n",
      "Converged in 5 iterations\n",
      "Time: 1.6629748344421387 s\n",
      "25 1 10 5\n"
     ]
    },
    {
     "data": {
      "application/vnd.jupyter.widget-view+json": {
       "model_id": "4b12ec4d045142b8b1dd8a8235e6d896",
       "version_major": 2,
       "version_minor": 0
      },
      "text/plain": [
       "  0%|          | 0/25 [00:00<?, ?it/s]"
      ]
     },
     "metadata": {},
     "output_type": "display_data"
    },
    {
     "name": "stdout",
     "output_type": "stream",
     "text": [
      "Preparing...\n",
      "1 : E step\tM step\tELBO = 31584.4648\n",
      "2 : E step\tM step\tELBO = 33213.293\n",
      "3 : E step\tM step\tELBO = 32866.8594\n",
      "4 : E step\tM step\tELBO = 32769.0859\n",
      "5 : E step\tM step\tELBO = 32732.502\n",
      "6 : E step\tM step\tELBO = 32716.9297\n",
      "Converged in 6 iterations\n",
      "Time: 1.997713327407837 s\n",
      "25 1 10 10\n"
     ]
    },
    {
     "data": {
      "application/vnd.jupyter.widget-view+json": {
       "model_id": "fafc56d041cb418ea125dac6c62e9278",
       "version_major": 2,
       "version_minor": 0
      },
      "text/plain": [
       "  0%|          | 0/25 [00:00<?, ?it/s]"
      ]
     },
     "metadata": {},
     "output_type": "display_data"
    },
    {
     "name": "stdout",
     "output_type": "stream",
     "text": [
      "Preparing...\n",
      "1 : E step\tM step\tELBO = 31994.0176\n",
      "2 : E step\tM step\tELBO = 33217.3672\n",
      "3 : E step\tM step\tELBO = 32867.7578\n",
      "4 : E step\tM step\tELBO = 32769.4531\n",
      "5 : E step\tM step\tELBO = 32732.666\n",
      "6 : E step\tM step\tELBO = 32717.0078\n",
      "Converged in 6 iterations\n",
      "Time: 2.4234671592712402 s\n",
      "25 4 0.01 0.01\n"
     ]
    },
    {
     "data": {
      "application/vnd.jupyter.widget-view+json": {
       "model_id": "95409acc9c694d46bf879bf85124758d",
       "version_major": 2,
       "version_minor": 0
      },
      "text/plain": [
       "  0%|          | 0/25 [00:00<?, ?it/s]"
      ]
     },
     "metadata": {},
     "output_type": "display_data"
    },
    {
     "name": "stdout",
     "output_type": "stream",
     "text": [
      "Preparing...\n",
      "1 : E step\tM step\tELBO = -7407.19238\n",
      "2 : E step\tM step\tELBO = -13131.4414\n",
      "3 : E step\tM step\tELBO = -16784.1934\n",
      "4 : E step\tM step\tELBO = -20101.418\n",
      "5 : E step\tM step\tELBO = -22259.7129\n",
      "6 : E step\tM step\tELBO = -24007.6016\n",
      "7 : E step\tM step\tELBO = -25318.0879\n",
      "8 : E step\tM step\tELBO = -26879.4199\n",
      "9 : E step\tM step\tELBO = -28083.0137\n",
      "10 : E step\tM step\tELBO = -28943.9668\n",
      "11 : E step\tM step\tELBO = -29519.1387\n",
      "12 : E step\tM step\tELBO = -30109.6699\n",
      "13 : E step\tM step\tELBO = -30822.0312\n",
      "14 : E step\tM step\tELBO = -31233.7969\n",
      "15 : E step\tM step\tELBO = -31567.4102\n",
      "16 : E step\tM step\tELBO = -31891.2852\n",
      "17 : E step\tM step\tELBO = -32142.5781\n",
      "18 : E step\tM step\tELBO = -32308.791\n",
      "19 : E step\tM step\tELBO = -32467.6777\n",
      "20 : E step\tM step\tELBO = -32629.2871\n",
      "21 : E step\tM step\tELBO = -32736.0527\n",
      "22 : E step\tM step\tELBO = -32822.2734\n",
      "23 : E step\tM step\tELBO = -32904.3594\n",
      "24 : E step\tM step\tELBO = -32983.2656\n",
      "25 : E step\tM step\tELBO = -33042.0391\n",
      "26 : E step\tM step\tELBO = -33085.8164\n",
      "27 : E step\tM step\tELBO = -33119.7422\n",
      "28 : E step\tM step\tELBO = -33149.8789\n",
      "Converged in 28 iterations\n",
      "Time: 23.689343214035034 s\n",
      "25 4 0.01 0.31\n"
     ]
    },
    {
     "data": {
      "application/vnd.jupyter.widget-view+json": {
       "model_id": "f55fb21c309f41aeaf6c4029ad8c38d4",
       "version_major": 2,
       "version_minor": 0
      },
      "text/plain": [
       "  0%|          | 0/25 [00:00<?, ?it/s]"
      ]
     },
     "metadata": {},
     "output_type": "display_data"
    },
    {
     "name": "stdout",
     "output_type": "stream",
     "text": [
      "Preparing...\n",
      "1 : E step\tM step\tELBO = -43157.7734\n",
      "2 : E step\tM step\tELBO = -45859.0117\n",
      "3 : E step\tM step\tELBO = -43997.0898\n",
      "4 : E step\tM step\tELBO = -41315.8633\n",
      "5 : E step\tM step\tELBO = -37775.875\n",
      "6 : E step\tM step\tELBO = -33570.3555\n",
      "7 : E step\tM step\tELBO = -28916.6387\n",
      "8 : E step\tM step\tELBO = -23927.5273\n",
      "9 : E step\tM step\tELBO = -18956.9785\n",
      "10 : E step\tM step\tELBO = -13753.8281\n",
      "11 : E step\tM step\tELBO = -8461.61719\n",
      "12 : E step\tM step\tELBO = -3447.50635\n",
      "13 : E step\tM step\tELBO = 1081.01208\n",
      "14 : E step\tM step\tELBO = 4816.12\n",
      "15 : E step\tM step\tELBO = 8283.4\n",
      "16 : E step\tM step\tELBO = 11779.9033\n",
      "17 : E step\tM step\tELBO = 14969.0957\n",
      "18 : E step\tM step\tELBO = 17383.2656\n",
      "19 : E step\tM step\tELBO = 19384.8438\n",
      "20 : E step\tM step\tELBO = 21124.332\n",
      "21 : E step\tM step\tELBO = 22495.8027\n",
      "22 : E step\tM step\tELBO = 23729.1152\n",
      "23 : E step\tM step\tELBO = 24684.7578\n",
      "24 : E step\tM step\tELBO = 25558.918\n",
      "25 : E step\tM step\tELBO = 26305.2793\n",
      "26 : E step\tM step\tELBO = 26855.7207\n",
      "27 : E step\tM step\tELBO = 27372.2051\n",
      "28 : E step\tM step\tELBO = 27903.9688\n",
      "29 : E step\tM step\tELBO = 28441.8672\n",
      "30 : E step\tM step\tELBO = 28883.0352\n",
      "31 : E step\tM step\tELBO = 29272.0547\n",
      "32 : E step\tM step\tELBO = 29547.0762\n",
      "33 : E step\tM step\tELBO = 29737.4199\n",
      "34 : E step\tM step\tELBO = 29903.0527\n",
      "35 : E step\tM step\tELBO = 30060.8691\n",
      "36 : E step\tM step\tELBO = 30186.4805\n",
      "37 : E step\tM step\tELBO = 30305.2148\n",
      "38 : E step\tM step\tELBO = 30418.0898\n",
      "39 : E step\tM step\tELBO = 30534.1484\n",
      "40 : E step\tM step\tELBO = 30687.6855\n",
      "41 : E step\tM step\tELBO = 30848.7168\n",
      "42 : E step\tM step\tELBO = 31002.7617\n",
      "43 : E step\tM step\tELBO = 31114.959\n",
      "44 : E step\tM step\tELBO = 31227.2207\n",
      "45 : E step\tM step\tELBO = 31344.8047\n",
      "46 : E step\tM step\tELBO = 31458.8164\n",
      "47 : E step\tM step\tELBO = 31567.3262\n",
      "48 : E step\tM step\tELBO = 31680.0645\n",
      "49 : E step\tM step\tELBO = 31823.2422\n",
      "50 : E step\tM step\tELBO = 31926.6367\n",
      "51 : E step\tM step\tELBO = 32028.7715\n",
      "52 : E step\tM step\tELBO = 32132.0391\n",
      "53 : E step\tM step\tELBO = 32247.8203\n",
      "54 : E step\tM step\tELBO = 32418.7324\n",
      "55 : E step\tM step\tELBO = 32577.959\n",
      "56 : E step\tM step\tELBO = 32717.4688\n",
      "57 : E step\tM step\tELBO = 32842.2188\n",
      "58 : E step\tM step\tELBO = 32961.5312\n",
      "59 : E step\tM step\tELBO = 33041.2\n",
      "60 : E step\tM step\tELBO = 33101.957\n",
      "61 : E step\tM step\tELBO = 33150.4688\n",
      "62 : E step\tM step\tELBO = 33193.9023\n",
      "63 : E step\tM step\tELBO = 33236\n",
      "64 : E step\tM step\tELBO = 33272.8438\n",
      "65 : E step\tM step\tELBO = 33305.6445\n",
      "Converged in 65 iterations\n",
      "Time: 96.79243564605713 s\n",
      "25 4 0.01 0.61\n"
     ]
    },
    {
     "data": {
      "application/vnd.jupyter.widget-view+json": {
       "model_id": "da156bfc76be411384817598f8201204",
       "version_major": 2,
       "version_minor": 0
      },
      "text/plain": [
       "  0%|          | 0/25 [00:00<?, ?it/s]"
      ]
     },
     "metadata": {},
     "output_type": "display_data"
    },
    {
     "name": "stdout",
     "output_type": "stream",
     "text": [
      "Preparing...\n",
      "1 : E step\tM step\t"
     ]
    }
   ],
   "source": [
    "Ns = [25, 50]\n",
    "Ks = range(1, 15, 3)\n",
    "etas = list(np.arange(0.01, 1., 0.3)) + [5, 10]\n",
    "alphas = list(np.arange(0.01, 1., 0.3)) + [5, 10]\n",
    "\n",
    "params = []\n",
    "for n in Ns:\n",
    "    n_params = []\n",
    "    for k in Ks:\n",
    "        for a in alphas:\n",
    "            for e in etas:\n",
    "                n_params.append((k, a, e))\n",
    "    params.append((n, n_params))\n",
    "\n",
    "results = pd.DataFrame(columns=[\"N\", \"K\", \"alpha\", \"eta\", \"elbo\", \"coherence\", \"topics\", \"weights\"])\n",
    "\n",
    "i = 0\n",
    "for n, n_params in tqdm(params):\n",
    "    data_n = data.sample(n=n, random_state=42)\n",
    "    data_proc = data_n['paper_text'].progress_apply(func)\n",
    "    word_dict = Dictionary(data_proc)\n",
    "    data_enc = data_proc.progress_apply(lambda x: encode2(x, word_dict))\n",
    "    V = len(word_dict)\n",
    "    \n",
    "    for k, a, e in tqdm(n_params):\n",
    "        print(n, k, a, e)\n",
    "        _, beta, _, _, _, _, elbo = train(data_enc, n, k, V, alpha=a, eta=e)\n",
    "        topics, weights = get_topics(beta, word_dict, k=k)\n",
    "        coherence = get_coherence(topics, data_proc, word_dict, 'c_v')\n",
    "        str_topics = repr([list(topic) for topic in topics])\n",
    "        str_weights = repr([list(weight) for weight in weights])\n",
    "        results.loc[i] = n, k, a, e, elbo.numpy(), coherence, str_topics, str_weights\n",
    "        i += 1"
   ]
  },
  {
   "cell_type": "code",
   "execution_count": null,
   "metadata": {},
   "outputs": [],
   "source": [
    "results"
   ]
  },
  {
   "cell_type": "code",
   "execution_count": null,
   "metadata": {},
   "outputs": [],
   "source": [
    "results.to_csv(\"results/resultset_1.csv\", index=False)"
   ]
  },
  {
   "cell_type": "code",
   "execution_count": null,
   "metadata": {},
   "outputs": [],
   "source": []
  },
  {
   "cell_type": "code",
   "execution_count": null,
   "metadata": {
    "tags": []
   },
   "outputs": [],
   "source": [
    "# MAX_IT = 10\n",
    "# EPS = 0.001\n",
    "# tf.executing_eagerly()\n",
    "# optim = tf.keras.optimizers.Adam(1e-3)\n",
    "# # B = ed.Dirichlet(concentration=tf.fill([K, V], 0.1), name=\"topics\")\n",
    "# # Z = ed.DirichletMultinomial(tf.convert_to_tensor(Ns), concentration=tf.fill([D, K], 0.1))\n",
    "# alpha = np.copy(alpha_n).astype(np.float32)\n",
    "# eta = np.copy(eta_n).astype(np.float32)\n",
    "\n",
    "# beta = np.copy(beta_n).astype(np.float32)\n",
    "# phi = [np.full((n, K), 1/K).astype(np.float32) for n in Ns]\n",
    "# gamma = np.copy(gamma_n).astype(np.float32)\n",
    "# lmbd = np.copy(lmbd_n).astype(np.float32)\n",
    "\n",
    "# bb = None\n",
    "# gg = None\n",
    "# ww = None\n",
    "\n",
    "# class Positive(tf.keras.constraints.Constraint):\n",
    "#     def __call__(self, w):\n",
    "#         return w * tf.cast(tf.math.greater(w, 0.), w.dtype)\n",
    "\n",
    "# bb = []\n",
    "# for it in trange(MAX_IT):\n",
    "#     bb2 = []\n",
    "#     gg2 = []\n",
    "#     ww2 = []\n",
    "#     print('before', gamma)\n",
    "#     for d in range(D):\n",
    "#         for n in range(Ns[d]):\n",
    "#             for i in range(K):\n",
    "#                 phi[d][n, i] = beta[i, data_enc.iloc[d][n]] * np.exp(digamma(gamma[d, i]) - digamma(np.sum(gamma[d])))\n",
    "#         phi[d] /= np.sum(phi[d], axis=-1, keepdims=True) + 1e-5\n",
    "        \n",
    "#         for i in range(K):\n",
    "#             gamma[d, i] = alpha[i] + np.sum(phi[d][:, i])\n",
    "#     print('after', gamma)\n",
    "\n",
    "#     lmbd = np.full((K, V), eta)\n",
    "#     for i in range(K):\n",
    "#         for j in range(V):\n",
    "#             for d in range(D):\n",
    "#                 mask = (data_enc.iloc[d] == j)\n",
    "#                 lmbd[i, j] += np.sum(phi[d][:, i]*mask)\n",
    "    \n",
    "     \n",
    "# #     if bb is None:\n",
    "# #         bb = bb2\n",
    "# #         gg = gg2\n",
    "# #         ww = ww2\n",
    "# #         break\n",
    "                \n",
    "#     alpha_t = tf.Variable(alpha, trainable=True, constraint=Positive())\n",
    "#     gamma_t = tf.convert_to_tensor(gamma, dtype=tf.float32)\n",
    "    \n",
    "    \n",
    "#     def f_x():\n",
    "#         g_term = tf.math.reduce_sum(tf.expand_dims((alpha_t - 1), 0)*(tf.math.digamma(gamma_t) - \n",
    "#                                                    tf.math.digamma(tf.math.reduce_sum(gamma_t, axis=1, keepdims=True))), axis=1)\n",
    "#         loss = -tf.math.reduce_sum(tf.math.lgamma(tf.math.reduce_sum(alpha_t)) - tf.math.reduce_sum(tf.math.lgamma(alpha_t)) + g_term)\n",
    "#         return loss\n",
    "    \n",
    "#     for itt in range(10):\n",
    "#         for i in range(K):\n",
    "#             for itt1 in range(50):\n",
    "#                 #with tf.GradientTape() as tape:\n",
    "#                 optim.minimize(f_x, [alpha_t])\n",
    "# #                 grads = tape.gradient(loss, opt_a)\n",
    "# #                 optim.apply_gradients([(grads, opt_a)])\n",
    "#                 alpha[i] = alpha_t.numpy()[i]\n",
    "#                 np.nan_to_num(alpha, copy=False, nan=1e-5)\n",
    "#                 alpha_t.assign(alpha)\n",
    "#         print(alpha_t)\n",
    "#     beta = (lmbd - eta) / (np.sum(lmbd - eta, axis=-1, keepdims=True) + 1e-5)\n",
    "#     break\n",
    "    \n",
    "#     eta_t = tf.Variable(eta, trainable=True, constraint=Positive())\n",
    "    \n",
    "#     @tf.function\n",
    "#     def f_eta():\n",
    "#         loss = K*((eta_t-1)*(tf.math.digamma(eta_t) - tf.math.digamma(eta_t*V)) + tf.math.lgamma(eta_t*V) - V*tf.math.lgamma(eta))\n",
    "#         return loss\n",
    "    \n",
    "#     for itt1 in range(50):\n",
    "#         optim.minimize(f_eta, [eta_t])\n",
    "#     eta = eta_t.numpy()\n",
    "\n",
    "    "
   ]
  },
  {
   "cell_type": "code",
   "execution_count": null,
   "metadata": {},
   "outputs": [],
   "source": []
  }
 ],
 "metadata": {
  "kernelspec": {
   "display_name": "Python 3",
   "language": "python",
   "name": "python3"
  },
  "language_info": {
   "codemirror_mode": {
    "name": "ipython",
    "version": 3
   },
   "file_extension": ".py",
   "mimetype": "text/x-python",
   "name": "python",
   "nbconvert_exporter": "python",
   "pygments_lexer": "ipython3",
   "version": "3.8.5"
  }
 },
 "nbformat": 4,
 "nbformat_minor": 4
}
