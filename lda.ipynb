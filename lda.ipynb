{
 "cells": [
  {
   "cell_type": "code",
   "execution_count": 1,
   "metadata": {
    "scrolled": true
   },
   "outputs": [
    {
     "name": "stderr",
     "output_type": "stream",
     "text": [
      "/home/iron/Repositories/classes/ml_2_classes/ML2_Exercises/pgm/ex7/denys/LDA_nips_papers/.env/lib/python3.8/site-packages/gensim/similarities/__init__.py:15: UserWarning: The gensim.similarities.levenshtein submodule is disabled, because the optional Levenshtein package <https://pypi.org/project/python-Levenshtein/> is unavailable. Install Levenhstein (e.g. `pip install python-Levenshtein`) to suppress this warning.\n",
      "  warnings.warn(msg)\n"
     ]
    }
   ],
   "source": [
    "%matplotlib inline\n",
    "import re\n",
    "import nltk\n",
    "import string\n",
    "from nltk import word_tokenize\n",
    "from nltk.corpus import stopwords\n",
    "from nltk.stem.porter import PorterStemmer\n",
    "from nltk.stem import WordNetLemmatizer\n",
    "from nltk import pos_tag\n",
    "from joblib import Parallel, delayed\n",
    "from tqdm.notebook import tqdm as tqdm\n",
    "from tqdm.notebook import trange\n",
    "import contextlib\n",
    "import joblib\n",
    "from sklearn.model_selection import train_test_split\n",
    "import numpy as np\n",
    "import pandas as pd\n",
    "import edward2 as ed\n",
    "import tensorflow as tf\n",
    "from scipy.special import digamma\n",
    "from pickle import dump, load\n",
    "from scipy.sparse import csr_matrix\n",
    "import tensorflow_probability as tfp\n",
    "from gensim.corpora.dictionary import Dictionary\n",
    "from gensim.models import CoherenceModel\n",
    "import os\n",
    "import sys\n",
    "import time\n",
    "\n",
    "os.environ['CUDA_VISIBLE_DEVICES'] = '0'\n",
    "gpus = tf.config.experimental.list_physical_devices('GPU')\n",
    "for gpu in gpus:\n",
    "    tf.config.experimental.set_memory_growth(gpu, True)\n",
    "# tensorflow does not work with new numpy versions\n",
    "assert np.__version__  < '1.20'\n",
    "\n"
   ]
  },
  {
   "cell_type": "code",
   "execution_count": 2,
   "metadata": {},
   "outputs": [],
   "source": [
    "tqdm.pandas()"
   ]
  },
  {
   "cell_type": "code",
   "execution_count": 3,
   "metadata": {},
   "outputs": [
    {
     "name": "stderr",
     "output_type": "stream",
     "text": [
      "[nltk_data] Downloading package wordnet to /home/iron/nltk_data...\n",
      "[nltk_data]   Package wordnet is already up-to-date!\n"
     ]
    },
    {
     "data": {
      "text/plain": [
       "True"
      ]
     },
     "execution_count": 3,
     "metadata": {},
     "output_type": "execute_result"
    }
   ],
   "source": [
    "nltk.download('wordnet')"
   ]
  },
  {
   "cell_type": "code",
   "execution_count": 4,
   "metadata": {},
   "outputs": [],
   "source": [
    "# data_proc = pd.read_pickle('data_proc.pkl')\n",
    "# data_enc = pd.read_pickle('data.pkl')\n",
    "# with open('word_to_idx.pkl', 'rb') as f:\n",
    "#     words_to_idx = load(f)"
   ]
  },
  {
   "cell_type": "code",
   "execution_count": 5,
   "metadata": {},
   "outputs": [],
   "source": [
    "n = 50\n",
    "seed = 42\n",
    "data = pd.read_csv('nips-papers/papers.csv')\n",
    "data = data[['paper_text']]\n",
    "data_n = data.sample(n=n, random_state=42)"
   ]
  },
  {
   "cell_type": "code",
   "execution_count": 6,
   "metadata": {},
   "outputs": [],
   "source": [
    "# data_n.head()"
   ]
  },
  {
   "cell_type": "code",
   "execution_count": 7,
   "metadata": {},
   "outputs": [],
   "source": [
    "def func(text):\n",
    "    text = text.lower()\n",
    "    text = re.sub(r'(\\d+)', '', text)\n",
    "    text = re.sub(r'(\\n)|(\\t)', ' ', text)\n",
    "    text = text.translate({ ord(c): None for c in string.punctuation })\n",
    "    text = text.strip()\n",
    "    stop_words = set(stopwords.words('english'))\n",
    "    lemmatizer = WordNetLemmatizer()\n",
    "    tokens = word_tokenize(text)\n",
    "    text = [i for i in tokens if not i in stop_words and len(i) > 1]\n",
    "    text = [lemmatizer.lemmatize(word) for word in text]\n",
    "    return text"
   ]
  },
  {
   "cell_type": "code",
   "execution_count": 8,
   "metadata": {},
   "outputs": [
    {
     "data": {
      "application/vnd.jupyter.widget-view+json": {
       "model_id": "f33d2fb1b4ec4d43aa5cfe70e792b886",
       "version_major": 2,
       "version_minor": 0
      },
      "text/plain": [
       "  0%|          | 0/50 [00:00<?, ?it/s]"
      ]
     },
     "metadata": {},
     "output_type": "display_data"
    }
   ],
   "source": [
    "data_proc = data_n['paper_text'].progress_apply(func)"
   ]
  },
  {
   "cell_type": "code",
   "execution_count": 9,
   "metadata": {},
   "outputs": [
    {
     "data": {
      "text/plain": [
       "509     [independent, component, analysis, identificat...\n",
       "2576    [nearmaximum, entropy, model, binary, neural, ...\n",
       "6362    [nearestneighbor, sample, compression, efficie...\n",
       "6173    [efficient, highorder, interactionaware, featu...\n",
       "6552    [multioutput, polynomial, network, factorizati...\n",
       "Name: paper_text, dtype: object"
      ]
     },
     "execution_count": 9,
     "metadata": {},
     "output_type": "execute_result"
    }
   ],
   "source": [
    "data_proc.head()"
   ]
  },
  {
   "cell_type": "code",
   "execution_count": 10,
   "metadata": {},
   "outputs": [],
   "source": [
    "# words_to_idx = {}\n",
    "# idx_to_word = {}\n",
    "# def encode(text, words_to_idx, idx_to_word):\n",
    "#     text_enc = np.empty(len(text), dtype=int)\n",
    "#     for i, word in enumerate(text):\n",
    "#         if word not in words_to_idx:\n",
    "#             idx = words_to_idx[word] = len(words_to_idx)\n",
    "#             idx_to_word[idx] = word\n",
    "#         else:\n",
    "#             idx = words_to_idx[word]\n",
    "#         text_enc[i] = idx\n",
    "#     return text_enc\n",
    "# data_enc = data_proc.progress_apply(encode, args=(words_to_idx, idx_to_word))"
   ]
  },
  {
   "cell_type": "code",
   "execution_count": 11,
   "metadata": {},
   "outputs": [
    {
     "data": {
      "application/vnd.jupyter.widget-view+json": {
       "model_id": "a730912e42d647fa803a0d04b8f95a57",
       "version_major": 2,
       "version_minor": 0
      },
      "text/plain": [
       "  0%|          | 0/50 [00:00<?, ?it/s]"
      ]
     },
     "metadata": {},
     "output_type": "display_data"
    }
   ],
   "source": [
    "def encode2(text, word_dict):\n",
    "    return np.asarray(word_dict.doc2idx(text))\n",
    "\n",
    "word_dict = Dictionary(data_proc)\n",
    "data_enc = data_proc.progress_apply(lambda x: encode2(x, word_dict))"
   ]
  },
  {
   "cell_type": "code",
   "execution_count": 12,
   "metadata": {},
   "outputs": [],
   "source": [
    "# data_proc.to_pickle('data_proc.pkl')\n",
    "# data_enc.to_pickle('data.pkl')\n",
    "\n",
    "# with open('word_to_idx.pkl', 'wb') as f:\n",
    "#     dump(words_to_idx, f)"
   ]
  },
  {
   "cell_type": "code",
   "execution_count": 13,
   "metadata": {},
   "outputs": [],
   "source": [
    "data_train = data_enc.iloc[:n]\n",
    "# data_test = data_enc.iloc[n:]\n",
    "\n",
    "K = 5\n",
    "D = len(data_train)\n",
    "Ns = data_train.apply(lambda x: len(x)).to_numpy().astype(np.int)\n",
    "N = Ns.sum()\n",
    "V = len(word_dict)"
   ]
  },
  {
   "cell_type": "code",
   "execution_count": 14,
   "metadata": {},
   "outputs": [
    {
     "name": "stdout",
     "output_type": "stream",
     "text": [
      "5 50 [1473 2453 3310 3107 3017 1621 1727 1618 3434 1774 1454 1339 2501 1669\n",
      " 1785 1426 1956 2017 2192 1927 2614 2839 1642 2324 1934 3103 3264 2957\n",
      " 2776 1736 3298 2756 1244 1501 1855 1112 1979 2687 1972 2950 2946 2881\n",
      " 2925 2306 2767 3010 1629 1468 2904 1105] 112284 12119\n"
     ]
    }
   ],
   "source": [
    "print(K, D, Ns, N, V)"
   ]
  },
  {
   "cell_type": "code",
   "execution_count": 15,
   "metadata": {},
   "outputs": [],
   "source": [
    "def create_sparse(data, alpha, D, K, V):\n",
    "    Ns = np.empty(D, dtype=np.int)\n",
    "     \n",
    "    for i, doc in enumerate(data):\n",
    "        Ns[i] = len(doc)\n",
    "    \n",
    "    N = Ns.sum()\n",
    "    rows = np.empty(N, dtype=np.int64)\n",
    "    cols = np.empty(N, dtype=np.int64)\n",
    "    v_cols = np.empty(N, dtype=np.int64)\n",
    "    \n",
    "    last_idx = 0\n",
    "    \n",
    "    for i, doc in tqdm(enumerate(data), total=D):\n",
    "        n = len(doc)\n",
    "        rows[last_idx:last_idx+n] = i\n",
    "        cols[last_idx:last_idx+n] = np.arange(n, dtype=np.int64)\n",
    "        v_cols[last_idx:last_idx+n] = doc\n",
    "        last_idx += n\n",
    "        \n",
    "    N_max = Ns.max()\n",
    "    phi_rows = np.repeat(rows, K)\n",
    "    phi_cols = np.repeat(cols, K)\n",
    "    phi3 = np.tile(np.arange(K), len(rows))  \n",
    "    phi_indices = np.vstack((phi_rows, phi_cols, phi3)).T\n",
    "    phi = tf.sparse.SparseTensor(phi_indices, values=tf.fill((len(phi_indices),), 1/K), dense_shape=(D, N_max, K))\n",
    "    phi = tf.sparse.reorder(phi)\n",
    "    gamma_v_cols = np.repeat(v_cols, K)\n",
    "    gamma = tf.expand_dims(alpha, 0) + (Ns / K).reshape(-1, 1)\n",
    "\n",
    "    beta_indices = np.vstack((phi3, gamma_v_cols)).T\n",
    "    gamma_indices = np.vstack((phi_rows, phi3)).T\n",
    "    w_indices = np.vstack((phi_rows, phi_cols, phi3, gamma_v_cols)).T\n",
    "    tmp = tf.sparse.SparseTensor(w_indices, phi.values, dense_shape=(D, N_max, K, V))\n",
    "    tmp = tf.sparse.reorder(tmp)\n",
    "    w_indices = tmp.indices\n",
    "    lmbd = tf.fill((K, V), 1/V)\n",
    "    return phi, gamma, lmbd, tf.constant(beta_indices, dtype=tf.int64), tf.constant(gamma_indices, dtype=tf.int64), tf.constant(w_indices, dtype=tf.int64), N_max"
   ]
  },
  {
   "cell_type": "code",
   "execution_count": 16,
   "metadata": {},
   "outputs": [],
   "source": [
    "# alpha_n = np.random.rand(K).astype(np.float32)\n",
    "# eta_n = np.random.rand(1).astype(np.float32)\n",
    "# beta_n = np.random.dirichlet(np.random.rand(V).astype(np.float32), size=K).astype(np.float32)\n",
    "# phi_n = [np.full((n, K), 1/K).astype(np.float32) for n in Ns]\n",
    "# gamma_n = alpha_n.reshape(1, -1) + Ns.reshape(-1, 1) / K\n",
    "# gammma_n = gamma_n.astype(np.float32)\n",
    "# lmbd_n = np.full((K, V), eta_n)\n",
    "# lmbd_n = lmbd_n.astype(np.float32)"
   ]
  },
  {
   "cell_type": "code",
   "execution_count": 17,
   "metadata": {
    "scrolled": true,
    "tags": []
   },
   "outputs": [],
   "source": [
    "# It tries to estimate also smoothed params, but eta tends to go negative, breaking all the stuff.\n",
    "# Maybe loss is incorrect\n",
    "\n",
    "class Positive(tf.keras.constraints.Constraint):\n",
    "    def __call__(self, w):\n",
    "        return w * tf.cast(tf.math.greater(w, 0.), w.dtype)   \n",
    "    \n",
    "@tf.function\n",
    "def calc_elbo(alpha, beta, eta, phi, gamma, lmbd, w_indices, D, K, N_max, V):\n",
    "    digamma = tf.math.digamma(gamma) - tf.math.digamma(tf.math.reduce_sum(gamma, axis=1, keepdims=True))\n",
    "    ta = tf.math.lgamma(tf.math.reduce_sum(alpha)) - \\\n",
    "                                          tf.math.reduce_sum(tf.math.lgamma(alpha)) + \\\n",
    "                                          tf.math.reduce_sum(tf.expand_dims(alpha - 1, 0)*digamma, axis=1)\n",
    "    zt = tf.sparse.reduce_sum(tf.expand_dims(digamma, 1)*phi, axis=(1, 2))\n",
    "    wzb = tf.math.reduce_sum(tf.expand_dims(tf.math.log1p(beta), axis=0) * tf.sparse.reduce_sum(tf.SparseTensor(w_indices, phi.values, dense_shape=(D, N_max, K, V)), axis=(1)), axis=(1, 2))\n",
    "    bl = tf.math.reduce_sum((eta-1)*tf.math.reduce_sum(tf.math.digamma(lmbd) - tf.math.digamma(tf.math.reduce_sum(lmbd, axis=1, keepdims=True)), axis=1) + \\\n",
    "         tf.math.lgamma(eta*V) - V*tf.math.lgamma(eta))\n",
    "    qt = -tf.math.lgamma(tf.math.reduce_sum(gamma, axis=1)) + tf.math.reduce_sum(tf.math.lgamma(gamma), axis=1) - tf.math.reduce_sum((gamma-1)*digamma, axis=1)\n",
    "    phi_log_phi = tf.sparse.SparseTensor(phi.indices, phi.values*tf.math.log1p(phi.values), dense_shape=[D, N_max, K])\n",
    "    qz = tf.sparse.reduce_sum(phi_log_phi, axis=(1, 2))\n",
    "    elbo = tf.math.reduce_sum(ta + zt + qt + qz)\n",
    "    return elbo\n",
    "\n",
    "@tf.function\n",
    "def e_step_it(alpha, beta_mod, eta, phi, gamma, lmbd, gamma_indices, w_indices, D, K, N_max, V):\n",
    "    # phi\n",
    "    dg = tf.math.exp(tf.math.digamma(gamma) - tf.math.digamma(tf.math.reduce_sum(gamma, axis=1, keepdims=True)))\n",
    "    phi = tf.sparse.SparseTensor(phi.indices, beta_mod*tf.gather_nd(dg, gamma_indices), dense_shape=[D, N_max, K])\n",
    "    phi /= tf.sparse.reduce_sum(phi, axis=2, keepdims=True) + 1e-5\n",
    "    # gamma\n",
    "    gamma = tf.expand_dims(alpha, 0) + tf.sparse.reduce_sum(phi, axis=1)\n",
    "    # lambda\n",
    "    lmbd = eta + tf.sparse.reduce_sum(tf.SparseTensor(w_indices, phi.values, dense_shape=(D, N_max, K, V)), axis=(0, 1))\n",
    "    \n",
    "    gamma.set_shape((D, K))\n",
    "    lmbd.set_shape((K, V))\n",
    "    return phi, gamma, lmbd\n",
    "\n",
    "@tf.function\n",
    "def e_step(alpha, beta, eta, phi, gamma, lmbd, beta_indices, gamma_indices, w_indices, D, K, N_max, V, max_it=1000, rtol=1e-03, atol=1e-03):      \n",
    "    beta_mod = tf.gather_nd(beta, beta_indices)\n",
    "\n",
    "    np_isclose = lambda elbo_old, elbo: np.allclose(elbo_old, elbo, rtol=rtol, atol=atol)\n",
    "    tf_cond = lambda i, elbo_old, elbo, args: tf.logical_and(i < max_it, tf.logical_or(i == 0, tf.logical_not(tf.numpy_function(np_isclose, [elbo_old, elbo], tf.bool))))\n",
    "    \n",
    "    @tf.function\n",
    "    def tf_body(i, elbo_old, elbo, args):\n",
    "        phi, gamma, lmbd = args\n",
    "        i = i + 1\n",
    "        elbo_old = tf.identity(elbo)\n",
    "        phi, gamma, lmbd = e_step_it(alpha, beta_mod, eta, phi, gamma, lmbd, gamma_indices, w_indices, D, K, N_max, V)\n",
    "        elbo = calc_elbo(alpha, beta, eta, phi, gamma, lmbd, w_indices, D, K, N_max, V)\n",
    "        args = (phi, gamma, lmbd)\n",
    "        return (i, elbo_old, elbo, args)\n",
    "    \n",
    "    i = tf.constant(0, name='e_loop_counter')\n",
    "    elbo = tf.constant(np.inf, dtype=tf.float32)\n",
    "    elbo_old = tf.identity(elbo)\n",
    "    args = (phi, gamma, lmbd)\n",
    "    \n",
    "    i, _, elbo, args = tf.while_loop(tf_cond, tf_body, [i, elbo_old, elbo, args], parallel_iterations=1)\n",
    "    phi, gamma, lmbd = args\n",
    "    return phi, gamma, lmbd\n",
    "\n",
    "@tf.function\n",
    "def m_step(alpha, alpha_2, beta, eta, phi, gamma, lmbd, w_indices, D, K, N_max, V, opt, max_it=1000, rtol=1e-03, atol=1e-03):\n",
    "    # beta\n",
    "    beta = tf.sparse.reduce_sum(tf.SparseTensor(w_indices, phi.values, dense_shape=(D, N_max, K, V)), axis=(0, 1))\n",
    "    beta /= tf.math.reduce_sum(beta, axis=1, keepdims=True) + 1e-5\n",
    "    # alpha\n",
    "    digamma = tf.math.reduce_sum(tf.math.digamma(gamma) - tf.math.digamma(tf.math.reduce_sum(gamma, axis=1, keepdims=True)), axis=0)\n",
    "    \n",
    "    @tf.function\n",
    "    def alpha_elbo(alpha, digamma):\n",
    "        val = tf.math.reduce_sum(tf.math.lgamma(tf.math.reduce_sum(alpha)) - \\\n",
    "                                          tf.math.reduce_sum(tf.math.lgamma(alpha)) + \\\n",
    "                                          tf.math.reduce_sum(tf.expand_dims(alpha - 1, 0)*digamma, axis=1))\n",
    "        return val\n",
    "    \n",
    "    alpha_it_cond = lambda i, digamma: i < K\n",
    "    \n",
    "    np_isclose = lambda elbo_old, elbo: np.allclose(elbo_old, elbo, rtol=rtol, atol=atol)\n",
    "    alpha_cond = lambda i, elbo_old, elbo, digamma: tf.logical_and(i < max_it, tf.logical_or(i == 0, tf.logical_not(tf.numpy_function(np_isclose, [elbo_old, elbo], tf.bool))))\n",
    "    \n",
    "    @tf.function\n",
    "    def alpha_it_body(i, digamma):        \n",
    "        def loss_func():\n",
    "            ta = tf.TensorArray(alpha.dtype, size=K, dynamic_size=False)\n",
    "            alpha_copy = ta.unstack(alpha_2)\n",
    "            alpha_copy = alpha_copy.write(i, tf.math.maximum(alpha[i], 1e-5))\n",
    "            alpha_copy = alpha_copy.stack()\n",
    "            alpha.assign(alpha_copy)\n",
    "            alpha_2.assign(alpha_copy)\n",
    "            a = tf.math.reduce_sum((alpha - 1)*digamma)\n",
    "            res = -(D*(tf.math.lgamma(tf.math.reduce_sum(alpha)) - tf.math.reduce_sum(tf.math.lgamma(alpha))) + a)\n",
    "            return res\n",
    "        losses = tfp.math.minimize(loss_func, max_it, opt, convergence_criterion=tfp.optimizer.convergence_criteria.LossNotDecreasing(rtol=rtol, atol=atol), \n",
    "                                   trainable_variables=[alpha])\n",
    "        \n",
    "        ta = tf.TensorArray(alpha.dtype, size=K, dynamic_size=False)\n",
    "        alpha_copy = ta.unstack(alpha_2)\n",
    "        alpha_copy = alpha_copy.write(i, tf.math.maximum(alpha[i], 1e-5))\n",
    "        alpha_copy = alpha_copy.stack()\n",
    "        alpha.assign(alpha_copy)\n",
    "        \n",
    "        return i + 1, digamma\n",
    "    \n",
    "    @tf.function\n",
    "    def alpha_body(i, elbo_old, elbo, digamma):\n",
    "        i = i + 1\n",
    "        j = tf.constant(0)\n",
    "        elbo_old = tf.identity(elbo)\n",
    "        j, _ = tf.while_loop(alpha_it_cond, alpha_it_body, [j, digamma], parallel_iterations=1)\n",
    "#         tf.print(alpha, output_stream=sys.stdout)\n",
    "        elbo = alpha_elbo(alpha, digamma)\n",
    "        return (i, elbo_old, elbo, digamma)\n",
    "    \n",
    "    i = tf.constant(0)\n",
    "    elbo = tf.constant(np.inf, dtype=tf.float32)\n",
    "    elbo_old = tf.identity(elbo)\n",
    "    i, _, elbo, _ = tf.while_loop(alpha_cond, alpha_body, [i, elbo_old, elbo, digamma], parallel_iterations=1)\n",
    "    \n",
    "    di_lmbd = tf.math.reduce_sum(tf.math.digamma(lmbd) - tf.math.digamma(tf.math.reduce_sum(lmbd, axis=1, keepdims=True))) \n",
    "    # eta\n",
    "    def loss_func():\n",
    "        loss_v = -((eta-1)*di_lmbd + K*(tf.math.lgamma(eta*V) - V*tf.math.lgamma(eta)))\n",
    "        return loss_v\n",
    "    \n",
    "    losses = tfp.math.minimize(loss_func, max_it, opt, convergence_criterion=tfp.optimizer.convergence_criteria.LossNotDecreasing(rtol=rtol, atol=atol), trainable_variables=[eta])\n",
    "    eta.assign(tf.math.maximum(eta, 0.1))\n",
    "    return beta\n",
    "\n",
    "def train(data, D, K, V, alpha=None, eta=None, max_it=1000, seed=42, rtol=1e-3, atol=1e-3):\n",
    "    \"\"\"\n",
    "    alpha\n",
    "        The alpha prior. Must be a single value\n",
    "    eta\n",
    "        The eta prior. Must be a single value\n",
    "    \"\"\"\n",
    "    start = time.time()\n",
    "    if alpha:\n",
    "        alpha = tf.zeros((K,)) + alpha\n",
    "    else:\n",
    "        alpha = tf.random.uniform((K,))\n",
    "    \n",
    "    if eta:\n",
    "        eta = tf.zeros((1,)) + eta\n",
    "    else:\n",
    "        eta = tf.random.uniform((1,))\n",
    "        \n",
    "    beta = tf.convert_to_tensor(np.random.dirichlet(np.zeros((V,)) + eta, size=K), dtype=tf.float32)\n",
    "\n",
    "    opt = tf.optimizers.Adam(1e-3)\n",
    "    \n",
    "    phi, gamma, lmbd, beta_indices, gamma_indices, w_indices, N_max = create_sparse(data, alpha, D, K, V)\n",
    "    N_max = N_max.item()\n",
    "    \n",
    "    alpha = tf.Variable(alpha, constraint=Positive())\n",
    "    alpha_2 = tf.Variable(tf.identity(alpha), trainable=False)\n",
    "    eta = tf.Variable(eta, constraint=Positive())\n",
    "\n",
    "    np_isclose = lambda elbo_old, elbo: np.allclose(elbo_old, elbo, rtol=1e-3, atol=1e-3)\n",
    "    train_cond = lambda i, elbo_old, elbo, args: tf.logical_and(i < max_it, tf.logical_or(i == 0, tf.logical_not(tf.numpy_function(np_isclose, [elbo_old, elbo], tf.bool))))\n",
    "    \n",
    "    @tf.function\n",
    "    def train_body(i, elbo_old, elbo, args):\n",
    "        i = i + 1\n",
    "        beta, phi, gamma, lmbd = args\n",
    "        elbo_old = elbo\n",
    "        tf.print(i, ': E step', output_stream=sys.stdout, end='\\t')\n",
    "        phi, gamma, lmbd = e_step(alpha, beta, eta, phi, gamma, lmbd, beta_indices, gamma_indices, w_indices, D, K, N_max, V, atol=atol, rtol=rtol)\n",
    "        tf.print('M step', output_stream=sys.stdout, end='\\t')\n",
    "        beta = m_step(alpha, alpha_2, beta, eta, phi, gamma, lmbd, w_indices, D, K, N_max, V, opt, atol=atol, rtol=rtol)\n",
    "        elbo = calc_elbo(alpha, beta, eta, phi, gamma, lmbd, w_indices, D, K, N_max, V)\n",
    "        tf.print('ELBO =', elbo, output_stream=sys.stdout)\n",
    "        args = (beta, phi, gamma, lmbd)\n",
    "        return i, elbo_old, elbo, args\n",
    "    \n",
    "    i = tf.constant(0)\n",
    "    args = (beta, phi, gamma, lmbd)\n",
    "    elbo = tf.constant(np.inf, dtype=tf.float32)\n",
    "    elbo_old = tf.identity(elbo)\n",
    "    print('Preparing...')\n",
    "    i, elbo_old, elbo, args = tf.while_loop(train_cond, train_body, [i, elbo_old, elbo, args], parallel_iterations=1)\n",
    "    beta, phi, gamma, lmbd = args\n",
    "    tf.print('Converged in', i,  'iterations', output_stream=sys.stdout)\n",
    "    end = time.time()\n",
    "    print('Time:', end-start, 's')\n",
    "    return alpha, beta, eta, phi, gamma, lmbd, elbo\n",
    "\n",
    "# alpha, beta, eta, phi, gamma, lmbd, elbo = train(data_train, D, K, V)"
   ]
  },
  {
   "cell_type": "code",
   "execution_count": 18,
   "metadata": {},
   "outputs": [],
   "source": [
    "# # Generate doc\n",
    "# theta_d = ed.Dirichlet(alpha)\n",
    "# for i in range(100):\n",
    "#     z_dn = ed.Categorical(probs=theta_d)\n",
    "#     w_dn = ed.Categorical(probs=beta[z_dn])\n",
    "#     print(word_dict[w_dn.numpy()])\n"
   ]
  },
  {
   "cell_type": "code",
   "execution_count": null,
   "metadata": {},
   "outputs": [],
   "source": []
  },
  {
   "cell_type": "code",
   "execution_count": 19,
   "metadata": {},
   "outputs": [],
   "source": [
    "# Get topic top words\n",
    "def get_topics(beta, word_dict, k):\n",
    "    topics = []\n",
    "    weights = []\n",
    "    for h in range(k):\n",
    "        top_beta = tf.math.top_k(beta[h], k=10)\n",
    "        topic = [word_dict[i] for i in top_beta[1].numpy()] \n",
    "        weight = list(top_beta[0].numpy())\n",
    "    #     print(([idx_to_word[i] for i in tf.math.top_k(beta[h], k=10)[1].numpy()]))\n",
    "        topics.append(topic)\n",
    "        weights.append(weight)\n",
    "\n",
    "    return (np.asarray(topics), np.asarray(weights))\n",
    "\n",
    "# topics, weights = get_topics(beta, word_dict, K)\n",
    "# topics"
   ]
  },
  {
   "cell_type": "code",
   "execution_count": 20,
   "metadata": {},
   "outputs": [],
   "source": [
    "def get_coherence(topics, text_data, word_dict, coherence_type='c_v'):\n",
    "    coherence_model_lda = CoherenceModel(topics=topics, texts=text_data, dictionary=word_dict, coherence='c_v')\n",
    "    return coherence_model_lda.get_coherence()\n",
    "\n",
    "# coherence = get_coherence(topics, data_proc, word_dict, 'c_v')\n",
    "# coherence"
   ]
  },
  {
   "cell_type": "code",
   "execution_count": null,
   "metadata": {},
   "outputs": [],
   "source": []
  },
  {
   "cell_type": "code",
   "execution_count": null,
   "metadata": {},
   "outputs": [],
   "source": []
  },
  {
   "cell_type": "markdown",
   "metadata": {},
   "source": [
    "Varying topic number"
   ]
  },
  {
   "cell_type": "code",
   "execution_count": 28,
   "metadata": {
    "scrolled": true
   },
   "outputs": [
    {
     "data": {
      "application/vnd.jupyter.widget-view+json": {
       "model_id": "2a937328e7d64b3e9eff4c5fd5fcfd91",
       "version_major": 2,
       "version_minor": 0
      },
      "text/plain": [
       "  0%|          | 0/2 [00:00<?, ?it/s]"
      ]
     },
     "metadata": {},
     "output_type": "display_data"
    },
    {
     "data": {
      "application/vnd.jupyter.widget-view+json": {
       "model_id": "221a0f8b5f5940c0b8d1d8ff43c5adbc",
       "version_major": 2,
       "version_minor": 0
      },
      "text/plain": [
       "  0%|          | 0/25 [00:00<?, ?it/s]"
      ]
     },
     "metadata": {},
     "output_type": "display_data"
    },
    {
     "data": {
      "application/vnd.jupyter.widget-view+json": {
       "model_id": "b8a576e2276b4b329c8c0555be185d44",
       "version_major": 2,
       "version_minor": 0
      },
      "text/plain": [
       "  0%|          | 0/25 [00:00<?, ?it/s]"
      ]
     },
     "metadata": {},
     "output_type": "display_data"
    },
    {
     "data": {
      "application/vnd.jupyter.widget-view+json": {
       "model_id": "f4b22f95bb5f40c28cf388ad6acc982a",
       "version_major": 2,
       "version_minor": 0
      },
      "text/plain": [
       "  0%|          | 0/7 [00:00<?, ?it/s]"
      ]
     },
     "metadata": {},
     "output_type": "display_data"
    },
    {
     "name": "stdout",
     "output_type": "stream",
     "text": [
      "25 1\n"
     ]
    },
    {
     "data": {
      "application/vnd.jupyter.widget-view+json": {
       "model_id": "0204060951c74c06a90dfbddfe6369eb",
       "version_major": 2,
       "version_minor": 0
      },
      "text/plain": [
       "  0%|          | 0/25 [00:00<?, ?it/s]"
      ]
     },
     "metadata": {},
     "output_type": "display_data"
    },
    {
     "name": "stdout",
     "output_type": "stream",
     "text": [
      "Preparing...\n",
      "1 : E step\tM step\tELBO = 22919.4883\n",
      "2 : E step\tM step\tELBO = 31732.4922\n",
      "3 : E step\tM step\tELBO = 32469.7168\n",
      "4 : E step\tM step\tELBO = 32612.8594\n",
      "5 : E step\tM step\tELBO = 32657.9219\n",
      "6 : E step\tM step\tELBO = 32672.0117\n",
      "Converged in 6 iterations\n",
      "Time: 1.8018465042114258 s\n",
      "Coherence: 0.35165287957822305\n",
      "25 4\n"
     ]
    },
    {
     "data": {
      "application/vnd.jupyter.widget-view+json": {
       "model_id": "f9434f3460fb4ec48201b2aa17aa1f5b",
       "version_major": 2,
       "version_minor": 0
      },
      "text/plain": [
       "  0%|          | 0/25 [00:00<?, ?it/s]"
      ]
     },
     "metadata": {},
     "output_type": "display_data"
    },
    {
     "name": "stdout",
     "output_type": "stream",
     "text": [
      "Preparing...\n",
      "1 : E step\tM step\tELBO = -28986.0469\n",
      "2 : E step\tM step\tELBO = -37934.4258\n",
      "3 : E step\tM step\tELBO = -39380.7812\n",
      "4 : E step\tM step\tELBO = -39499.7852\n",
      "5 : E step\tM step\tELBO = -39324.3125\n",
      "6 : E step\tM step\tELBO = -39025.3594\n",
      "7 : E step\tM step\tELBO = -38652.4805\n",
      "8 : E step\tM step\tELBO = -38150.5586\n",
      "9 : E step\tM step\tELBO = -37594.6211\n",
      "10 : E step\tM step\tELBO = -36971.7227\n",
      "11 : E step\tM step\tELBO = -36269.2891\n",
      "12 : E step\tM step\tELBO = -35528.332\n",
      "13 : E step\tM step\tELBO = -34753.7734\n",
      "14 : E step\tM step\tELBO = -33923.6367\n",
      "15 : E step\tM step\tELBO = -33078.0703\n",
      "16 : E step\tM step\tELBO = -32206.7266\n",
      "17 : E step\tM step\tELBO = -31278.6797\n",
      "18 : E step\tM step\tELBO = -30327.1875\n",
      "19 : E step\tM step\tELBO = -29406.3711\n",
      "20 : E step\tM step\tELBO = -28479.502\n",
      "21 : E step\tM step\tELBO = -27501.3418\n",
      "22 : E step\tM step\tELBO = -26479.8555\n",
      "23 : E step\tM step\tELBO = -25416.1406\n",
      "24 : E step\tM step\tELBO = -24267.2578\n",
      "25 : E step\tM step\tELBO = -23134.6816\n",
      "26 : E step\tM step\tELBO = -22008.209\n",
      "27 : E step\tM step\tELBO = -20889.4316\n",
      "28 : E step\tM step\tELBO = -19721.5879\n",
      "29 : E step\tM step\tELBO = -18460.3203\n",
      "30 : E step\tM step\tELBO = -17083.0977\n",
      "31 : E step\tM step\tELBO = -15671.8418\n",
      "32 : E step\tM step\tELBO = -14293.4834\n",
      "33 : E step\tM step\tELBO = -12991.4277\n",
      "34 : E step\tM step\tELBO = -11831.8164\n",
      "35 : E step\tM step\tELBO = -10698.085\n",
      "36 : E step\tM step\tELBO = -9515.72754\n",
      "37 : E step\tM step\tELBO = -8210.84473\n",
      "38 : E step\tM step\tELBO = -6766.86523\n",
      "39 : E step\tM step\tELBO = -5415.85889\n",
      "40 : E step\tM step\tELBO = -4232.56396\n",
      "41 : E step\tM step\tELBO = -3260.39233\n",
      "42 : E step\tM step\tELBO = -2237.52759\n",
      "43 : E step\tM step\tELBO = -1148.60864\n",
      "44 : E step\tM step\tELBO = -73.0314331\n",
      "45 : E step\tM step\tELBO = 931.305725\n",
      "46 : E step\tM step\tELBO = 1881.19702\n",
      "47 : E step\tM step\tELBO = 2828.77734\n",
      "48 : E step\tM step\tELBO = 3871.65942\n",
      "49 : E step\tM step\tELBO = 4923.66\n",
      "50 : E step\tM step\tELBO = 6016.86328\n",
      "51 : E step\tM step\tELBO = 6992.10107\n",
      "52 : E step\tM step\tELBO = 7898.77246\n",
      "53 : E step\tM step\tELBO = 8838.41113\n",
      "54 : E step\tM step\tELBO = 10077.4512\n",
      "55 : E step\tM step\tELBO = 11199.1914\n",
      "56 : E step\tM step\tELBO = 12233.6953\n",
      "57 : E step\tM step\tELBO = 13339.3467\n",
      "58 : E step\tM step\tELBO = 14205.4883\n",
      "59 : E step\tM step\tELBO = 14807.625\n",
      "60 : E step\tM step\tELBO = 15401.3438\n",
      "61 : E step\tM step\tELBO = 16168.1445\n",
      "62 : E step\tM step\tELBO = 16839.3594\n",
      "63 : E step\tM step\tELBO = 17564.2969\n",
      "64 : E step\tM step\tELBO = 18197.7988\n",
      "65 : E step\tM step\tELBO = 18853.4062\n",
      "66 : E step\tM step\tELBO = 19581.4551\n",
      "67 : E step\tM step\tELBO = 20410.4453\n",
      "68 : E step\tM step\tELBO = 21030.9961\n",
      "69 : E step\tM step\tELBO = 21642.3594\n",
      "70 : E step\tM step\tELBO = 22530.7031\n",
      "71 : E step\tM step\tELBO = 23300.9609\n",
      "72 : E step\tM step\tELBO = 23851.4414\n",
      "73 : E step\tM step\tELBO = 24240.8672\n",
      "74 : E step\tM step\tELBO = 24547.0195\n",
      "75 : E step\tM step\tELBO = 24805.2852\n",
      "76 : E step\tM step\tELBO = 25109.2188\n",
      "77 : E step\tM step\tELBO = 25455.3594\n",
      "78 : E step\tM step\tELBO = 25784.0605\n",
      "79 : E step\tM step\tELBO = 26127.9277\n",
      "80 : E step\tM step\tELBO = 26500.9961\n",
      "81 : E step\tM step\tELBO = 26795.3438\n",
      "82 : E step\tM step\tELBO = 27057.8652\n",
      "83 : E step\tM step\tELBO = 27290.5117\n",
      "84 : E step\tM step\tELBO = 27514.2734\n",
      "85 : E step\tM step\tELBO = 27763.8789\n",
      "86 : E step\tM step\tELBO = 28004.291\n",
      "87 : E step\tM step\tELBO = 28180.4121\n",
      "88 : E step\tM step\tELBO = 28332.4473\n",
      "89 : E step\tM step\tELBO = 28448.0195\n",
      "90 : E step\tM step\tELBO = 28605.8223\n",
      "91 : E step\tM step\tELBO = 28768.7363\n",
      "92 : E step\tM step\tELBO = 28926.293\n",
      "93 : E step\tM step\tELBO = 29121.0781\n",
      "94 : E step\tM step\tELBO = 29323.5312\n",
      "95 : E step\tM step\tELBO = 29473.416\n",
      "96 : E step\tM step\tELBO = 29632.1484\n",
      "97 : E step\tM step\tELBO = 29820.8848\n",
      "98 : E step\tM step\tELBO = 30042.9199\n",
      "99 : E step\tM step\tELBO = 30158.2207\n",
      "100 : E step\tM step\tELBO = 30267.625\n",
      "101 : E step\tM step\tELBO = 30364.4141\n",
      "102 : E step\tM step\tELBO = 30426.3105\n",
      "103 : E step\tM step\tELBO = 30488.8496\n",
      "104 : E step\tM step\tELBO = 30549.1953\n",
      "105 : E step\tM step\tELBO = 30603.209\n",
      "106 : E step\tM step\tELBO = 30652.9375\n",
      "107 : E step\tM step\tELBO = 30706.4062\n",
      "108 : E step\tM step\tELBO = 30807.5957\n",
      "109 : E step\tM step\tELBO = 30926.1719\n",
      "110 : E step\tM step\tELBO = 31028.1074\n",
      "111 : E step\tM step\tELBO = 31091.7227\n",
      "112 : E step\tM step\tELBO = 31150.8301\n",
      "113 : E step\tM step\tELBO = 31197.0098\n",
      "114 : E step\tM step\tELBO = 31233.5195\n",
      "115 : E step\tM step\tELBO = 31268.5469\n",
      "116 : E step\tM step\tELBO = 31308.2656\n",
      "117 : E step\tM step\tELBO = 31362.2852\n",
      "118 : E step\tM step\tELBO = 31471.7148\n",
      "119 : E step\tM step\tELBO = 31573.7\n",
      "120 : E step\tM step\tELBO = 31629.1211\n",
      "121 : E step\tM step\tELBO = 31675.291\n",
      "122 : E step\tM step\tELBO = 31714.7969\n",
      "123 : E step\tM step\tELBO = 31747.1738\n",
      "124 : E step\tM step\tELBO = 31776.2891\n",
      "Converged in 124 iterations\n",
      "Time: 149.79778909683228 s\n",
      "Coherence: 0.4046461114408856\n",
      "25 7\n"
     ]
    },
    {
     "data": {
      "application/vnd.jupyter.widget-view+json": {
       "model_id": "0ca2fb7577d04788b20b49280a550904",
       "version_major": 2,
       "version_minor": 0
      },
      "text/plain": [
       "  0%|          | 0/25 [00:00<?, ?it/s]"
      ]
     },
     "metadata": {},
     "output_type": "display_data"
    },
    {
     "name": "stdout",
     "output_type": "stream",
     "text": [
      "Preparing...\n",
      "1 : E step\tM step\tELBO = -75289.6406\n",
      "2 : E step\tM step\tELBO = -73986.7422\n",
      "3 : E step\tM step\tELBO = -63774.4062\n",
      "4 : E step\tM step\tELBO = -50680.543\n",
      "5 : E step\tM step\tELBO = -37550.5117\n",
      "6 : E step\tM step\tELBO = -26167.6055\n",
      "7 : E step\tM step\tELBO = -15863.2324\n",
      "8 : E step\tM step\tELBO = -7176.43066\n",
      "9 : E step\tM step\tELBO = 80.2633057\n",
      "10 : E step\tM step\tELBO = 5614.29639\n",
      "11 : E step\tM step\tELBO = 10046.5322\n",
      "12 : E step\tM step\tELBO = 13513.792\n",
      "13 : E step\tM step\tELBO = 16320.1982\n",
      "14 : E step\tM step\tELBO = 19101.8398\n",
      "15 : E step\tM step\tELBO = 21489.1289\n",
      "16 : E step\tM step\tELBO = 23004.207\n",
      "17 : E step\tM step\tELBO = 24227.5137\n",
      "18 : E step\tM step\tELBO = 25491.0195\n",
      "19 : E step\tM step\tELBO = 26455.1387\n",
      "20 : E step\tM step\tELBO = 27150.3652\n",
      "21 : E step\tM step\tELBO = 27838.4258\n",
      "22 : E step\tM step\tELBO = 28533.6719\n",
      "23 : E step\tM step\tELBO = 29352.3105\n",
      "24 : E step\tM step\tELBO = 30155.2578\n",
      "25 : E step\tM step\tELBO = 30812.0781\n",
      "26 : E step\tM step\tELBO = 31387.5547\n",
      "27 : E step\tM step\tELBO = 31887.0918\n",
      "28 : E step\tM step\tELBO = 32273.791\n",
      "29 : E step\tM step\tELBO = 32597.1777\n",
      "30 : E step\tM step\tELBO = 32855.6\n",
      "31 : E step\tM step\tELBO = 33115.8867\n",
      "32 : E step\tM step\tELBO = 33337.168\n",
      "33 : E step\tM step\tELBO = 33630.5078\n",
      "34 : E step\tM step\tELBO = 33908.2656\n",
      "35 : E step\tM step\tELBO = 34087.3594\n",
      "36 : E step\tM step\tELBO = 34203.7266\n",
      "37 : E step\tM step\tELBO = 34280.6133\n",
      "38 : E step\tM step\tELBO = 34387.6836\n",
      "39 : E step\tM step\tELBO = 34459.4844\n",
      "40 : E step\tM step\tELBO = 34520.6758\n",
      "41 : E step\tM step\tELBO = 34576.4609\n",
      "42 : E step\tM step\tELBO = 34644.0586\n",
      "43 : E step\tM step\tELBO = 34706.8359\n",
      "44 : E step\tM step\tELBO = 34759.9414\n",
      "45 : E step\tM step\tELBO = 34809.4062\n",
      "46 : E step\tM step\tELBO = 34854.832\n",
      "47 : E step\tM step\tELBO = 34900.5625\n",
      "48 : E step\tM step\tELBO = 34938.832\n",
      "49 : E step\tM step\tELBO = 34968.4336\n",
      "Converged in 49 iterations\n",
      "Time: 151.91325569152832 s\n",
      "Coherence: 0.42172893362005726\n",
      "25 10\n"
     ]
    },
    {
     "data": {
      "application/vnd.jupyter.widget-view+json": {
       "model_id": "150f25922e844aa090ebb9406237e0ae",
       "version_major": 2,
       "version_minor": 0
      },
      "text/plain": [
       "  0%|          | 0/25 [00:00<?, ?it/s]"
      ]
     },
     "metadata": {},
     "output_type": "display_data"
    },
    {
     "name": "stdout",
     "output_type": "stream",
     "text": [
      "Preparing...\n",
      "1 : E step\tM step\tELBO = -93005.6641\n",
      "2 : E step\tM step\tELBO = -92324.9062\n",
      "3 : E step\tM step\tELBO = -81063.6328\n",
      "4 : E step\tM step\tELBO = -67388.2109\n",
      "5 : E step\tM step\tELBO = -54816.5078\n",
      "6 : E step\tM step\tELBO = -43916.7148\n",
      "7 : E step\tM step\tELBO = -34706.6445\n",
      "8 : E step\tM step\tELBO = -26854.4629\n",
      "9 : E step\tM step\tELBO = -19465.6211\n",
      "10 : E step\tM step\tELBO = -13302.4648\n",
      "11 : E step\tM step\tELBO = -7678.03125\n",
      "12 : E step\tM step\tELBO = -2406.76904\n",
      "13 : E step\tM step\tELBO = 2024.77722\n",
      "14 : E step\tM step\tELBO = 5831.07324\n",
      "15 : E step\tM step\tELBO = 9142.80859\n",
      "16 : E step\tM step\tELBO = 12219.6221\n",
      "17 : E step\tM step\tELBO = 14857.8359\n",
      "18 : E step\tM step\tELBO = 17135.6582\n",
      "19 : E step\tM step\tELBO = 18916.9238\n",
      "20 : E step\tM step\tELBO = 20384.7637\n",
      "21 : E step\tM step\tELBO = 21872.3965\n",
      "22 : E step\tM step\tELBO = 23241.0078\n",
      "23 : E step\tM step\tELBO = 24598.3203\n",
      "24 : E step\tM step\tELBO = 25770.4355\n",
      "25 : E step\tM step\tELBO = 26927.4707\n",
      "26 : E step\tM step\tELBO = 27975.1699\n",
      "27 : E step\tM step\tELBO = 28844.752\n",
      "28 : E step\tM step\tELBO = 29631.7031\n",
      "29 : E step\tM step\tELBO = 30302.6953\n",
      "30 : E step\tM step\tELBO = 30796.0898\n",
      "31 : E step\tM step\tELBO = 31271.5352\n",
      "32 : E step\tM step\tELBO = 31654.5215\n",
      "33 : E step\tM step\tELBO = 31969.5117\n",
      "34 : E step\tM step\tELBO = 32338.4082\n",
      "35 : E step\tM step\tELBO = 32625.0918\n",
      "36 : E step\tM step\tELBO = 32864.5508\n",
      "37 : E step\tM step\tELBO = 33053.4219\n",
      "38 : E step\tM step\tELBO = 33200.9023\n",
      "39 : E step\tM step\tELBO = 33320.3398\n",
      "40 : E step\tM step\tELBO = 33404.0586\n",
      "41 : E step\tM step\tELBO = 33516.6641\n",
      "42 : E step\tM step\tELBO = 33630.6719\n",
      "43 : E step\tM step\tELBO = 33710.0547\n",
      "44 : E step\tM step\tELBO = 33795.5664\n",
      "45 : E step\tM step\tELBO = 33884.3867\n",
      "46 : E step\tM step\tELBO = 33993.4258\n",
      "47 : E step\tM step\tELBO = 34065.7188\n",
      "48 : E step\tM step\tELBO = 34138.0156\n",
      "49 : E step\tM step\tELBO = 34209.8906\n",
      "50 : E step\tM step\tELBO = 34273.1133\n",
      "51 : E step\tM step\tELBO = 34335.3828\n",
      "52 : E step\tM step\tELBO = 34396.4844\n",
      "53 : E step\tM step\tELBO = 34460.6211\n",
      "54 : E step\tM step\tELBO = 34522.1914\n",
      "55 : E step\tM step\tELBO = 34575.1367\n",
      "56 : E step\tM step\tELBO = 34619.1172\n",
      "57 : E step\tM step\tELBO = 34656.3945\n",
      "58 : E step\tM step\tELBO = 34688.5234\n",
      "Converged in 58 iterations\n",
      "Time: 230.75853848457336 s\n",
      "Coherence: 0.4876157365917299\n",
      "25 13\n"
     ]
    },
    {
     "data": {
      "application/vnd.jupyter.widget-view+json": {
       "model_id": "3456efd7505b4a10b1d97909a2998aee",
       "version_major": 2,
       "version_minor": 0
      },
      "text/plain": [
       "  0%|          | 0/25 [00:00<?, ?it/s]"
      ]
     },
     "metadata": {},
     "output_type": "display_data"
    },
    {
     "name": "stdout",
     "output_type": "stream",
     "text": [
      "Preparing...\n",
      "1 : E step\tM step\tELBO = -106178.359\n",
      "2 : E step\tM step\tELBO = -70349.6484\n",
      "3 : E step\tM step\tELBO = -32144.6133\n",
      "4 : E step\tM step\tELBO = -10263.8896\n",
      "5 : E step\tM step\tELBO = 6515.0166\n",
      "6 : E step\tM step\tELBO = 16641.3691\n",
      "7 : E step\tM step\tELBO = 21497.1797\n",
      "8 : E step\tM step\tELBO = 24945.0039\n",
      "9 : E step\tM step\tELBO = 27500.6797\n",
      "10 : E step\tM step\tELBO = 29115.375\n",
      "11 : E step\tM step\tELBO = 30325.8301\n",
      "12 : E step\tM step\tELBO = 31475.709\n",
      "13 : E step\tM step\tELBO = 32295.4\n",
      "14 : E step\tM step\tELBO = 32901.7344\n",
      "15 : E step\tM step\tELBO = 33438.7031\n",
      "16 : E step\tM step\tELBO = 33823.7266\n",
      "17 : E step\tM step\tELBO = 34128.7266\n",
      "18 : E step\tM step\tELBO = 34344.3945\n",
      "19 : E step\tM step\tELBO = 34528.1641\n",
      "20 : E step\tM step\tELBO = 34672.7109\n",
      "21 : E step\tM step\tELBO = 34796.3086\n",
      "22 : E step\tM step\tELBO = 34890.5469\n",
      "23 : E step\tM step\tELBO = 34975.5195\n",
      "24 : E step\tM step\tELBO = 35052.5352\n",
      "25 : E step\tM step\tELBO = 35128.9023\n",
      "26 : E step\tM step\tELBO = 35199.9219\n",
      "27 : E step\tM step\tELBO = 35261.7656\n",
      "28 : E step\tM step\tELBO = 35314.5352\n",
      "29 : E step\tM step\tELBO = 35369.6484\n",
      "30 : E step\tM step\tELBO = 35438.6406\n",
      "31 : E step\tM step\tELBO = 35502.8438\n",
      "32 : E step\tM step\tELBO = 35546.5469\n",
      "33 : E step\tM step\tELBO = 35573.4922\n",
      "Converged in 33 iterations\n",
      "Time: 188.35602283477783 s\n",
      "Coherence: 0.5022198805864444\n",
      "25 16\n"
     ]
    },
    {
     "data": {
      "application/vnd.jupyter.widget-view+json": {
       "model_id": "f7a372d97d874604b615b4980ea98111",
       "version_major": 2,
       "version_minor": 0
      },
      "text/plain": [
       "  0%|          | 0/25 [00:00<?, ?it/s]"
      ]
     },
     "metadata": {},
     "output_type": "display_data"
    },
    {
     "name": "stdout",
     "output_type": "stream",
     "text": [
      "Preparing...\n",
      "1 : E step\tM step\tELBO = -115312.758\n",
      "2 : E step\tM step\tELBO = -98705.0234\n",
      "3 : E step\tM step\tELBO = -71463.9766\n",
      "4 : E step\tM step\tELBO = -51006.1367\n",
      "5 : E step\tM step\tELBO = -35661.4492\n",
      "6 : E step\tM step\tELBO = -24209.4316\n",
      "7 : E step\tM step\tELBO = -15279.457\n",
      "8 : E step\tM step\tELBO = -8185.74219\n",
      "9 : E step\tM step\tELBO = -2147.4165\n",
      "10 : E step\tM step\tELBO = 3356.7041\n",
      "11 : E step\tM step\tELBO = 7472.52148\n",
      "12 : E step\tM step\tELBO = 10781.9727\n",
      "13 : E step\tM step\tELBO = 13518.6123\n",
      "14 : E step\tM step\tELBO = 15557.5195\n",
      "15 : E step\tM step\tELBO = 17503.4551\n",
      "16 : E step\tM step\tELBO = 19265.8867\n",
      "17 : E step\tM step\tELBO = 20765.7715\n",
      "18 : E step\tM step\tELBO = 22347.1914\n",
      "19 : E step\tM step\tELBO = 23922.8574\n",
      "20 : E step\tM step\tELBO = 25193.7832\n",
      "21 : E step\tM step\tELBO = 26318.25\n",
      "22 : E step\tM step\tELBO = 27539.1016\n",
      "23 : E step\tM step\tELBO = 28386.9492\n",
      "24 : E step\tM step\tELBO = 29110.2715\n",
      "25 : E step\tM step\tELBO = 29741.6309\n",
      "26 : E step\tM step\tELBO = 30252.9238\n",
      "27 : E step\tM step\tELBO = 30692.5352\n",
      "28 : E step\tM step\tELBO = 31101.8594\n",
      "29 : E step\tM step\tELBO = 31479.2617\n",
      "30 : E step\tM step\tELBO = 31854.0859\n",
      "31 : E step\tM step\tELBO = 32177.2266\n",
      "32 : E step\tM step\tELBO = 32515.4941\n",
      "33 : E step\tM step\tELBO = 32661.4629\n",
      "34 : E step\tM step\tELBO = 32780.4727\n",
      "35 : E step\tM step\tELBO = 32856.4844\n",
      "36 : E step\tM step\tELBO = 32960.8789\n",
      "37 : E step\tM step\tELBO = 33062.8867\n",
      "38 : E step\tM step\tELBO = 33167.5078\n",
      "39 : E step\tM step\tELBO = 33241.3867\n",
      "40 : E step\tM step\tELBO = 33300.1055\n",
      "41 : E step\tM step\tELBO = 33339.9375\n",
      "42 : E step\tM step\tELBO = 33373.1914\n",
      "Converged in 42 iterations\n",
      "Time: 290.1474153995514 s\n",
      "Coherence: 0.5861354293097017\n",
      "25 19\n"
     ]
    },
    {
     "data": {
      "application/vnd.jupyter.widget-view+json": {
       "model_id": "7bbd63071e5145a1ba28be7c83004395",
       "version_major": 2,
       "version_minor": 0
      },
      "text/plain": [
       "  0%|          | 0/25 [00:00<?, ?it/s]"
      ]
     },
     "metadata": {},
     "output_type": "display_data"
    },
    {
     "name": "stdout",
     "output_type": "stream",
     "text": [
      "Preparing...\n",
      "1 : E step\tM step\tELBO = -119174.961\n",
      "2 : E step\tM step\tELBO = -81856.7\n",
      "3 : E step\tM step\tELBO = -47982.7305\n",
      "4 : E step\tM step\tELBO = -27379.3438\n",
      "5 : E step\tM step\tELBO = -10065.958\n",
      "6 : E step\tM step\tELBO = 2440.62256\n",
      "7 : E step\tM step\tELBO = 11204.9795\n",
      "8 : E step\tM step\tELBO = 17819.8887\n",
      "9 : E step\tM step\tELBO = 21607.4414\n",
      "10 : E step\tM step\tELBO = 23731.8242\n",
      "11 : E step\tM step\tELBO = 25041.0508\n",
      "12 : E step\tM step\tELBO = 26329.0312\n",
      "13 : E step\tM step\tELBO = 27600.1445\n",
      "14 : E step\tM step\tELBO = 28854.8262\n",
      "15 : E step\tM step\tELBO = 29998.9258\n",
      "16 : E step\tM step\tELBO = 30869.4492\n",
      "17 : E step\tM step\tELBO = 31481.7285\n",
      "18 : E step\tM step\tELBO = 32007.0488\n",
      "19 : E step\tM step\tELBO = 32596.6309\n",
      "20 : E step\tM step\tELBO = 33223.9258\n",
      "21 : E step\tM step\tELBO = 33791.8281\n",
      "22 : E step\tM step\tELBO = 34163.7305\n",
      "23 : E step\tM step\tELBO = 34452.7852\n",
      "24 : E step\tM step\tELBO = 34668.7734\n",
      "25 : E step\tM step\tELBO = 34849.1523\n",
      "26 : E step\tM step\tELBO = 35012.8359\n",
      "27 : E step\tM step\tELBO = 35111.8281\n",
      "28 : E step\tM step\tELBO = 35197.5586\n",
      "29 : E step\tM step\tELBO = 35286\n",
      "30 : E step\tM step\tELBO = 35388.2344\n",
      "31 : E step\tM step\tELBO = 35447.418\n",
      "32 : E step\tM step\tELBO = 35495.6055\n",
      "33 : E step\tM step\tELBO = 35527.7578\n",
      "Converged in 33 iterations\n",
      "Time: 293.5427348613739 s\n",
      "Coherence: 0.6388491374029289\n"
     ]
    },
    {
     "data": {
      "application/vnd.jupyter.widget-view+json": {
       "model_id": "cc2e01c73dcd45a792db0bf73b28bda4",
       "version_major": 2,
       "version_minor": 0
      },
      "text/plain": [
       "  0%|          | 0/50 [00:00<?, ?it/s]"
      ]
     },
     "metadata": {},
     "output_type": "display_data"
    },
    {
     "data": {
      "application/vnd.jupyter.widget-view+json": {
       "model_id": "7e0d3137bb6c4a35a18eaa53cd1e6cf8",
       "version_major": 2,
       "version_minor": 0
      },
      "text/plain": [
       "  0%|          | 0/50 [00:00<?, ?it/s]"
      ]
     },
     "metadata": {},
     "output_type": "display_data"
    },
    {
     "data": {
      "application/vnd.jupyter.widget-view+json": {
       "model_id": "69fd7f84d44741edbff51e8c53eb182a",
       "version_major": 2,
       "version_minor": 0
      },
      "text/plain": [
       "  0%|          | 0/7 [00:00<?, ?it/s]"
      ]
     },
     "metadata": {},
     "output_type": "display_data"
    },
    {
     "name": "stdout",
     "output_type": "stream",
     "text": [
      "50 1\n"
     ]
    },
    {
     "data": {
      "application/vnd.jupyter.widget-view+json": {
       "model_id": "e5db3a27a61b41b4b62a67829d22fa19",
       "version_major": 2,
       "version_minor": 0
      },
      "text/plain": [
       "  0%|          | 0/50 [00:00<?, ?it/s]"
      ]
     },
     "metadata": {},
     "output_type": "display_data"
    },
    {
     "name": "stdout",
     "output_type": "stream",
     "text": [
      "Preparing...\n",
      "1 : E step\tM step\tELBO = 33192.5\n",
      "2 : E step\tM step\tELBO = 55448.5\n",
      "3 : E step\tM step\tELBO = 61502.0234\n",
      "4 : E step\tM step\tELBO = 64345.8203\n",
      "5 : E step\tM step\tELBO = 65438.2812\n",
      "6 : E step\tM step\tELBO = 65951.8281\n",
      "7 : E step\tM step\tELBO = 66277.1562\n",
      "8 : E step\tM step\tELBO = 66420\n",
      "9 : E step\tM step\tELBO = 66488.4531\n",
      "10 : E step\tM step\tELBO = 66543\n",
      "Converged in 10 iterations\n",
      "Time: 3.640429973602295 s\n",
      "Coherence: 0.3785958708378171\n",
      "50 4\n"
     ]
    },
    {
     "data": {
      "application/vnd.jupyter.widget-view+json": {
       "model_id": "930fa75b0e9949b2b0890889a165864f",
       "version_major": 2,
       "version_minor": 0
      },
      "text/plain": [
       "  0%|          | 0/50 [00:00<?, ?it/s]"
      ]
     },
     "metadata": {},
     "output_type": "display_data"
    },
    {
     "name": "stdout",
     "output_type": "stream",
     "text": [
      "Preparing...\n",
      "1 : E step\tM step\tELBO = -90284.0781\n",
      "2 : E step\tM step\tELBO = -96677.1172\n",
      "3 : E step\tM step\tELBO = -92425.6797\n",
      "4 : E step\tM step\tELBO = -87014.375\n",
      "5 : E step\tM step\tELBO = -80293.8203\n",
      "6 : E step\tM step\tELBO = -72507.6\n",
      "7 : E step\tM step\tELBO = -63778.6406\n",
      "8 : E step\tM step\tELBO = -54348.8086\n",
      "9 : E step\tM step\tELBO = -44907.9\n",
      "10 : E step\tM step\tELBO = -35481.8789\n",
      "11 : E step\tM step\tELBO = -25747.0781\n",
      "12 : E step\tM step\tELBO = -15628.2539\n",
      "13 : E step\tM step\tELBO = -5639.48486\n",
      "14 : E step\tM step\tELBO = 3250.11084\n",
      "15 : E step\tM step\tELBO = 11847.835\n",
      "16 : E step\tM step\tELBO = 20457.1309\n",
      "17 : E step\tM step\tELBO = 29116.1836\n",
      "18 : E step\tM step\tELBO = 36468.4688\n",
      "19 : E step\tM step\tELBO = 42284.2852\n",
      "20 : E step\tM step\tELBO = 46739.8281\n",
      "21 : E step\tM step\tELBO = 50162.8125\n",
      "22 : E step\tM step\tELBO = 52868.9297\n",
      "23 : E step\tM step\tELBO = 55220.7109\n",
      "24 : E step\tM step\tELBO = 57041.3867\n",
      "25 : E step\tM step\tELBO = 58333.5234\n",
      "26 : E step\tM step\tELBO = 59253.0391\n",
      "27 : E step\tM step\tELBO = 60014.9102\n",
      "28 : E step\tM step\tELBO = 60655.2734\n",
      "29 : E step\tM step\tELBO = 61350.3398\n",
      "30 : E step\tM step\tELBO = 61952.5312\n",
      "31 : E step\tM step\tELBO = 62381.1\n",
      "32 : E step\tM step\tELBO = 62682.6328\n",
      "33 : E step\tM step\tELBO = 62980.4297\n",
      "34 : E step\tM step\tELBO = 63307.8906\n",
      "35 : E step\tM step\tELBO = 63714.2617\n",
      "36 : E step\tM step\tELBO = 64024.5938\n",
      "37 : E step\tM step\tELBO = 64324.6406\n",
      "38 : E step\tM step\tELBO = 64533.9531\n",
      "39 : E step\tM step\tELBO = 64727.9844\n",
      "40 : E step\tM step\tELBO = 64849.3594\n",
      "41 : E step\tM step\tELBO = 64971.4219\n",
      "42 : E step\tM step\tELBO = 65094.168\n",
      "43 : E step\tM step\tELBO = 65218.4258\n",
      "44 : E step\tM step\tELBO = 65342.668\n",
      "45 : E step\tM step\tELBO = 65466.5117\n",
      "46 : E step\tM step\tELBO = 65578.5391\n",
      "47 : E step\tM step\tELBO = 65682.3438\n",
      "48 : E step\tM step\tELBO = 65777.4062\n",
      "49 : E step\tM step\tELBO = 65854.8125\n",
      "50 : E step\tM step\tELBO = 65922.625\n",
      "51 : E step\tM step\tELBO = 65973.7109\n",
      "Converged in 51 iterations\n",
      "Time: 227.04057693481445 s\n",
      "Coherence: 0.39337543524707214\n",
      "50 7\n"
     ]
    },
    {
     "data": {
      "application/vnd.jupyter.widget-view+json": {
       "model_id": "27c39afc6b554dbd85e5cd992daeac3d",
       "version_major": 2,
       "version_minor": 0
      },
      "text/plain": [
       "  0%|          | 0/50 [00:00<?, ?it/s]"
      ]
     },
     "metadata": {},
     "output_type": "display_data"
    },
    {
     "name": "stdout",
     "output_type": "stream",
     "text": [
      "Preparing...\n",
      "1 : E step\tM step\tELBO = -159173.125\n",
      "2 : E step\tM step\tELBO = -141924.672\n",
      "3 : E step\tM step\tELBO = -100564.797\n",
      "4 : E step\tM step\tELBO = -62438.1172\n",
      "5 : E step\tM step\tELBO = -31690.8047\n",
      "6 : E step\tM step\tELBO = -6811.22754\n",
      "7 : E step\tM step\tELBO = 10733.0605\n",
      "8 : E step\tM step\tELBO = 24570.9492\n",
      "9 : E step\tM step\tELBO = 35032.0039\n",
      "10 : E step\tM step\tELBO = 42149.2695\n",
      "11 : E step\tM step\tELBO = 47334.0508\n",
      "12 : E step\tM step\tELBO = 51619.3828\n",
      "13 : E step\tM step\tELBO = 54979.8906\n",
      "14 : E step\tM step\tELBO = 57662.3906\n",
      "15 : E step\tM step\tELBO = 59751.9375\n",
      "16 : E step\tM step\tELBO = 61398.5977\n",
      "17 : E step\tM step\tELBO = 62714.9297\n",
      "18 : E step\tM step\tELBO = 63730.1094\n",
      "19 : E step\tM step\tELBO = 64787.8516\n",
      "20 : E step\tM step\tELBO = 65765.1094\n",
      "21 : E step\tM step\tELBO = 66653.8047\n",
      "22 : E step\tM step\tELBO = 67347.0312\n",
      "23 : E step\tM step\tELBO = 67841.9062\n",
      "24 : E step\tM step\tELBO = 68268.2578\n",
      "25 : E step\tM step\tELBO = 68595.3\n",
      "26 : E step\tM step\tELBO = 68943.3828\n",
      "27 : E step\tM step\tELBO = 69200.2656\n",
      "28 : E step\tM step\tELBO = 69450.3594\n",
      "29 : E step\tM step\tELBO = 69684.3203\n",
      "30 : E step\tM step\tELBO = 69835.9375\n",
      "31 : E step\tM step\tELBO = 69983.7891\n",
      "32 : E step\tM step\tELBO = 70128.3047\n",
      "33 : E step\tM step\tELBO = 70270.125\n",
      "34 : E step\tM step\tELBO = 70410.2344\n",
      "35 : E step\tM step\tELBO = 70545.5938\n",
      "36 : E step\tM step\tELBO = 70692.8125\n",
      "37 : E step\tM step\tELBO = 70914.7\n",
      "38 : E step\tM step\tELBO = 71060.3672\n",
      "39 : E step\tM step\tELBO = 71198.4531\n",
      "40 : E step\tM step\tELBO = 71330.2266\n",
      "41 : E step\tM step\tELBO = 71449.3047\n",
      "42 : E step\tM step\tELBO = 71557.1641\n",
      "43 : E step\tM step\tELBO = 71649.625\n",
      "44 : E step\tM step\tELBO = 71723.2812\n",
      "45 : E step\tM step\tELBO = 71786.7109\n",
      "Converged in 45 iterations\n",
      "Time: 327.27401518821716 s\n",
      "Coherence: 0.41703488593251636\n",
      "50 10\n"
     ]
    },
    {
     "data": {
      "application/vnd.jupyter.widget-view+json": {
       "model_id": "5fa4d4f7b8f84c49949f1f460658a7ca",
       "version_major": 2,
       "version_minor": 0
      },
      "text/plain": [
       "  0%|          | 0/50 [00:00<?, ?it/s]"
      ]
     },
     "metadata": {},
     "output_type": "display_data"
    },
    {
     "name": "stdout",
     "output_type": "stream",
     "text": [
      "Preparing...\n",
      "1 : E step\tM step\tELBO = -190563.047\n",
      "2 : E step\tM step\tELBO = -150017.578\n",
      "3 : E step\tM step\tELBO = -82285.1\n",
      "4 : E step\tM step\tELBO = -31001.6914\n",
      "5 : E step\tM step\tELBO = 3663.59448\n",
      "6 : E step\tM step\tELBO = 29715.7305\n",
      "7 : E step\tM step\tELBO = 46100.9531\n",
      "8 : E step\tM step\tELBO = 54864.1758\n",
      "9 : E step\tM step\tELBO = 60191.3281\n",
      "10 : E step\tM step\tELBO = 63688.8945\n",
      "11 : E step\tM step\tELBO = 65695.1641\n",
      "12 : E step\tM step\tELBO = 66934.8203\n",
      "13 : E step\tM step\tELBO = 67764.4922\n",
      "14 : E step\tM step\tELBO = 68324.3203\n",
      "15 : E step\tM step\tELBO = 68825.7344\n",
      "16 : E step\tM step\tELBO = 69217.125\n",
      "17 : E step\tM step\tELBO = 69603.8906\n",
      "18 : E step\tM step\tELBO = 69966.0469\n",
      "19 : E step\tM step\tELBO = 70210.0938\n",
      "20 : E step\tM step\tELBO = 70436.8438\n",
      "21 : E step\tM step\tELBO = 70586.4\n",
      "22 : E step\tM step\tELBO = 70729.8359\n",
      "23 : E step\tM step\tELBO = 70861.1328\n",
      "24 : E step\tM step\tELBO = 70977.7188\n",
      "25 : E step\tM step\tELBO = 71069.8828\n",
      "26 : E step\tM step\tELBO = 71144.6406\n",
      "27 : E step\tM step\tELBO = 71214.0156\n",
      "Converged in 27 iterations\n",
      "Time: 346.2421841621399 s\n",
      "Coherence: 0.3872750203386503\n",
      "50 13\n"
     ]
    },
    {
     "data": {
      "application/vnd.jupyter.widget-view+json": {
       "model_id": "a3d688a8ad844ae09d99eddea9477597",
       "version_major": 2,
       "version_minor": 0
      },
      "text/plain": [
       "  0%|          | 0/50 [00:00<?, ?it/s]"
      ]
     },
     "metadata": {},
     "output_type": "display_data"
    },
    {
     "name": "stdout",
     "output_type": "stream",
     "text": [
      "Preparing...\n",
      "1 : E step\tM step\tELBO = -211464.891\n",
      "2 : E step\tM step\tELBO = -168750.453\n",
      "3 : E step\tM step\tELBO = -116233.125\n",
      "4 : E step\tM step\tELBO = -77265.6562\n",
      "5 : E step\tM step\tELBO = -46124.0742\n",
      "6 : E step\tM step\tELBO = -21413.3086\n",
      "7 : E step\tM step\tELBO = -3211.52588\n",
      "8 : E step\tM step\tELBO = 11230.3984\n",
      "9 : E step\tM step\tELBO = 23426.375\n",
      "10 : E step\tM step\tELBO = 33305.7031\n",
      "11 : E step\tM step\tELBO = 41083.332\n",
      "12 : E step\tM step\tELBO = 47234.4414\n",
      "13 : E step\tM step\tELBO = 52356.375\n",
      "14 : E step\tM step\tELBO = 56599.6172\n",
      "15 : E step\tM step\tELBO = 59929.4375\n",
      "16 : E step\tM step\tELBO = 61686.082\n",
      "17 : E step\tM step\tELBO = 62930.9648\n",
      "18 : E step\tM step\tELBO = 63930.6602\n",
      "19 : E step\tM step\tELBO = 64724.5938\n",
      "20 : E step\tM step\tELBO = 65372.3594\n",
      "21 : E step\tM step\tELBO = 66007.7266\n",
      "22 : E step\tM step\tELBO = 66641.0859\n",
      "23 : E step\tM step\tELBO = 67121.2734\n",
      "24 : E step\tM step\tELBO = 67493.9\n",
      "25 : E step\tM step\tELBO = 67764.4297\n",
      "26 : E step\tM step\tELBO = 68027.125\n",
      "27 : E step\tM step\tELBO = 68251.1875\n",
      "28 : E step\tM step\tELBO = 68390.0703\n",
      "29 : E step\tM step\tELBO = 68529.2266\n",
      "30 : E step\tM step\tELBO = 68684.9922\n",
      "31 : E step\tM step\tELBO = 68908.25\n",
      "32 : E step\tM step\tELBO = 69040.2812\n",
      "33 : E step\tM step\tELBO = 69169.3125\n",
      "34 : E step\tM step\tELBO = 69292.125\n",
      "35 : E step\tM step\tELBO = 69395.2578\n",
      "36 : E step\tM step\tELBO = 69490.7344\n",
      "37 : E step\tM step\tELBO = 69580.5547\n",
      "38 : E step\tM step\tELBO = 69657.6797\n",
      "39 : E step\tM step\tELBO = 69713.2578\n",
      "Converged in 39 iterations\n",
      "Time: 607.8695697784424 s\n",
      "Coherence: 0.41003521706100765\n",
      "50 16\n"
     ]
    },
    {
     "data": {
      "application/vnd.jupyter.widget-view+json": {
       "model_id": "8e4ff6d12ded4466bd43aaa590d1bf3d",
       "version_major": 2,
       "version_minor": 0
      },
      "text/plain": [
       "  0%|          | 0/50 [00:00<?, ?it/s]"
      ]
     },
     "metadata": {},
     "output_type": "display_data"
    },
    {
     "name": "stdout",
     "output_type": "stream",
     "text": [
      "Preparing...\n",
      "1 : E step\tM step\tELBO = -230093.203\n",
      "2 : E step\tM step\tELBO = -191752.25\n",
      "3 : E step\tM step\tELBO = -137526.594\n",
      "4 : E step\tM step\tELBO = -96193.7422\n",
      "5 : E step\tM step\tELBO = -62910.4922\n",
      "6 : E step\tM step\tELBO = -37003.6367\n",
      "7 : E step\tM step\tELBO = -16267.0713\n",
      "8 : E step\tM step\tELBO = 1428.06177\n",
      "9 : E step\tM step\tELBO = 17315.9629\n",
      "10 : E step\tM step\tELBO = 30815.082\n",
      "11 : E step\tM step\tELBO = 40777.5234\n",
      "12 : E step\tM step\tELBO = 48404.375\n",
      "13 : E step\tM step\tELBO = 54551.7227\n",
      "14 : E step\tM step\tELBO = 59463.207\n",
      "15 : E step\tM step\tELBO = 63214.7031\n",
      "16 : E step\tM step\tELBO = 66136.2891\n",
      "17 : E step\tM step\tELBO = 68187.0312\n",
      "18 : E step\tM step\tELBO = 69606.9922\n",
      "19 : E step\tM step\tELBO = 70760.3672\n",
      "20 : E step\tM step\tELBO = 71609.2344\n",
      "21 : E step\tM step\tELBO = 72157.5625\n",
      "22 : E step\tM step\tELBO = 72601.0781\n",
      "23 : E step\tM step\tELBO = 72902.25\n",
      "24 : E step\tM step\tELBO = 73140.9297\n",
      "25 : E step\tM step\tELBO = 73275.4141\n",
      "26 : E step\tM step\tELBO = 73393.0156\n",
      "27 : E step\tM step\tELBO = 73525.0625\n",
      "28 : E step\tM step\tELBO = 73680.375\n",
      "29 : E step\tM step\tELBO = 73928.0078\n",
      "30 : E step\tM step\tELBO = 74085.5547\n",
      "31 : E step\tM step\tELBO = 74223.8281\n",
      "32 : E step\tM step\tELBO = 74353.1953\n",
      "33 : E step\tM step\tELBO = 74463.4922\n",
      "34 : E step\tM step\tELBO = 74545.0156\n",
      "35 : E step\tM step\tELBO = 74611.8438\n",
      "Converged in 35 iterations\n",
      "Time: 772.4103109836578 s\n",
      "Coherence: 0.4297129284136896\n",
      "50 19\n"
     ]
    },
    {
     "data": {
      "application/vnd.jupyter.widget-view+json": {
       "model_id": "3d87b11f60ef4d478b52a1cf58cf4805",
       "version_major": 2,
       "version_minor": 0
      },
      "text/plain": [
       "  0%|          | 0/50 [00:00<?, ?it/s]"
      ]
     },
     "metadata": {},
     "output_type": "display_data"
    },
    {
     "name": "stdout",
     "output_type": "stream",
     "text": [
      "Preparing...\n",
      "1 : E step\tM step\tELBO = -233807.828\n",
      "2 : E step\tM step\tELBO = -167326.203\n",
      "3 : E step\tM step\tELBO = -94870.6094\n",
      "4 : E step\tM step\tELBO = -49507.4883\n",
      "5 : E step\tM step\tELBO = -15589.2363\n",
      "6 : E step\tM step\tELBO = 10845.9736\n",
      "7 : E step\tM step\tELBO = 30493.1289\n",
      "8 : E step\tM step\tELBO = 43579.1445\n",
      "9 : E step\tM step\tELBO = 53308.6641\n",
      "10 : E step\tM step\tELBO = 60053.3125\n",
      "11 : E step\tM step\tELBO = 64894.5742\n",
      "12 : E step\tM step\tELBO = 68317.0938\n",
      "13 : E step\tM step\tELBO = 70552.3047\n",
      "14 : E step\tM step\tELBO = 71946.5547\n",
      "15 : E step\tM step\tELBO = 73002.9922\n",
      "16 : E step\tM step\tELBO = 73678.5156\n",
      "17 : E step\tM step\tELBO = 74090.9688\n",
      "18 : E step\tM step\tELBO = 74280.4453\n",
      "19 : E step\tM step\tELBO = 74448.4609\n",
      "20 : E step\tM step\tELBO = 74588.6484\n",
      "21 : E step\tM step\tELBO = 74712.0391\n",
      "22 : E step\tM step\tELBO = 74816.9531\n",
      "23 : E step\tM step\tELBO = 74920.7344\n",
      "24 : E step\tM step\tELBO = 75028.0469\n",
      "25 : E step\tM step\tELBO = 75110.3281\n",
      "26 : E step\tM step\tELBO = 75169.6562\n",
      "Converged in 26 iterations\n",
      "Time: 742.9576961994171 s\n",
      "Coherence: 0.39104898207893485\n"
     ]
    }
   ],
   "source": [
    "import pandas as pd\n",
    "\n",
    "Ns = [25, 50]\n",
    "Ks = range(1, 22, 3)\n",
    "\n",
    "params = []\n",
    "for n in Ns:\n",
    "    n_params = []\n",
    "    for k in Ks:\n",
    "        n_params.append(k)\n",
    "    params.append((n, n_params))\n",
    "\n",
    "\n",
    "i = 0\n",
    "for n, n_params in tqdm(params):\n",
    "    data_n = data.sample(n=n, random_state=42)\n",
    "    data_proc = data_n['paper_text'].progress_apply(func)\n",
    "    word_dict = Dictionary(data_proc)\n",
    "    data_enc = data_proc.progress_apply(lambda x: encode2(x, word_dict))\n",
    "    V = len(word_dict)\n",
    "    \n",
    "    data_train, data_test = data_enc.iloc[:n], data_enc.iloc[n:]\n",
    "\n",
    "    results = pd.DataFrame(columns=[\"N\", \"K\", \"alpha\", \"eta\", \"elbo\", \"coherence\", \"topics\", \"weights\"])\n",
    "    for k in tqdm(n_params):\n",
    "        print(n, k)\n",
    "        alpha, beta, eta, _, _, _, elbo = train(data_train, n, k, V)\n",
    "        topics, weights = get_topics(beta, word_dict, k=k)\n",
    "        coherence = get_coherence(topics, data_proc, word_dict, 'c_v')\n",
    "        \n",
    "        str_topics = repr([list(topic) for topic in topics])\n",
    "        str_weights = repr([list(weight) for weight in weights])\n",
    "        results.loc[i] = n, k, alpha.numpy()[0], eta.numpy()[0], elbo.numpy(), coherence, str_topics, str_weights\n",
    "        \n",
    "        print(\"Coherence:\", coherence)\n",
    "        \n",
    "        i += 1\n",
    "    \n",
    "    results.to_csv(\"results/resultset_topicVariation_{}.csv\".format(n), index=False)"
   ]
  },
  {
   "cell_type": "code",
   "execution_count": 34,
   "metadata": {},
   "outputs": [
    {
     "data": {
      "text/html": [
       "<div>\n",
       "<style scoped>\n",
       "    .dataframe tbody tr th:only-of-type {\n",
       "        vertical-align: middle;\n",
       "    }\n",
       "\n",
       "    .dataframe tbody tr th {\n",
       "        vertical-align: top;\n",
       "    }\n",
       "\n",
       "    .dataframe thead th {\n",
       "        text-align: right;\n",
       "    }\n",
       "</style>\n",
       "<table border=\"1\" class=\"dataframe\">\n",
       "  <thead>\n",
       "    <tr style=\"text-align: right;\">\n",
       "      <th></th>\n",
       "      <th>N</th>\n",
       "      <th>K</th>\n",
       "      <th>alpha</th>\n",
       "      <th>eta</th>\n",
       "      <th>elbo</th>\n",
       "      <th>coherence</th>\n",
       "      <th>topics</th>\n",
       "      <th>weights</th>\n",
       "    </tr>\n",
       "  </thead>\n",
       "  <tbody>\n",
       "    <tr>\n",
       "      <th>6</th>\n",
       "      <td>25</td>\n",
       "      <td>19</td>\n",
       "      <td>0.003644</td>\n",
       "      <td>0.100000</td>\n",
       "      <td>35527.757812</td>\n",
       "      <td>0.638849</td>\n",
       "      <td>[['parameter', 'network', 'le', 'cun', 'functi...</td>\n",
       "      <td>[[0.035464577, 0.029863324, 0.014926663, 0.014...</td>\n",
       "    </tr>\n",
       "    <tr>\n",
       "      <th>5</th>\n",
       "      <td>25</td>\n",
       "      <td>16</td>\n",
       "      <td>0.004042</td>\n",
       "      <td>0.100000</td>\n",
       "      <td>33373.191406</td>\n",
       "      <td>0.586135</td>\n",
       "      <td>[['model', 'linear', 'measurement', 'network',...</td>\n",
       "      <td>[[0.047342263, 0.02057794, 0.019033844, 0.0190...</td>\n",
       "    </tr>\n",
       "    <tr>\n",
       "      <th>4</th>\n",
       "      <td>25</td>\n",
       "      <td>13</td>\n",
       "      <td>0.005750</td>\n",
       "      <td>0.108575</td>\n",
       "      <td>35573.492188</td>\n",
       "      <td>0.502220</td>\n",
       "      <td>[['model', 'gradient', 'input', 'neuron', 'rat...</td>\n",
       "      <td>[[0.01182671, 0.011599081, 0.011143822, 0.0106...</td>\n",
       "    </tr>\n",
       "    <tr>\n",
       "      <th>3</th>\n",
       "      <td>25</td>\n",
       "      <td>10</td>\n",
       "      <td>0.004521</td>\n",
       "      <td>0.117521</td>\n",
       "      <td>34688.523438</td>\n",
       "      <td>0.487616</td>\n",
       "      <td>[['algorithm', 'network', 'vector', 'function'...</td>\n",
       "      <td>[[0.013927267, 0.0100330515, 0.009853327, 0.00...</td>\n",
       "    </tr>\n",
       "    <tr>\n",
       "      <th>2</th>\n",
       "      <td>25</td>\n",
       "      <td>7</td>\n",
       "      <td>0.005387</td>\n",
       "      <td>0.150332</td>\n",
       "      <td>34968.433594</td>\n",
       "      <td>0.421729</td>\n",
       "      <td>[['estimator', 'variance', 'algorithm', 'entro...</td>\n",
       "      <td>[[0.012554257, 0.011562343, 0.011066385, 0.009...</td>\n",
       "    </tr>\n",
       "    <tr>\n",
       "      <th>1</th>\n",
       "      <td>25</td>\n",
       "      <td>4</td>\n",
       "      <td>0.015367</td>\n",
       "      <td>0.209145</td>\n",
       "      <td>31776.289062</td>\n",
       "      <td>0.404646</td>\n",
       "      <td>[['feature', 'algorithm', 'state', 'function',...</td>\n",
       "      <td>[[0.010002329, 0.009881784, 0.009554529, 0.007...</td>\n",
       "    </tr>\n",
       "    <tr>\n",
       "      <th>0</th>\n",
       "      <td>25</td>\n",
       "      <td>1</td>\n",
       "      <td>0.805834</td>\n",
       "      <td>0.485743</td>\n",
       "      <td>32672.011719</td>\n",
       "      <td>0.351653</td>\n",
       "      <td>[['model', 'function', 'set', 'data', 'network...</td>\n",
       "      <td>[[0.010958018, 0.008236332, 0.0057989922, 0.00...</td>\n",
       "    </tr>\n",
       "  </tbody>\n",
       "</table>\n",
       "</div>"
      ],
      "text/plain": [
       "    N   K     alpha       eta          elbo  coherence  \\\n",
       "6  25  19  0.003644  0.100000  35527.757812   0.638849   \n",
       "5  25  16  0.004042  0.100000  33373.191406   0.586135   \n",
       "4  25  13  0.005750  0.108575  35573.492188   0.502220   \n",
       "3  25  10  0.004521  0.117521  34688.523438   0.487616   \n",
       "2  25   7  0.005387  0.150332  34968.433594   0.421729   \n",
       "1  25   4  0.015367  0.209145  31776.289062   0.404646   \n",
       "0  25   1  0.805834  0.485743  32672.011719   0.351653   \n",
       "\n",
       "                                              topics  \\\n",
       "6  [['parameter', 'network', 'le', 'cun', 'functi...   \n",
       "5  [['model', 'linear', 'measurement', 'network',...   \n",
       "4  [['model', 'gradient', 'input', 'neuron', 'rat...   \n",
       "3  [['algorithm', 'network', 'vector', 'function'...   \n",
       "2  [['estimator', 'variance', 'algorithm', 'entro...   \n",
       "1  [['feature', 'algorithm', 'state', 'function',...   \n",
       "0  [['model', 'function', 'set', 'data', 'network...   \n",
       "\n",
       "                                             weights  \n",
       "6  [[0.035464577, 0.029863324, 0.014926663, 0.014...  \n",
       "5  [[0.047342263, 0.02057794, 0.019033844, 0.0190...  \n",
       "4  [[0.01182671, 0.011599081, 0.011143822, 0.0106...  \n",
       "3  [[0.013927267, 0.0100330515, 0.009853327, 0.00...  \n",
       "2  [[0.012554257, 0.011562343, 0.011066385, 0.009...  \n",
       "1  [[0.010002329, 0.009881784, 0.009554529, 0.007...  \n",
       "0  [[0.010958018, 0.008236332, 0.0057989922, 0.00...  "
      ]
     },
     "execution_count": 34,
     "metadata": {},
     "output_type": "execute_result"
    }
   ],
   "source": [
    "df_results_25 = pd.read_csv(\"results/resultset_topicVariation_25.csv\")\n",
    "df_results_25.sort_values(by=\"coherence\", ascending=False)"
   ]
  },
  {
   "cell_type": "code",
   "execution_count": 65,
   "metadata": {},
   "outputs": [
    {
     "data": {
      "image/png": "[encoded data removed]",
      "text/plain": [
       "<Figure size 432x288 with 1 Axes>"
      ]
     },
     "metadata": {
      "needs_background": "light"
     },
     "output_type": "display_data"
    }
   ],
   "source": [
    "import matplotlib.pyplot as plt\n",
    "\n",
    "df_results_25.sort_values(by=\"K\", ascending=True, inplace=True)\n",
    "\n",
    "fig, ax = plt.subplots()\n",
    "\n",
    "ax.plot(df_results_25.K, df_results_25.coherence)\n",
    "ax.set_xlabel(\"Topics\")\n",
    "ax.set_xticks(df_results_25.K)\n",
    "ax.set_ylabel(\"Coherence\")\n",
    "\n",
    "ax.set_title(\"Topic Number vs. Coherence - 25 Documents\")\n",
    "\n",
    "fig.savefig(\"results/resultset_topicVariation_25-TopicVsCoherence.pdf\")"
   ]
  },
  {
   "cell_type": "code",
   "execution_count": 66,
   "metadata": {},
   "outputs": [
    {
     "data": {
      "image/png": "[encoded data removed]",
      "text/plain": [
       "<Figure size 576x288 with 2 Axes>"
      ]
     },
     "metadata": {
      "needs_background": "light"
     },
     "output_type": "display_data"
    }
   ],
   "source": [
    "fig, axes = plt.subplots(ncols=2, figsize=(8,4))\n",
    "axes = axes.flatten()\n",
    "\n",
    "df_results_25.sort_values(by=\"K\", ascending=True, inplace=True)\n",
    "axes[0].plot(df_results_25.K, df_results_25.alpha)\n",
    "axes[0].set_xlabel(\"Topics\")\n",
    "axes[0].set_ylabel(\"$\\\\alpha$\")\n",
    "\n",
    "df_results_25.sort_values(by=\"K\", ascending=True, inplace=True)\n",
    "axes[1].plot(df_results_25.K, df_results_25.eta)\n",
    "axes[1].set_xlabel(\"Topics\")\n",
    "axes[1].set_ylabel(\"$\\eta$\")\n",
    "\n",
    "for ax in axes:\n",
    "    ax.set_xticks(df_results_25.K)\n",
    "    \n",
    "fig.suptitle(\"Optimized priors vs. Topics - 25 documents\")\n",
    "\n",
    "plt.tight_layout()\n",
    "\n",
    "fig.savefig(\"results/resultset_topicVariation_25-TopicVsOptPriors.pdf\")"
   ]
  },
  {
   "cell_type": "code",
   "execution_count": null,
   "metadata": {},
   "outputs": [],
   "source": []
  },
  {
   "cell_type": "code",
   "execution_count": 35,
   "metadata": {},
   "outputs": [
    {
     "data": {
      "text/html": [
       "<div>\n",
       "<style scoped>\n",
       "    .dataframe tbody tr th:only-of-type {\n",
       "        vertical-align: middle;\n",
       "    }\n",
       "\n",
       "    .dataframe tbody tr th {\n",
       "        vertical-align: top;\n",
       "    }\n",
       "\n",
       "    .dataframe thead th {\n",
       "        text-align: right;\n",
       "    }\n",
       "</style>\n",
       "<table border=\"1\" class=\"dataframe\">\n",
       "  <thead>\n",
       "    <tr style=\"text-align: right;\">\n",
       "      <th></th>\n",
       "      <th>N</th>\n",
       "      <th>K</th>\n",
       "      <th>alpha</th>\n",
       "      <th>eta</th>\n",
       "      <th>elbo</th>\n",
       "      <th>coherence</th>\n",
       "      <th>topics</th>\n",
       "      <th>weights</th>\n",
       "    </tr>\n",
       "  </thead>\n",
       "  <tbody>\n",
       "    <tr>\n",
       "      <th>5</th>\n",
       "      <td>50</td>\n",
       "      <td>16</td>\n",
       "      <td>0.005973</td>\n",
       "      <td>0.100000</td>\n",
       "      <td>74611.843750</td>\n",
       "      <td>0.429713</td>\n",
       "      <td>[['neuron', 'word', 'network', 'rate', 'input'...</td>\n",
       "      <td>[[0.017381677, 0.009928102, 0.0097728195, 0.00...</td>\n",
       "    </tr>\n",
       "    <tr>\n",
       "      <th>2</th>\n",
       "      <td>50</td>\n",
       "      <td>7</td>\n",
       "      <td>0.008261</td>\n",
       "      <td>0.138435</td>\n",
       "      <td>71786.710938</td>\n",
       "      <td>0.417035</td>\n",
       "      <td>[['network', 'learning', 'neural', 'dropout', ...</td>\n",
       "      <td>[[0.013721937, 0.012301974, 0.007967052, 0.007...</td>\n",
       "    </tr>\n",
       "    <tr>\n",
       "      <th>4</th>\n",
       "      <td>50</td>\n",
       "      <td>13</td>\n",
       "      <td>0.003404</td>\n",
       "      <td>0.100000</td>\n",
       "      <td>69713.257812</td>\n",
       "      <td>0.410035</td>\n",
       "      <td>[['model', 'reward', 'learning', 'cache', 'fun...</td>\n",
       "      <td>[[0.023894232, 0.013158879, 0.011399826, 0.009...</td>\n",
       "    </tr>\n",
       "    <tr>\n",
       "      <th>1</th>\n",
       "      <td>50</td>\n",
       "      <td>4</td>\n",
       "      <td>0.015376</td>\n",
       "      <td>0.185546</td>\n",
       "      <td>65973.710938</td>\n",
       "      <td>0.393375</td>\n",
       "      <td>[['model', 'data', 'method', 'problem', 'funct...</td>\n",
       "      <td>[[0.010973792, 0.0090039885, 0.006448609, 0.00...</td>\n",
       "    </tr>\n",
       "    <tr>\n",
       "      <th>6</th>\n",
       "      <td>50</td>\n",
       "      <td>19</td>\n",
       "      <td>0.006242</td>\n",
       "      <td>0.100000</td>\n",
       "      <td>75169.656250</td>\n",
       "      <td>0.391049</td>\n",
       "      <td>[['data', 'missing', 'variable', 'harmony', 't...</td>\n",
       "      <td>[[0.018523274, 0.014958474, 0.01353298, 0.0116...</td>\n",
       "    </tr>\n",
       "    <tr>\n",
       "      <th>3</th>\n",
       "      <td>50</td>\n",
       "      <td>10</td>\n",
       "      <td>0.006867</td>\n",
       "      <td>0.115626</td>\n",
       "      <td>71214.015625</td>\n",
       "      <td>0.387275</td>\n",
       "      <td>[['dropout', 'bound', 'probability', 'paramete...</td>\n",
       "      <td>[[0.015388878, 0.01242042, 0.011121718, 0.0091...</td>\n",
       "    </tr>\n",
       "    <tr>\n",
       "      <th>0</th>\n",
       "      <td>50</td>\n",
       "      <td>1</td>\n",
       "      <td>0.079565</td>\n",
       "      <td>0.256711</td>\n",
       "      <td>66543.000000</td>\n",
       "      <td>0.378596</td>\n",
       "      <td>[['model', 'function', 'network', 'learning', ...</td>\n",
       "      <td>[[0.009019472, 0.007822197, 0.00744305, 0.0067...</td>\n",
       "    </tr>\n",
       "  </tbody>\n",
       "</table>\n",
       "</div>"
      ],
      "text/plain": [
       "    N   K     alpha       eta          elbo  coherence  \\\n",
       "5  50  16  0.005973  0.100000  74611.843750   0.429713   \n",
       "2  50   7  0.008261  0.138435  71786.710938   0.417035   \n",
       "4  50  13  0.003404  0.100000  69713.257812   0.410035   \n",
       "1  50   4  0.015376  0.185546  65973.710938   0.393375   \n",
       "6  50  19  0.006242  0.100000  75169.656250   0.391049   \n",
       "3  50  10  0.006867  0.115626  71214.015625   0.387275   \n",
       "0  50   1  0.079565  0.256711  66543.000000   0.378596   \n",
       "\n",
       "                                              topics  \\\n",
       "5  [['neuron', 'word', 'network', 'rate', 'input'...   \n",
       "2  [['network', 'learning', 'neural', 'dropout', ...   \n",
       "4  [['model', 'reward', 'learning', 'cache', 'fun...   \n",
       "1  [['model', 'data', 'method', 'problem', 'funct...   \n",
       "6  [['data', 'missing', 'variable', 'harmony', 't...   \n",
       "3  [['dropout', 'bound', 'probability', 'paramete...   \n",
       "0  [['model', 'function', 'network', 'learning', ...   \n",
       "\n",
       "                                             weights  \n",
       "5  [[0.017381677, 0.009928102, 0.0097728195, 0.00...  \n",
       "2  [[0.013721937, 0.012301974, 0.007967052, 0.007...  \n",
       "4  [[0.023894232, 0.013158879, 0.011399826, 0.009...  \n",
       "1  [[0.010973792, 0.0090039885, 0.006448609, 0.00...  \n",
       "6  [[0.018523274, 0.014958474, 0.01353298, 0.0116...  \n",
       "3  [[0.015388878, 0.01242042, 0.011121718, 0.0091...  \n",
       "0  [[0.009019472, 0.007822197, 0.00744305, 0.0067...  "
      ]
     },
     "execution_count": 35,
     "metadata": {},
     "output_type": "execute_result"
    }
   ],
   "source": [
    "df_results_50 = pd.read_csv(\"results/resultset_topicVariation_50.csv\")\n",
    "df_results_50.sort_values(by=\"coherence\", ascending=False)"
   ]
  },
  {
   "cell_type": "code",
   "execution_count": 67,
   "metadata": {},
   "outputs": [
    {
     "data": {
      "image/png": "[encoded data removed]",
      "text/plain": [
       "<Figure size 432x288 with 1 Axes>"
      ]
     },
     "metadata": {
      "needs_background": "light"
     },
     "output_type": "display_data"
    }
   ],
   "source": [
    "import matplotlib.pyplot as plt\n",
    "\n",
    "df_results_50.sort_values(by=\"K\", ascending=True, inplace=True)\n",
    "\n",
    "fig, ax = plt.subplots()\n",
    "\n",
    "ax.plot(df_results_50.K, df_results_50.coherence)\n",
    "ax.set_xlabel(\"Topics\")\n",
    "ax.set_xticks(df_results_50.K)\n",
    "ax.set_ylabel(\"Coherence\")\n",
    "\n",
    "ax.set_title(\"Topic Number vs. Coherence - 50 Documents\")\n",
    "\n",
    "fig.savefig(\"results/resultset_topicVariation_50-TopicVsCoherence.pdf\")"
   ]
  },
  {
   "cell_type": "code",
   "execution_count": 68,
   "metadata": {},
   "outputs": [
    {
     "data": {
      "image/png": "[encoded data removed]",
      "text/plain": [
       "<Figure size 576x288 with 2 Axes>"
      ]
     },
     "metadata": {
      "needs_background": "light"
     },
     "output_type": "display_data"
    }
   ],
   "source": [
    "fig, axes = plt.subplots(ncols=2, figsize=(8,4))\n",
    "axes = axes.flatten()\n",
    "\n",
    "df_results_50.sort_values(by=\"K\", ascending=True, inplace=True)\n",
    "axes[0].plot(df_results_50.K, df_results_50.alpha)\n",
    "axes[0].set_xlabel(\"Topics\")\n",
    "axes[0].set_ylabel(\"$\\\\alpha$\")\n",
    "\n",
    "df_results_50.sort_values(by=\"K\", ascending=True, inplace=True)\n",
    "axes[1].plot(df_results_50.K, df_results_50.eta)\n",
    "axes[1].set_xlabel(\"Topics\")\n",
    "axes[1].set_ylabel(\"$\\eta$\")\n",
    "\n",
    "for ax in axes:\n",
    "    ax.set_xticks(df_results_50.K)\n",
    "    \n",
    "fig.suptitle(\"Optimized priors vs. Topics - 50 documents\")\n",
    "\n",
    "plt.tight_layout()\n",
    "\n",
    "fig.savefig(\"results/resultset_topicVariation_50-TopicVsOptPriors.pdf\")"
   ]
  },
  {
   "cell_type": "code",
   "execution_count": null,
   "metadata": {},
   "outputs": [],
   "source": []
  },
  {
   "cell_type": "code",
   "execution_count": null,
   "metadata": {
    "tags": []
   },
   "outputs": [],
   "source": [
    "# MAX_IT = 10\n",
    "# EPS = 0.001\n",
    "# tf.executing_eagerly()\n",
    "# optim = tf.keras.optimizers.Adam(1e-3)\n",
    "# # B = ed.Dirichlet(concentration=tf.fill([K, V], 0.1), name=\"topics\")\n",
    "# # Z = ed.DirichletMultinomial(tf.convert_to_tensor(Ns), concentration=tf.fill([D, K], 0.1))\n",
    "# alpha = np.copy(alpha_n).astype(np.float32)\n",
    "# eta = np.copy(eta_n).astype(np.float32)\n",
    "\n",
    "# beta = np.copy(beta_n).astype(np.float32)\n",
    "# phi = [np.full((n, K), 1/K).astype(np.float32) for n in Ns]\n",
    "# gamma = np.copy(gamma_n).astype(np.float32)\n",
    "# lmbd = np.copy(lmbd_n).astype(np.float32)\n",
    "\n",
    "# bb = None\n",
    "# gg = None\n",
    "# ww = None\n",
    "\n",
    "# class Positive(tf.keras.constraints.Constraint):\n",
    "#     def __call__(self, w):\n",
    "#         return w * tf.cast(tf.math.greater(w, 0.), w.dtype)\n",
    "\n",
    "# bb = []\n",
    "# for it in trange(MAX_IT):\n",
    "#     bb2 = []\n",
    "#     gg2 = []\n",
    "#     ww2 = []\n",
    "#     print('before', gamma)\n",
    "#     for d in range(D):\n",
    "#         for n in range(Ns[d]):\n",
    "#             for i in range(K):\n",
    "#                 phi[d][n, i] = beta[i, data_enc.iloc[d][n]] * np.exp(digamma(gamma[d, i]) - digamma(np.sum(gamma[d])))\n",
    "#         phi[d] /= np.sum(phi[d], axis=-1, keepdims=True) + 1e-5\n",
    "        \n",
    "#         for i in range(K):\n",
    "#             gamma[d, i] = alpha[i] + np.sum(phi[d][:, i])\n",
    "#     print('after', gamma)\n",
    "\n",
    "#     lmbd = np.full((K, V), eta)\n",
    "#     for i in range(K):\n",
    "#         for j in range(V):\n",
    "#             for d in range(D):\n",
    "#                 mask = (data_enc.iloc[d] == j)\n",
    "#                 lmbd[i, j] += np.sum(phi[d][:, i]*mask)\n",
    "    \n",
    "     \n",
    "# #     if bb is None:\n",
    "# #         bb = bb2\n",
    "# #         gg = gg2\n",
    "# #         ww = ww2\n",
    "# #         break\n",
    "                \n",
    "#     alpha_t = tf.Variable(alpha, trainable=True, constraint=Positive())\n",
    "#     gamma_t = tf.convert_to_tensor(gamma, dtype=tf.float32)\n",
    "    \n",
    "    \n",
    "#     def f_x():\n",
    "#         g_term = tf.math.reduce_sum(tf.expand_dims((alpha_t - 1), 0)*(tf.math.digamma(gamma_t) - \n",
    "#                                                    tf.math.digamma(tf.math.reduce_sum(gamma_t, axis=1, keepdims=True))), axis=1)\n",
    "#         loss = -tf.math.reduce_sum(tf.math.lgamma(tf.math.reduce_sum(alpha_t)) - tf.math.reduce_sum(tf.math.lgamma(alpha_t)) + g_term)\n",
    "#         return loss\n",
    "    \n",
    "#     for itt in range(10):\n",
    "#         for i in range(K):\n",
    "#             for itt1 in range(50):\n",
    "#                 #with tf.GradientTape() as tape:\n",
    "#                 optim.minimize(f_x, [alpha_t])\n",
    "# #                 grads = tape.gradient(loss, opt_a)\n",
    "# #                 optim.apply_gradients([(grads, opt_a)])\n",
    "#                 alpha[i] = alpha_t.numpy()[i]\n",
    "#                 np.nan_to_num(alpha, copy=False, nan=1e-5)\n",
    "#                 alpha_t.assign(alpha)\n",
    "#         print(alpha_t)\n",
    "#     beta = (lmbd - eta) / (np.sum(lmbd - eta, axis=-1, keepdims=True) + 1e-5)\n",
    "#     break\n",
    "    \n",
    "#     eta_t = tf.Variable(eta, trainable=True, constraint=Positive())\n",
    "    \n",
    "#     @tf.function\n",
    "#     def f_eta():\n",
    "#         loss = K*((eta_t-1)*(tf.math.digamma(eta_t) - tf.math.digamma(eta_t*V)) + tf.math.lgamma(eta_t*V) - V*tf.math.lgamma(eta))\n",
    "#         return loss\n",
    "    \n",
    "#     for itt1 in range(50):\n",
    "#         optim.minimize(f_eta, [eta_t])\n",
    "#     eta = eta_t.numpy()\n",
    "\n",
    "    "
   ]
  },
  {
   "cell_type": "code",
   "execution_count": null,
   "metadata": {},
   "outputs": [],
   "source": []
  }
 ],
 "metadata": {
  "kernelspec": {
   "display_name": "Python 3",
   "language": "python",
   "name": "python3"
  },
  "language_info": {
   "codemirror_mode": {
    "name": "ipython",
    "version": 3
   },
   "file_extension": ".py",
   "mimetype": "text/x-python",
   "name": "python",
   "nbconvert_exporter": "python",
   "pygments_lexer": "ipython3",
   "version": "3.8.5"
  }
 },
 "nbformat": 4,
 "nbformat_minor": 4
}
